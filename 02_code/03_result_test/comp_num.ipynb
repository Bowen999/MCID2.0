{
 "cells": [
  {
   "cell_type": "code",
   "execution_count": 9,
   "id": "f8249a8f",
   "metadata": {},
   "outputs": [],
   "source": [
    "def count_unique_ids(file_path, keyword):\n",
    "    unique_ids = set()\n",
    "    with open(file_path, 'r', encoding='ISO-8859-1', errors='ignore') as file:  # Adjust the encoding as needed\n",
    "        for line in file:\n",
    "            if keyword in line:\n",
    "                id_part = line.split(keyword)[1].strip()\n",
    "                unique_ids.add(id_part)\n",
    "    \n",
    "    return len(unique_ids)"
   ]
  },
  {
   "cell_type": "markdown",
   "id": "ae7b971d",
   "metadata": {},
   "source": [
    "### Algal"
   ]
  },
  {
   "cell_type": "code",
   "execution_count": 10,
   "id": "2d98e2ee",
   "metadata": {},
   "outputs": [
    {
     "name": "stdout",
     "output_type": "stream",
     "text": [
      "Number of unique 'UNIQUE-ID': 7590\n",
      "Number of unique 'SMILES ': 5777\n"
     ]
    }
   ],
   "source": [
    "file_path = '/Users/bowen/Desktop/MCID2.0/01_source_data/microbe/Algal/data/compounds.dat'\n",
    "\n",
    "unique_id_count = count_unique_ids(file_path, 'UNIQUE-ID')\n",
    "print(f\"Number of unique 'UNIQUE-ID': {unique_id_count}\")\n",
    "\n",
    "smiles_count = count_unique_ids(file_path, 'SMILES')\n",
    "print(f\"Number of unique 'SMILES ': {smiles_count}\")"
   ]
  },
  {
   "cell_type": "markdown",
   "id": "d4bfdd71",
   "metadata": {},
   "source": [
    "### E. Coli"
   ]
  },
  {
   "cell_type": "code",
   "execution_count": 12,
   "id": "8ffad998",
   "metadata": {},
   "outputs": [
    {
     "name": "stdout",
     "output_type": "stream",
     "text": [
      "Number of unique 'UNIQUE-ID': 5751\n",
      "Number of unique 'SMILES ': 3928\n"
     ]
    }
   ],
   "source": [
    "file_path = '/Users/bowen/Desktop/MCID2.0/01_source_data/microbe/EcoCyc/data/compounds.dat'\n",
    "\n",
    "unique_id_count = count_unique_ids(file_path, 'UNIQUE-ID')\n",
    "print(f\"Number of unique 'UNIQUE-ID': {unique_id_count}\")\n",
    "\n",
    "smiles_count = count_unique_ids(file_path, 'SMILES')\n",
    "print(f\"Number of unique 'SMILES ': {smiles_count}\")"
   ]
  }
 ],
 "metadata": {
  "kernelspec": {
   "display_name": "Python 3 (ipykernel)",
   "language": "python",
   "name": "python3"
  },
  "language_info": {
   "codemirror_mode": {
    "name": "ipython",
    "version": 3
   },
   "file_extension": ".py",
   "mimetype": "text/x-python",
   "name": "python",
   "nbconvert_exporter": "python",
   "pygments_lexer": "ipython3",
   "version": "3.9.7"
  }
 },
 "nbformat": 4,
 "nbformat_minor": 5
}
