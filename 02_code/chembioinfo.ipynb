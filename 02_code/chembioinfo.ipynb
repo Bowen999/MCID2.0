{
 "cells": [
  {
   "cell_type": "code",
   "execution_count": 36,
   "id": "a49462a4",
   "metadata": {},
   "outputs": [
    {
     "data": {
      "text/plain": [
       "0"
      ]
     },
     "execution_count": 36,
     "metadata": {},
     "output_type": "execute_result"
    }
   ],
   "source": [
    "from rdkit import Chem\n",
    "from rdkit.Chem import AllChem\n",
    "from rdkit.Chem import Draw\n",
    "\n",
    "# SMILES string\n",
    "smiles = \"[H][C@]1(n2cnc3c(N)ncnc32)O[C@H](COP(=O)(O)OP(=O)(O)OP(=O)(O)O)[C@@H](O)[C@H]1O\"\n",
    "\n",
    "# Convert the SMILES string to a RDKit molecule\n",
    "mol = Chem.MolFromSmiles(smiles)\n",
    "\n",
    "# Add hydrogens to the molecule\n",
    "mol = Chem.AddHs(mol)\n",
    "\n",
    "# Generate 3D coordinates\n",
    "AllChem.EmbedMolecule(mol, AllChem.ETKDG())"
   ]
  },
  {
   "cell_type": "code",
   "execution_count": 37,
   "id": "ab40c3fd",
   "metadata": {},
   "outputs": [
    {
     "data": {
      "image/png": "[encoded data removed]",
      "text/plain": [
       "<PIL.PngImagePlugin.PngImageFile image mode=RGB size=300x300 at 0x7FC2C8832610>"
      ]
     },
     "execution_count": 37,
     "metadata": {},
     "output_type": "execute_result"
    }
   ],
   "source": [
    "# Draw.MolToImage(mol).show()\n",
    "# Draw.MolToFile(mol, 'molecule_2d.png')\n",
    "Draw.MolToImage(mol)"
   ]
  },
  {
   "cell_type": "code",
   "execution_count": 38,
   "id": "2e362749",
   "metadata": {},
   "outputs": [
    {
     "data": {
      "application/3dmoljs_load.v0": "<div id=\"3dmolviewer_1706136504881268\"  style=\"position: relative; width: 400px; height: 300px;\">\n        <p id=\"3dmolwarning_1706136504881268\" style=\"background-color:#ffcccc;color:black\">You appear to be running in JupyterLab (or JavaScript failed to load for some other reason).  You need to install the 3dmol extension: <br>\n        <tt>jupyter labextension install jupyterlab_3dmol</tt></p>\n        </div>\n<script>\n\nvar loadScriptAsync = function(uri){\n  return new Promise((resolve, reject) => {\n    //this is to ignore the existence of requirejs amd\n    var savedexports, savedmodule;\n    if (typeof exports !== 'undefined') savedexports = exports;\n    else exports = {}\n    if (typeof module !== 'undefined') savedmodule = module;\n    else module = {}\n\n    var tag = document.createElement('script');\n    tag.src = uri;\n    tag.async = true;\n    tag.onload = () => {\n        exports = savedexports;\n        module = savedmodule;\n        resolve();\n    };\n  var firstScriptTag = document.getElementsByTagName('script')[0];\n  firstScriptTag.parentNode.insertBefore(tag, firstScriptTag);\n});\n};\n\nif(typeof $3Dmolpromise === 'undefined') {\n$3Dmolpromise = null;\n  $3Dmolpromise = loadScriptAsync('https://cdnjs.cloudflare.com/ajax/libs/3Dmol/2.0.4/3Dmol-min.js');\n}\n\nvar viewer_1706136504881268 = null;\nvar warn = document.getElementById(\"3dmolwarning_1706136504881268\");\nif(warn) {\n    warn.parentNode.removeChild(warn);\n}\n$3Dmolpromise.then(function() {\nviewer_1706136504881268 = $3Dmol.createViewer(document.getElementById(\"3dmolviewer_1706136504881268\"),{backgroundColor:\"white\"});\nviewer_1706136504881268.zoomTo();\n\tviewer_1706136504881268.addModel(\"\\n     RDKit          3D\\n\\n 47 49  0  0  0  0  0  0  0  0999 V2000\\n    2.4549   -0.7370    0.3146 C   0  0  1  0  0  0  0  0  0  0  0  0\\n    3.7786   -0.1832    0.2761 N   0  0  0  0  0  0  0  0  0  0  0  0\\n    4.2439    0.7366    1.1281 C   0  0  0  0  0  0  0  0  0  0  0  0\\n    5.5191    1.0513    0.8299 N   0  0  0  0  0  0  0  0  0  0  0  0\\n    5.8600    0.3105   -0.2348 C   0  0  0  0  0  0  0  0  0  0  0  0\\n    7.0332    0.2422   -0.9365 C   0  0  0  0  0  0  0  0  0  0  0  0\\n    8.1173    1.0600   -0.5332 N   0  0  0  0  0  0  0  0  0  0  0  0\\n    7.1159   -0.5966   -1.9816 N   0  0  0  0  0  0  0  0  0  0  0  0\\n    6.0573   -1.3429   -2.3128 C   0  0  0  0  0  0  0  0  0  0  0  0\\n    4.9009   -1.2896   -1.6380 N   0  0  0  0  0  0  0  0  0  0  0  0\\n    4.7637   -0.4705   -0.5876 C   0  0  0  0  0  0  0  0  0  0  0  0\\n    1.4842    0.1806    0.6116 O   0  0  0  0  0  0  0  0  0  0  0  0\\n    0.3975   -0.0097   -0.1960 C   0  0  2  0  0  0  0  0  0  0  0  0\\n   -0.9172    0.1007    0.5517 C   0  0  0  0  0  0  0  0  0  0  0  0\\n   -2.0002   -0.0997   -0.3079 O   0  0  0  0  0  0  0  0  0  0  0  0\\n   -3.4683    0.0139    0.4781 P   0  0  0  0  0  5  0  0  0  0  0  0\\n   -3.7757   -1.3156    1.1396 O   0  0  0  0  0  0  0  0  0  0  0  0\\n   -4.6644    0.4217   -0.6531 O   0  0  0  0  0  0  0  0  0  0  0  0\\n   -3.4855    1.1957    1.6823 O   0  0  0  0  0  0  0  0  0  0  0  0\\n   -5.1114    1.3644    2.1839 P   0  0  0  0  0  5  0  0  0  0  0  0\\n   -5.2013    2.2753    3.4002 O   0  0  0  0  0  0  0  0  0  0  0  0\\n   -5.7112   -0.1526    2.6372 O   0  0  0  0  0  0  0  0  0  0  0  0\\n   -6.0699    2.0206    0.9821 O   0  0  0  0  0  0  0  0  0  0  0  0\\n   -7.4277    1.1088    0.6287 P   0  0  0  0  0  5  0  0  0  0  0  0\\n   -7.2094   -0.3338    1.0778 O   0  0  0  0  0  0  0  0  0  0  0  0\\n   -7.7158    1.0514   -1.0528 O   0  0  0  0  0  0  0  0  0  0  0  0\\n   -8.8120    1.6973    1.4250 O   0  0  0  0  0  0  0  0  0  0  0  0\\n    0.5469   -1.3785   -0.8492 C   0  0  1  0  0  0  0  0  0  0  0  0\\n   -0.0937   -1.4596   -2.0641 O   0  0  0  0  0  0  0  0  0  0  0  0\\n    2.0753   -1.3957   -1.0058 C   0  0  1  0  0  0  0  0  0  0  0  0\\n    2.3611   -0.5488   -2.0696 O   0  0  0  0  0  0  0  0  0  0  0  0\\n    2.3674   -1.5621    1.0812 H   0  0  0  0  0  0  0  0  0  0  0  0\\n    3.7188    1.2003    1.9593 H   0  0  0  0  0  0  0  0  0  0  0  0\\n    7.9284    1.9601   -0.0624 H   0  0  0  0  0  0  0  0  0  0  0  0\\n    9.0774    0.7554   -0.7100 H   0  0  0  0  0  0  0  0  0  0  0  0\\n    6.1826   -2.0152   -3.1817 H   0  0  0  0  0  0  0  0  0  0  0  0\\n    0.4360    0.7480   -1.0077 H   0  0  0  0  0  0  0  0  0  0  0  0\\n   -0.9218   -0.5621    1.4224 H   0  0  0  0  0  0  0  0  0  0  0  0\\n   -0.9820    1.1487    0.9122 H   0  0  0  0  0  0  0  0  0  0  0  0\\n   -4.3763    0.0308   -1.5163 H   0  0  0  0  0  0  0  0  0  0  0  0\\n   -5.7868   -0.2403    3.6161 H   0  0  0  0  0  0  0  0  0  0  0  0\\n   -7.3615    0.2035   -1.4352 H   0  0  0  0  0  0  0  0  0  0  0  0\\n   -9.6234    1.5708    0.8706 H   0  0  0  0  0  0  0  0  0  0  0  0\\n    0.2162   -2.1321   -0.1109 H   0  0  0  0  0  0  0  0  0  0  0  0\\n   -0.9574   -1.9374   -1.9061 H   0  0  0  0  0  0  0  0  0  0  0  0\\n    2.4674   -2.4045   -1.1125 H   0  0  0  0  0  0  0  0  0  0  0  0\\n    2.5693    0.3789   -1.7429 H   0  0  0  0  0  0  0  0  0  0  0  0\\n  1  2  1  0\\n  2  3  1  0\\n  3  4  2  0\\n  4  5  1  0\\n  5  6  2  0\\n  6  7  1  0\\n  6  8  1  0\\n  8  9  2  0\\n  9 10  1  0\\n 10 11  2  0\\n  1 12  1  0\\n 12 13  1  0\\n 13 14  1  0\\n 14 15  1  0\\n 15 16  1  0\\n 16 17  2  0\\n 16 18  1  0\\n 16 19  1  0\\n 19 20  1  0\\n 20 21  2  0\\n 20 22  1  0\\n 20 23  1  0\\n 23 24  1  0\\n 24 25  2  0\\n 24 26  1  0\\n 24 27  1  0\\n 13 28  1  0\\n 28 29  1  0\\n 28 30  1  0\\n 30 31  1  0\\n 30  1  1  0\\n 11  2  1  0\\n 11  5  1  0\\n  1 32  1  1\\n  3 33  1  0\\n  7 34  1  0\\n  7 35  1  0\\n  9 36  1  0\\n 13 37  1  6\\n 14 38  1  0\\n 14 39  1  0\\n 18 40  1  0\\n 22 41  1  0\\n 26 42  1  0\\n 27 43  1  0\\n 28 44  1  1\\n 29 45  1  0\\n 30 46  1  6\\n 31 47  1  0\\nM  END\\n\",\"mol\");\n\tviewer_1706136504881268.setStyle({\"stick\": {}});\n\tviewer_1706136504881268.zoomTo();\nviewer_1706136504881268.render();\n});\n</script>",
      "text/html": [
       "<div id=\"3dmolviewer_1706136504881268\"  style=\"position: relative; width: 400px; height: 300px;\">\n",
       "        <p id=\"3dmolwarning_1706136504881268\" style=\"background-color:#ffcccc;color:black\">You appear to be running in JupyterLab (or JavaScript failed to load for some other reason).  You need to install the 3dmol extension: <br>\n",
       "        <tt>jupyter labextension install jupyterlab_3dmol</tt></p>\n",
       "        </div>\n",
       "<script>\n",
       "\n",
       "var loadScriptAsync = function(uri){\n",
       "  return new Promise((resolve, reject) => {\n",
       "    //this is to ignore the existence of requirejs amd\n",
       "    var savedexports, savedmodule;\n",
       "    if (typeof exports !== 'undefined') savedexports = exports;\n",
       "    else exports = {}\n",
       "    if (typeof module !== 'undefined') savedmodule = module;\n",
       "    else module = {}\n",
       "\n",
       "    var tag = document.createElement('script');\n",
       "    tag.src = uri;\n",
       "    tag.async = true;\n",
       "    tag.onload = () => {\n",
       "        exports = savedexports;\n",
       "        module = savedmodule;\n",
       "        resolve();\n",
       "    };\n",
       "  var firstScriptTag = document.getElementsByTagName('script')[0];\n",
       "  firstScriptTag.parentNode.insertBefore(tag, firstScriptTag);\n",
       "});\n",
       "};\n",
       "\n",
       "if(typeof $3Dmolpromise === 'undefined') {\n",
       "$3Dmolpromise = null;\n",
       "  $3Dmolpromise = loadScriptAsync('https://cdnjs.cloudflare.com/ajax/libs/3Dmol/2.0.4/3Dmol-min.js');\n",
       "}\n",
       "\n",
       "var viewer_1706136504881268 = null;\n",
       "var warn = document.getElementById(\"3dmolwarning_1706136504881268\");\n",
       "if(warn) {\n",
       "    warn.parentNode.removeChild(warn);\n",
       "}\n",
       "$3Dmolpromise.then(function() {\n",
       "viewer_1706136504881268 = $3Dmol.createViewer(document.getElementById(\"3dmolviewer_1706136504881268\"),{backgroundColor:\"white\"});\n",
       "viewer_1706136504881268.zoomTo();\n",
       "\tviewer_1706136504881268.addModel(\"\\n     RDKit          3D\\n\\n 47 49  0  0  0  0  0  0  0  0999 V2000\\n    2.4549   -0.7370    0.3146 C   0  0  1  0  0  0  0  0  0  0  0  0\\n    3.7786   -0.1832    0.2761 N   0  0  0  0  0  0  0  0  0  0  0  0\\n    4.2439    0.7366    1.1281 C   0  0  0  0  0  0  0  0  0  0  0  0\\n    5.5191    1.0513    0.8299 N   0  0  0  0  0  0  0  0  0  0  0  0\\n    5.8600    0.3105   -0.2348 C   0  0  0  0  0  0  0  0  0  0  0  0\\n    7.0332    0.2422   -0.9365 C   0  0  0  0  0  0  0  0  0  0  0  0\\n    8.1173    1.0600   -0.5332 N   0  0  0  0  0  0  0  0  0  0  0  0\\n    7.1159   -0.5966   -1.9816 N   0  0  0  0  0  0  0  0  0  0  0  0\\n    6.0573   -1.3429   -2.3128 C   0  0  0  0  0  0  0  0  0  0  0  0\\n    4.9009   -1.2896   -1.6380 N   0  0  0  0  0  0  0  0  0  0  0  0\\n    4.7637   -0.4705   -0.5876 C   0  0  0  0  0  0  0  0  0  0  0  0\\n    1.4842    0.1806    0.6116 O   0  0  0  0  0  0  0  0  0  0  0  0\\n    0.3975   -0.0097   -0.1960 C   0  0  2  0  0  0  0  0  0  0  0  0\\n   -0.9172    0.1007    0.5517 C   0  0  0  0  0  0  0  0  0  0  0  0\\n   -2.0002   -0.0997   -0.3079 O   0  0  0  0  0  0  0  0  0  0  0  0\\n   -3.4683    0.0139    0.4781 P   0  0  0  0  0  5  0  0  0  0  0  0\\n   -3.7757   -1.3156    1.1396 O   0  0  0  0  0  0  0  0  0  0  0  0\\n   -4.6644    0.4217   -0.6531 O   0  0  0  0  0  0  0  0  0  0  0  0\\n   -3.4855    1.1957    1.6823 O   0  0  0  0  0  0  0  0  0  0  0  0\\n   -5.1114    1.3644    2.1839 P   0  0  0  0  0  5  0  0  0  0  0  0\\n   -5.2013    2.2753    3.4002 O   0  0  0  0  0  0  0  0  0  0  0  0\\n   -5.7112   -0.1526    2.6372 O   0  0  0  0  0  0  0  0  0  0  0  0\\n   -6.0699    2.0206    0.9821 O   0  0  0  0  0  0  0  0  0  0  0  0\\n   -7.4277    1.1088    0.6287 P   0  0  0  0  0  5  0  0  0  0  0  0\\n   -7.2094   -0.3338    1.0778 O   0  0  0  0  0  0  0  0  0  0  0  0\\n   -7.7158    1.0514   -1.0528 O   0  0  0  0  0  0  0  0  0  0  0  0\\n   -8.8120    1.6973    1.4250 O   0  0  0  0  0  0  0  0  0  0  0  0\\n    0.5469   -1.3785   -0.8492 C   0  0  1  0  0  0  0  0  0  0  0  0\\n   -0.0937   -1.4596   -2.0641 O   0  0  0  0  0  0  0  0  0  0  0  0\\n    2.0753   -1.3957   -1.0058 C   0  0  1  0  0  0  0  0  0  0  0  0\\n    2.3611   -0.5488   -2.0696 O   0  0  0  0  0  0  0  0  0  0  0  0\\n    2.3674   -1.5621    1.0812 H   0  0  0  0  0  0  0  0  0  0  0  0\\n    3.7188    1.2003    1.9593 H   0  0  0  0  0  0  0  0  0  0  0  0\\n    7.9284    1.9601   -0.0624 H   0  0  0  0  0  0  0  0  0  0  0  0\\n    9.0774    0.7554   -0.7100 H   0  0  0  0  0  0  0  0  0  0  0  0\\n    6.1826   -2.0152   -3.1817 H   0  0  0  0  0  0  0  0  0  0  0  0\\n    0.4360    0.7480   -1.0077 H   0  0  0  0  0  0  0  0  0  0  0  0\\n   -0.9218   -0.5621    1.4224 H   0  0  0  0  0  0  0  0  0  0  0  0\\n   -0.9820    1.1487    0.9122 H   0  0  0  0  0  0  0  0  0  0  0  0\\n   -4.3763    0.0308   -1.5163 H   0  0  0  0  0  0  0  0  0  0  0  0\\n   -5.7868   -0.2403    3.6161 H   0  0  0  0  0  0  0  0  0  0  0  0\\n   -7.3615    0.2035   -1.4352 H   0  0  0  0  0  0  0  0  0  0  0  0\\n   -9.6234    1.5708    0.8706 H   0  0  0  0  0  0  0  0  0  0  0  0\\n    0.2162   -2.1321   -0.1109 H   0  0  0  0  0  0  0  0  0  0  0  0\\n   -0.9574   -1.9374   -1.9061 H   0  0  0  0  0  0  0  0  0  0  0  0\\n    2.4674   -2.4045   -1.1125 H   0  0  0  0  0  0  0  0  0  0  0  0\\n    2.5693    0.3789   -1.7429 H   0  0  0  0  0  0  0  0  0  0  0  0\\n  1  2  1  0\\n  2  3  1  0\\n  3  4  2  0\\n  4  5  1  0\\n  5  6  2  0\\n  6  7  1  0\\n  6  8  1  0\\n  8  9  2  0\\n  9 10  1  0\\n 10 11  2  0\\n  1 12  1  0\\n 12 13  1  0\\n 13 14  1  0\\n 14 15  1  0\\n 15 16  1  0\\n 16 17  2  0\\n 16 18  1  0\\n 16 19  1  0\\n 19 20  1  0\\n 20 21  2  0\\n 20 22  1  0\\n 20 23  1  0\\n 23 24  1  0\\n 24 25  2  0\\n 24 26  1  0\\n 24 27  1  0\\n 13 28  1  0\\n 28 29  1  0\\n 28 30  1  0\\n 30 31  1  0\\n 30  1  1  0\\n 11  2  1  0\\n 11  5  1  0\\n  1 32  1  1\\n  3 33  1  0\\n  7 34  1  0\\n  7 35  1  0\\n  9 36  1  0\\n 13 37  1  6\\n 14 38  1  0\\n 14 39  1  0\\n 18 40  1  0\\n 22 41  1  0\\n 26 42  1  0\\n 27 43  1  0\\n 28 44  1  1\\n 29 45  1  0\\n 30 46  1  6\\n 31 47  1  0\\nM  END\\n\",\"mol\");\n",
       "\tviewer_1706136504881268.setStyle({\"stick\": {}});\n",
       "\tviewer_1706136504881268.zoomTo();\n",
       "viewer_1706136504881268.render();\n",
       "});\n",
       "</script>"
      ]
     },
     "metadata": {},
     "output_type": "display_data"
    }
   ],
   "source": [
    "import py3Dmol\n",
    "\n",
    "view = py3Dmol.view(width=400, height=300)\n",
    "mb = Chem.MolToMolBlock(mol)\n",
    "view.addModel(mb, 'mol')\n",
    "view.setStyle({'stick': {}})\n",
    "view.zoomTo()\n",
    "view.show()"
   ]
  },
  {
   "cell_type": "code",
   "execution_count": 32,
   "id": "6964ff18",
   "metadata": {},
   "outputs": [],
   "source": [
    "# 分子表示的转化\n",
    "# 结构可视化\n",
    "# 搜索\n",
    "# 反应结果预测\n",
    "# 分子性质的提取"
   ]
  },
  {
   "cell_type": "code",
   "execution_count": 4,
   "id": "2d933148",
   "metadata": {},
   "outputs": [
    {
     "name": "stdout",
     "output_type": "stream",
     "text": [
      "Did not receive image data. Received: <class 'py3Dmol.view'>\n"
     ]
    }
   ],
   "source": [
    "png = view.screenshot(png=True)\n",
    "if isinstance(png, bytes):\n",
    "    with open(\"molecule_image.png\", \"wb\") as file:\n",
    "        file.write(png)\n",
    "else:\n",
    "    print(\"Did not receive image data. Received:\", type(png))"
   ]
  },
  {
   "cell_type": "code",
   "execution_count": 5,
   "id": "0adaf935",
   "metadata": {},
   "outputs": [
    {
     "name": "stdout",
     "output_type": "stream",
     "text": [
      "CCO\n"
     ]
    }
   ],
   "source": [
    "from rdkit import Chem\n",
    "\n",
    "def inchi_to_smiles(inchi):\n",
    "    mol = Chem.MolFromInchi(inchi)\n",
    "    if mol is not None:\n",
    "        return Chem.MolToSmiles(mol)\n",
    "    else:\n",
    "        return \"Invalid InChI\"\n",
    "\n",
    "# Example usage\n",
    "inchi = \"InChI=1S/C2H6O/c1-2-3/h3H,2H2,1H3\"  # Replace this with your InChI\n",
    "smiles = inchi_to_smiles(inchi)\n",
    "print(smiles)\n"
   ]
  },
  {
   "cell_type": "code",
   "execution_count": 6,
   "id": "c5c14f56",
   "metadata": {},
   "outputs": [
    {
     "name": "stdout",
     "output_type": "stream",
     "text": [
      "SMILES: C1=CC(=CC=C1CC(C(=O)O)N)O\n"
     ]
    }
   ],
   "source": [
    "import requests\n",
    "\n",
    "def inchikey_to_smiles(inchikey):\n",
    "    \"\"\"\n",
    "    Retrieve the SMILES string for a given InChIKey using the PubChem API.\n",
    "\n",
    "    Parameters:\n",
    "    inchikey (str): The InChIKey to query.\n",
    "\n",
    "    Returns:\n",
    "    str: The corresponding SMILES string or None if not found.\n",
    "    \"\"\"\n",
    "    url = f\"https://pubchem.ncbi.nlm.nih.gov/rest/pug/compound/inchikey/{inchikey}/property/CanonicalSMILES/JSON\"\n",
    "    response = requests.get(url)\n",
    "    if response.status_code == 200:\n",
    "        data = response.json()\n",
    "        return data['PropertyTable']['Properties'][0]['CanonicalSMILES']\n",
    "    else:\n",
    "        return None\n",
    "\n",
    "# Example usage\n",
    "inchikey = \"OUYCCCASQSFEME-QMMMGPOBSA-N\"  # Replace with your InChIKey\n",
    "smiles = inchikey_to_smiles(inchikey)\n",
    "if smiles:\n",
    "    print(\"SMILES:\", smiles)\n",
    "else:\n",
    "    print(\"SMILES not found for the given InChIKey\")"
   ]
  },
  {
   "cell_type": "code",
   "execution_count": null,
   "id": "d0d22fb2",
   "metadata": {},
   "outputs": [],
   "source": []
  }
 ],
 "metadata": {
  "kernelspec": {
   "display_name": "Python 3 (ipykernel)",
   "language": "python",
   "name": "python3"
  },
  "language_info": {
   "codemirror_mode": {
    "name": "ipython",
    "version": 3
   },
   "file_extension": ".py",
   "mimetype": "text/x-python",
   "name": "python",
   "nbconvert_exporter": "python",
   "pygments_lexer": "ipython3",
   "version": "3.9.7"
  }
 },
 "nbformat": 4,
 "nbformat_minor": 5
}
