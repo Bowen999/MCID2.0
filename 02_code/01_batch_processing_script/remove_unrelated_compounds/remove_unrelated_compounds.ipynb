{
 "cells": [
  {
   "cell_type": "code",
   "execution_count": 56,
   "id": "ca4d14fd",
   "metadata": {},
   "outputs": [],
   "source": [
    "import pandas as pd\n",
    "import ast\n",
    "import re"
   ]
  },
  {
   "cell_type": "markdown",
   "id": "3ddea3c1",
   "metadata": {},
   "source": [
    "# Lipids"
   ]
  },
  {
   "cell_type": "markdown",
   "id": "11d1fbb3",
   "metadata": {},
   "source": [
    "### KEGG"
   ]
  },
  {
   "cell_type": "code",
   "execution_count": 57,
   "id": "ec0829b7",
   "metadata": {},
   "outputs": [],
   "source": [
    "# all lipids in KEGG\n",
    "with open('soup.txt', 'r', encoding='utf-8') as file:\n",
    "    content = file.read()\n",
    "\n",
    "pattern = re.compile(r'\\bC\\d{5}\\b') # Regular expression to find the IDs\n",
    "entry_ids = re.findall(pattern, content)"
   ]
  },
  {
   "cell_type": "code",
   "execution_count": 58,
   "id": "61dcad58",
   "metadata": {
    "scrolled": false
   },
   "outputs": [],
   "source": [
    "kegg = pd.read_csv('/Users/bowen/Desktop/MCID2.0/03_initial_result/01_kegg/0_rxn/kegg_0_rxn.csv')"
   ]
  },
  {
   "cell_type": "code",
   "execution_count": 59,
   "id": "7364cf57",
   "metadata": {},
   "outputs": [
    {
     "name": "stdout",
     "output_type": "stream",
     "text": [
      "3486\n"
     ]
    }
   ],
   "source": [
    "lipid_in_kegg = kegg[kegg['Entry'].isin(entry_ids)]\n",
    "lipid_in_kegg = lipid_in_kegg['InChIKey first block'].to_list()\n",
    "print(len(lipid_in_kegg))"
   ]
  },
  {
   "cell_type": "markdown",
   "id": "03ac7129",
   "metadata": {},
   "source": [
    "#### Lipid Maps"
   ]
  },
  {
   "cell_type": "code",
   "execution_count": 63,
   "id": "6d77bfd8",
   "metadata": {},
   "outputs": [
    {
     "data": {
      "text/plain": [
       "47049"
      ]
     },
     "execution_count": 63,
     "metadata": {},
     "output_type": "execute_result"
    }
   ],
   "source": [
    "lipid_maps = pd.read_csv('output_lipid_map.csv')['InChIKey Main'].to_list()\n",
    "len(lipid_maps)"
   ]
  },
  {
   "cell_type": "markdown",
   "id": "7bdabc6c",
   "metadata": {},
   "source": [
    "### HMDB"
   ]
  },
  {
   "cell_type": "code",
   "execution_count": 65,
   "id": "1f0e66d7",
   "metadata": {},
   "outputs": [],
   "source": [
    "hmdb = pd.read_csv('hmdb_all.csv')"
   ]
  },
  {
   "cell_type": "code",
   "execution_count": 66,
   "id": "906b312c",
   "metadata": {},
   "outputs": [
    {
     "name": "stdout",
     "output_type": "stream",
     "text": [
      "117350\n"
     ]
    }
   ],
   "source": [
    "lipid_in_hmdb = hmdb[hmdb['Super Class']=='Lipids and lipid-like molecules']['InChIKey'].to_list()\n",
    "lipid_in_hmdb = [value[:14] for value in lipid_in_hmdb]\n",
    "print(len(lipid_in_hmdb))"
   ]
  },
  {
   "cell_type": "markdown",
   "id": "cff358ce",
   "metadata": {},
   "source": [
    "# Inorganic"
   ]
  },
  {
   "cell_type": "code",
   "execution_count": 75,
   "id": "78e08729",
   "metadata": {},
   "outputs": [
    {
     "data": {
      "text/plain": [
       "142"
      ]
     },
     "execution_count": 75,
     "metadata": {},
     "output_type": "execute_result"
    }
   ],
   "source": [
    "inorganic = pd.read_csv('inorganic.csv')\n",
    "inorganic = inorganic['InChI Key'].to_list()\n",
    "inorganic = [s[:14] for s in inorganic]\n",
    "len(inorganic)"
   ]
  },
  {
   "cell_type": "markdown",
   "id": "0b7df57d",
   "metadata": {},
   "source": [
    "# Unrelated Compounds"
   ]
  },
  {
   "cell_type": "code",
   "execution_count": 80,
   "id": "b79a8be7",
   "metadata": {},
   "outputs": [
    {
     "name": "stdout",
     "output_type": "stream",
     "text": [
      "# of lipids: 133446\n",
      "total num: 133572\n"
     ]
    }
   ],
   "source": [
    "lipid = lipid_in_hmdb + lipid_in_kegg + lipid_maps\n",
    "seen = set()\n",
    "lipid_list = [x for x in lipid if not (x in seen or seen.add(x))]\n",
    "print('# of lipids:',len(lipid_list))\n",
    "\n",
    "unrelated_comp = lipid + inorganic\n",
    "seen = set()\n",
    "unrelated_comp = [x for x in unrelated_comp if not (x in seen or seen.add(x))]\n",
    "print('total num:', len(unrelated_comp))"
   ]
  }
 ],
 "metadata": {
  "kernelspec": {
   "display_name": "Python 3 (ipykernel)",
   "language": "python",
   "name": "python3"
  },
  "language_info": {
   "codemirror_mode": {
    "name": "ipython",
    "version": 3
   },
   "file_extension": ".py",
   "mimetype": "text/x-python",
   "name": "python",
   "nbconvert_exporter": "python",
   "pygments_lexer": "ipython3",
   "version": "3.9.7"
  }
 },
 "nbformat": 4,
 "nbformat_minor": 5
}
