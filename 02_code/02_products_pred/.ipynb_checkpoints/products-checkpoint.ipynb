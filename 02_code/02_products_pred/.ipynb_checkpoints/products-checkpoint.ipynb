{
 "cells": [
  {
   "cell_type": "markdown",
   "id": "81042c9f",
   "metadata": {},
   "source": [
    "## Functions"
   ]
  },
  {
   "cell_type": "code",
   "execution_count": 2,
   "id": "31760694",
   "metadata": {},
   "outputs": [],
   "source": [
    "from rdkit import Chem\n",
    "from rdkit.Chem import AllChem\n",
    "from rdkit.Chem import Descriptors, rdMolDescriptors\n",
    "from rdkit.Chem import Draw\n",
    "from rdkit.Chem.Draw import IPythonConsole\n",
    "from rdkit.Chem import rdMolDescriptors\n",
    "from rdkit.Chem.rdchem import Mol\n",
    "\n",
    "import matplotlib.pyplot as plt\n",
    "from PIL import Image, ImageDraw\n",
    "\n",
    "import pandas as pd"
   ]
  },
  {
   "cell_type": "code",
   "execution_count": 3,
   "id": "47ee72b8",
   "metadata": {},
   "outputs": [],
   "source": [
    "def predict_products(substrate_smiles, smirks_pattern):\n",
    "    try:\n",
    "        # Convert the substrate SMILES to a molecule object\n",
    "        substrate_mol = Chem.MolFromSmiles(substrate_smiles)\n",
    "        \n",
    "        # Check if conversion was successful; if not, return \"NA\"\n",
    "        if substrate_mol is None:\n",
    "            return \"NA\"\n",
    "        \n",
    "        # Create a reaction object from the SMIRKS pattern\n",
    "        reaction = AllChem.ReactionFromSmarts(smirks_pattern)\n",
    "        \n",
    "        # Apply the reaction to the substrate molecule\n",
    "        products_sets = reaction.RunReactants((substrate_mol,))\n",
    "        \n",
    "        # If no products are generated, return \"NA\"\n",
    "        if not products_sets:\n",
    "            return \"NA\"\n",
    "        \n",
    "        # Initialize a set to store unique product SMILES\n",
    "        unique_products_smiles = set()\n",
    "        \n",
    "        # Iterate through the product sets and convert each product to a SMILES string\n",
    "        for product_set in products_sets:\n",
    "            for product in product_set:\n",
    "                # Canonicalize the SMILES and add to the set to ensure uniqueness\n",
    "                product_smiles = Chem.MolToSmiles(product, isomericSmiles=True)\n",
    "                unique_products_smiles.add(product_smiles)\n",
    "        \n",
    "        # If no unique products were added, return \"NA\"\n",
    "        if not unique_products_smiles:\n",
    "            return \"NA\"\n",
    "        \n",
    "        # Convert the set to a list and return\n",
    "        return list(unique_products_smiles)\n",
    "    \n",
    "    except Exception as e:\n",
    "        # If any error occurs, return \"NA\"\n",
    "        return \"NA\""
   ]
  },
  {
   "cell_type": "code",
   "execution_count": 4,
   "id": "2a211e0b",
   "metadata": {},
   "outputs": [],
   "source": [
    "def filter_by_mass_difference(product_smiles, substrate_smiles, mass_difference):\n",
    "    \"\"\"\n",
    "    Filters a list of product molecules based on their monoisotopic mass difference relative to a substrate molecule, \n",
    "    both represented as SMILES strings. \n",
    "    Products are filtered to either those with the minimum positive mass difference (mass_difference = '+') \n",
    "    or those with the maximum negative mass difference (mass_difference = '-') from the substrate. \n",
    "    Invalid SMILES are ignored.\n",
    "\n",
    "    Args:\n",
    "    product_smiles (list of str): List of SMILES strings for product molecules.\n",
    "    substrate_smiles (str): SMILES string for the substrate molecule.\n",
    "    mass_difference (str): Specifies the direction of mass difference to filter by ('+' for positive, '-' for negative).\n",
    "\n",
    "    Returns:\n",
    "    list of str: SMILES strings of products matching the specified mass difference criteria.\n",
    "\n",
    "    Raises:\n",
    "    ValueError: If substrate SMILES is invalid or mass_difference is not '+' or '-'\"\n",
    "    \"\"\"\n",
    "    try:\n",
    "        # Convert substrate SMILES to molecule and calculate its monoisotopic mass\n",
    "        substrate_mol = Chem.MolFromSmiles(substrate_smiles)\n",
    "        if substrate_mol is None:\n",
    "            raise ValueError(\"Invalid substrate SMILES.\")\n",
    "        \n",
    "        substrate_mass = Descriptors.ExactMolWt(substrate_mol)\n",
    "        \n",
    "        # Initialize a list to hold products and their masses\n",
    "        product_masses = []\n",
    "        \n",
    "        # Iterate through the product SMILES\n",
    "        for smi in product_smiles:\n",
    "            # Convert product SMILES to molecule and calculate its monoisotopic mass\n",
    "            product_mol = Chem.MolFromSmiles(smi)\n",
    "            if product_mol is None:\n",
    "                continue  # Skip invalid product SMILES\n",
    "                \n",
    "            product_mass = Descriptors.ExactMolWt(product_mol)\n",
    "            mass_diff = product_mass - substrate_mass\n",
    "            \n",
    "            # Store product masses and SMILES\n",
    "            if (mass_difference == '+' and mass_diff > 0) or (mass_difference == '-' and mass_diff < 0):\n",
    "                product_masses.append((mass_diff, smi))\n",
    "        \n",
    "        # Filter based on mass_difference criteria\n",
    "        if mass_difference == '+':\n",
    "            # Find the minimum positive mass difference\n",
    "            min_mass_diff = min([x[0] for x in product_masses] or [0])\n",
    "            # Filter products with the minimum mass difference\n",
    "            matching_products = [smi for diff, smi in product_masses if diff == min_mass_diff]\n",
    "        elif mass_difference == '-':\n",
    "            # Find the maximum negative mass difference\n",
    "            max_mass_diff = max([x[0] for x in product_masses] or [0])\n",
    "            # Filter products with the maximum mass difference\n",
    "            matching_products = [smi for diff, smi in product_masses if diff == max_mass_diff]\n",
    "        else:\n",
    "            # If mass_difference is not '+' or '-', return an empty list (or handle as needed)\n",
    "            raise ValueError(\"Invalid mass_difference value. Use '+' or '-'.\")\n",
    "        \n",
    "        return matching_products\n",
    "    \n",
    "    except Exception as e:\n",
    "        # Handle exceptions, possibly logging them or returning an error message\n",
    "        print(f\"An error occurred: {e}\")  # Optionally log the error message\n",
    "        return []"
   ]
  },
  {
   "cell_type": "code",
   "execution_count": 5,
   "id": "32046758",
   "metadata": {},
   "outputs": [],
   "source": [
    "def find_sub_structure(smiles, smarts):\n",
    "    \"\"\"\n",
    "    This function finds and highlights the substructure in a molecule defined by a SMARTS pattern.\n",
    "\n",
    "    Parameters:\n",
    "    - smiles (str): The SMILES representation of the molecule.\n",
    "    - smarts (str): The SMARTS pattern to search for within the molecule.\n",
    "\n",
    "    Returns:\n",
    "    - An image of the molecule with the matching substructure highlighted, if any matches are found.\n",
    "    \"\"\"\n",
    "    # Convert the SMILES string to an RDKit molecule object\n",
    "    mol = Chem.MolFromSmiles(smiles)\n",
    "    if not mol:\n",
    "        return \"Invalid SMILES string.\"\n",
    "\n",
    "    # Convert the SMARTS string to an RDKit molecule object\n",
    "    query = Chem.MolFromSmarts(smarts)\n",
    "    if not query:\n",
    "        return \"Invalid SMARTS pattern.\"\n",
    "\n",
    "    # Find the atoms in the molecule that match the SMARTS pattern\n",
    "    matches = mol.GetSubstructMatches(query, uniquify=False)\n",
    "\n",
    "    print(matches)\n",
    "    img = Draw.MolToImage(mol, highlightAtoms=sum(matches, ()), subImgSize=(500, 500))\n",
    "    return img"
   ]
  },
  {
   "cell_type": "code",
   "execution_count": 6,
   "id": "9dfa3dea",
   "metadata": {},
   "outputs": [],
   "source": [
    "def smarts_to_formula(smarts):\n",
    "    # Convert the SMARTS string to a molecule object\n",
    "    molecule = Chem.MolFromSmarts(smarts)\n",
    "    if molecule is None:\n",
    "        return \"Invalid SMARTS string\"\n",
    "    try:\n",
    "        # Attempt to sanitize the molecule to ensure properties can be calculated\n",
    "        Chem.SanitizeMol(molecule)\n",
    "        # Calculate the molecular formula\n",
    "        formula = rdMolDescriptors.CalcMolFormula(molecule)\n",
    "        return formula + ' (ignore H)'\n",
    "    except Exception as e:\n",
    "        return f\"Error processing molecule: {str(e)}\""
   ]
  },
  {
   "cell_type": "code",
   "execution_count": 7,
   "id": "cb0dea97",
   "metadata": {},
   "outputs": [],
   "source": [
    "# Plot a pipe: substract -> reaction group -> product\n",
    "# usage: plot_reaction_scheme(substrate, product, smarts)\n",
    "\n",
    "# def find_sub_structure(substrate, smarts):\n",
    "#     try:\n",
    "#         substructure = substrate.GetSubstructMatch(Chem.MolFromSmarts(smarts))\n",
    "#         if substructure:\n",
    "#             img = Draw.MolToImage(substrate, highlightAtoms=substructure, size=(300, 300))\n",
    "#             return img\n",
    "#         else:\n",
    "#             raise ValueError(\"Substructure matching failed.\")\n",
    "#     except Exception as e:\n",
    "#         # If anything goes wrong, return a placeholder image with \"Missing\"\n",
    "#         img = Image.new('RGB', (300, 300), color = (255, 255, 255))\n",
    "#         d = ImageDraw.Draw(img)\n",
    "#         d.text((10,10), \"Missing\", fill=(0,0,0))\n",
    "#         return img\n",
    "\n",
    "def plot_reaction_scheme(substrate_smiles, product_smiles, smarts_pattern):\n",
    "    try:\n",
    "        # Create RDKit molecule objects\n",
    "        mol_substrate = Chem.MolFromSmiles(substrate_smiles)\n",
    "        mol_product = Chem.MolFromSmiles(product_smiles)\n",
    "\n",
    "        # Generate images for the substrate and product\n",
    "        substrate_img = Draw.MolToImage(mol_substrate, size=(300, 300))\n",
    "        product_img = Draw.MolToImage(mol_product, size=(300, 300))\n",
    "\n",
    "        # Find and generate the sub-structure image\n",
    "        sub_structure_img = find_sub_structure(mol_substrate, smarts_pattern)\n",
    "    except Exception as e:\n",
    "        print(f\"Error processing molecules: {e}\")\n",
    "        return\n",
    "\n",
    "    # Create a figure and axes with 1 row and 5 columns\n",
    "    fig, ax = plt.subplots(1, 5, figsize=(15, 3))\n",
    "\n",
    "    # Plotting substrate\n",
    "    try:\n",
    "        ax[0].imshow(substrate_img)\n",
    "    except Exception:\n",
    "        ax[0].text(0.5, 0.5, 'Missing', horizontalalignment='center', verticalalignment='center')\n",
    "    ax[0].axis(\"off\")\n",
    "\n",
    "    # First arrow\n",
    "    ax[1].text(0.5, 0.5, '→', horizontalalignment='center', verticalalignment='center', fontsize=30, color=\"darkgrey\")\n",
    "    ax[1].axis(\"off\")\n",
    "\n",
    "    # Plotting sub-structure\n",
    "    try:\n",
    "        ax[2].imshow(sub_structure_img)\n",
    "    except Exception:\n",
    "        ax[2].text(0.5, 0.5, 'Missing', horizontalalignment='center', verticalalignment='center')\n",
    "    ax[2].axis(\"off\")\n",
    "\n",
    "    # Second arrow\n",
    "    ax[3].text(0.5, 0.5, '→', horizontalalignment='center', verticalalignment='center', fontsize=30, color=\"darkgrey\")\n",
    "    ax[3].axis(\"off\")\n",
    "\n",
    "    # Plotting product\n",
    "    try:\n",
    "        ax[4].imshow(product_img)\n",
    "    except Exception:\n",
    "        ax[4].text(0.5, 0.5, 'Missing', horizontalalignment='center', verticalalignment='center')\n",
    "    ax[4].axis(\"off\")\n",
    "\n",
    "    plt.tight_layout()\n",
    "    plt.show()"
   ]
  },
  {
   "cell_type": "code",
   "execution_count": 8,
   "id": "d694e127",
   "metadata": {},
   "outputs": [],
   "source": [
    "import matplotlib.pyplot as plt\n",
    "from rdkit import Chem\n",
    "from rdkit.Chem import Draw\n",
    "from PIL import Image, ImageDraw\n",
    "import io\n",
    "\n",
    "def find_sub_structure(smiles, smarts):\n",
    "    \"\"\"\n",
    "    Finds and highlights the substructure in a molecule defined by a SMARTS pattern.\n",
    "    \"\"\"\n",
    "    mol = Chem.MolFromSmiles(smiles)\n",
    "    if not mol:\n",
    "        return \"Invalid SMILES string.\"\n",
    "\n",
    "    query = Chem.MolFromSmarts(smarts)\n",
    "    if not query:\n",
    "        return \"Invalid SMARTS pattern.\"\n",
    "\n",
    "    matches = mol.GetSubstructMatches(query, uniquify=True)\n",
    "    if not matches:\n",
    "        return None  # Adjusted to return None for no matches\n",
    "\n",
    "    img = Draw.MolToImage(mol, highlightAtoms=sum(matches, ()), size=(300, 300))\n",
    "    return img\n",
    "\n",
    "def plot_reaction_scheme(substrate_smiles, product_smiles, smarts_pattern):\n",
    "    \"\"\"\n",
    "    Plots a reaction scheme showing the substrate, sub-structure, and product.\n",
    "    \"\"\"\n",
    "    try:\n",
    "        mol_substrate = Chem.MolFromSmiles(substrate_smiles)\n",
    "        substrate_img = Draw.MolToImage(mol_substrate, size=(300, 300))\n",
    "    except Exception as e:\n",
    "        substrate_img = \"Error\"\n",
    "\n",
    "    try:\n",
    "        mol_product = Chem.MolFromSmiles(product_smiles)\n",
    "        product_img = Draw.MolToImage(mol_product, size=(300, 300))\n",
    "    except Exception as e:\n",
    "        product_img = \"Error\"\n",
    "\n",
    "    # Use the provided find_sub_structure function\n",
    "    sub_structure_img = find_sub_structure(substrate_smiles, smarts_pattern)\n",
    "    if isinstance(sub_structure_img, str):  # Check if the function returned an error message\n",
    "        sub_structure_img = \"Error\"\n",
    "\n",
    "    # Create a figure and axes with 1 row and 5 columns\n",
    "    fig, ax = plt.subplots(1, 5, figsize=(15, 3))\n",
    "\n",
    "    # Helper function to plot images or placeholders\n",
    "    def plot_image_or_placeholder(ax, img, placeholder_text=\"Missing\"):\n",
    "        if img == \"Error\":\n",
    "            ax.text(0.5, 0.5, placeholder_text, horizontalalignment='center', verticalalignment='center', fontsize=12)\n",
    "            ax.axis(\"off\")\n",
    "        else:\n",
    "            ax.imshow(img)\n",
    "            ax.axis(\"off\")\n",
    "\n",
    "    # Plotting substrate\n",
    "    plot_image_or_placeholder(ax[0], substrate_img)\n",
    "\n",
    "    # First arrow\n",
    "    ax[1].text(0.5, 0.5, '→', horizontalalignment='center', verticalalignment='center', fontsize=30, color=\"royalblue\")\n",
    "    ax[1].axis(\"off\")\n",
    "\n",
    "    # Plotting sub-structure\n",
    "    plot_image_or_placeholder(ax[2], sub_structure_img, \"No Match\")\n",
    "\n",
    "    # Second arrow\n",
    "    ax[3].text(0.5, 0.5, '→', horizontalalignment='center', verticalalignment='center', fontsize=30, color=\"royalblue\")\n",
    "    ax[3].axis(\"off\")\n",
    "\n",
    "    # Plotting product\n",
    "    plot_image_or_placeholder(ax[4], product_img)\n",
    "\n",
    "    plt.tight_layout()\n",
    "    plt.show()"
   ]
  },
  {
   "cell_type": "markdown",
   "id": "6f4f68f3",
   "metadata": {},
   "source": [
    "## Input"
   ]
  },
  {
   "cell_type": "code",
   "execution_count": 70,
   "id": "9746b4da",
   "metadata": {},
   "outputs": [],
   "source": [
    "substrate = \"C1C(C(OC1N2C=NC3=C2N=C(NC3=O)N)COP(=O)(O)OP(=O)(O)OP(=O)(O)O)O\"\n",
    "# smirks = '[C:1][N:2]1[C:3]=[N:4][C:5]2=[C:6]1[C:7](=O)[N:8](C(=O)N2C)[C:9]>>[*:1][O]'\n",
    "smirks = '[*:1]COc1nc(N)nc2c1ncn2C3OC(CO)CC3>>[*:1][O]'\n",
    "smirks = 'Oc1nc(N)nc2c1ncn2C3OC(CO)CC3>>[*:1][O]'\n",
    "mass_difference = '-'"
   ]
  },
  {
   "cell_type": "markdown",
   "id": "fc9fff4f",
   "metadata": {},
   "source": [
    "### Input compounds"
   ]
  },
  {
   "cell_type": "code",
   "execution_count": 71,
   "id": "9015c768",
   "metadata": {
    "scrolled": false
   },
   "outputs": [
    {
     "name": "stdout",
     "output_type": "stream",
     "text": [
      "506.9957454619998\n"
     ]
    },
    {
     "data": {
      "image/svg+xml": [
       "<svg xmlns=\"http://www.w3.org/2000/svg\" xmlns:rdkit=\"http://www.rdkit.org/xml\" xmlns:xlink=\"http://www.w3.org/1999/xlink\" version=\"1.1\" baseProfile=\"full\" xml:space=\"preserve\" width=\"1500px\" height=\"500px\" viewBox=\"0 0 1500 500\">\n",
       "<!-- END OF HEADER -->\n",
       "<rect style=\"opacity:1.0;fill:#FFFFFF;stroke:none\" width=\"1500.0\" height=\"500.0\" x=\"0.0\" y=\"0.0\"> </rect>\n",
       "<path class=\"bond-0 atom-0 atom-1\" d=\"M 319.4,269.2 L 294.5,241.9\" style=\"fill:none;fill-rule:evenodd;stroke:#000000;stroke-width:2.0px;stroke-linecap:butt;stroke-linejoin:miter;stroke-opacity:1\"/>\n",
       "<path class=\"bond-1 atom-1 atom-2\" d=\"M 294.5,241.9 L 260.8,256.9\" style=\"fill:none;fill-rule:evenodd;stroke:#000000;stroke-width:2.0px;stroke-linecap:butt;stroke-linejoin:miter;stroke-opacity:1\"/>\n",
       "<path class=\"bond-2 atom-2 atom-3\" d=\"M 260.8,256.9 L 262.3,270.8\" style=\"fill:none;fill-rule:evenodd;stroke:#000000;stroke-width:2.0px;stroke-linecap:butt;stroke-linejoin:miter;stroke-opacity:1\"/>\n",
       "<path class=\"bond-2 atom-2 atom-3\" d=\"M 262.3,270.8 L 263.8,284.6\" style=\"fill:none;fill-rule:evenodd;stroke:#FF0000;stroke-width:2.0px;stroke-linecap:butt;stroke-linejoin:miter;stroke-opacity:1\"/>\n",
       "<path class=\"bond-3 atom-3 atom-4\" d=\"M 273.2,295.5 L 287.1,298.4\" style=\"fill:none;fill-rule:evenodd;stroke:#FF0000;stroke-width:2.0px;stroke-linecap:butt;stroke-linejoin:miter;stroke-opacity:1\"/>\n",
       "<path class=\"bond-3 atom-3 atom-4\" d=\"M 287.1,298.4 L 301.0,301.2\" style=\"fill:none;fill-rule:evenodd;stroke:#000000;stroke-width:2.0px;stroke-linecap:butt;stroke-linejoin:miter;stroke-opacity:1\"/>\n",
       "<path class=\"bond-4 atom-4 atom-5\" d=\"M 301.0,301.2 L 306.5,313.6\" style=\"fill:none;fill-rule:evenodd;stroke:#000000;stroke-width:2.0px;stroke-linecap:butt;stroke-linejoin:miter;stroke-opacity:1\"/>\n",
       "<path class=\"bond-4 atom-4 atom-5\" d=\"M 306.5,313.6 L 312.1,325.9\" style=\"fill:none;fill-rule:evenodd;stroke:#0000FF;stroke-width:2.0px;stroke-linecap:butt;stroke-linejoin:miter;stroke-opacity:1\"/>\n",
       "<path class=\"bond-5 atom-5 atom-6\" d=\"M 311.0,344.1 L 304.4,355.6\" style=\"fill:none;fill-rule:evenodd;stroke:#0000FF;stroke-width:2.0px;stroke-linecap:butt;stroke-linejoin:miter;stroke-opacity:1\"/>\n",
       "<path class=\"bond-5 atom-5 atom-6\" d=\"M 304.4,355.6 L 297.8,367.2\" style=\"fill:none;fill-rule:evenodd;stroke:#000000;stroke-width:2.0px;stroke-linecap:butt;stroke-linejoin:miter;stroke-opacity:1\"/>\n",
       "<path class=\"bond-6 atom-6 atom-7\" d=\"M 297.8,367.2 L 306.7,376.9\" style=\"fill:none;fill-rule:evenodd;stroke:#000000;stroke-width:2.0px;stroke-linecap:butt;stroke-linejoin:miter;stroke-opacity:1\"/>\n",
       "<path class=\"bond-6 atom-6 atom-7\" d=\"M 306.7,376.9 L 315.5,386.6\" style=\"fill:none;fill-rule:evenodd;stroke:#0000FF;stroke-width:2.0px;stroke-linecap:butt;stroke-linejoin:miter;stroke-opacity:1\"/>\n",
       "<path class=\"bond-6 atom-6 atom-7\" d=\"M 304.7,366.4 L 312.2,374.6\" style=\"fill:none;fill-rule:evenodd;stroke:#000000;stroke-width:2.0px;stroke-linecap:butt;stroke-linejoin:miter;stroke-opacity:1\"/>\n",
       "<path class=\"bond-6 atom-6 atom-7\" d=\"M 312.2,374.6 L 319.7,382.8\" style=\"fill:none;fill-rule:evenodd;stroke:#0000FF;stroke-width:2.0px;stroke-linecap:butt;stroke-linejoin:miter;stroke-opacity:1\"/>\n",
       "<path class=\"bond-7 atom-7 atom-8\" d=\"M 329.9,391.3 L 343.2,385.3\" style=\"fill:none;fill-rule:evenodd;stroke:#0000FF;stroke-width:2.0px;stroke-linecap:butt;stroke-linejoin:miter;stroke-opacity:1\"/>\n",
       "<path class=\"bond-7 atom-7 atom-8\" d=\"M 343.2,385.3 L 356.5,379.3\" style=\"fill:none;fill-rule:evenodd;stroke:#000000;stroke-width:2.0px;stroke-linecap:butt;stroke-linejoin:miter;stroke-opacity:1\"/>\n",
       "<path class=\"bond-8 atom-8 atom-9\" d=\"M 356.5,379.3 L 352.4,342.6\" style=\"fill:none;fill-rule:evenodd;stroke:#000000;stroke-width:2.0px;stroke-linecap:butt;stroke-linejoin:miter;stroke-opacity:1\"/>\n",
       "<path class=\"bond-8 atom-8 atom-9\" d=\"M 350.5,375.9 L 347.3,347.2\" style=\"fill:none;fill-rule:evenodd;stroke:#000000;stroke-width:2.0px;stroke-linecap:butt;stroke-linejoin:miter;stroke-opacity:1\"/>\n",
       "<path class=\"bond-9 atom-9 atom-10\" d=\"M 352.4,342.6 L 363.7,334.2\" style=\"fill:none;fill-rule:evenodd;stroke:#000000;stroke-width:2.0px;stroke-linecap:butt;stroke-linejoin:miter;stroke-opacity:1\"/>\n",
       "<path class=\"bond-9 atom-9 atom-10\" d=\"M 363.7,334.2 L 375.1,325.9\" style=\"fill:none;fill-rule:evenodd;stroke:#0000FF;stroke-width:2.0px;stroke-linecap:butt;stroke-linejoin:miter;stroke-opacity:1\"/>\n",
       "<path class=\"bond-10 atom-10 atom-11\" d=\"M 389.4,323.8 L 402.8,329.7\" style=\"fill:none;fill-rule:evenodd;stroke:#0000FF;stroke-width:2.0px;stroke-linecap:butt;stroke-linejoin:miter;stroke-opacity:1\"/>\n",
       "<path class=\"bond-10 atom-10 atom-11\" d=\"M 402.8,329.7 L 416.1,335.6\" style=\"fill:none;fill-rule:evenodd;stroke:#000000;stroke-width:2.0px;stroke-linecap:butt;stroke-linejoin:miter;stroke-opacity:1\"/>\n",
       "<path class=\"bond-10 atom-10 atom-11\" d=\"M 387.2,328.9 L 399.1,334.1\" style=\"fill:none;fill-rule:evenodd;stroke:#0000FF;stroke-width:2.0px;stroke-linecap:butt;stroke-linejoin:miter;stroke-opacity:1\"/>\n",
       "<path class=\"bond-10 atom-10 atom-11\" d=\"M 399.1,334.1 L 410.9,339.4\" style=\"fill:none;fill-rule:evenodd;stroke:#000000;stroke-width:2.0px;stroke-linecap:butt;stroke-linejoin:miter;stroke-opacity:1\"/>\n",
       "<path class=\"bond-11 atom-11 atom-12\" d=\"M 416.1,335.6 L 417.7,349.4\" style=\"fill:none;fill-rule:evenodd;stroke:#000000;stroke-width:2.0px;stroke-linecap:butt;stroke-linejoin:miter;stroke-opacity:1\"/>\n",
       "<path class=\"bond-11 atom-11 atom-12\" d=\"M 417.7,349.4 L 419.2,363.2\" style=\"fill:none;fill-rule:evenodd;stroke:#0000FF;stroke-width:2.0px;stroke-linecap:butt;stroke-linejoin:miter;stroke-opacity:1\"/>\n",
       "<path class=\"bond-12 atom-12 atom-13\" d=\"M 413.0,377.6 L 401.7,385.9\" style=\"fill:none;fill-rule:evenodd;stroke:#0000FF;stroke-width:2.0px;stroke-linecap:butt;stroke-linejoin:miter;stroke-opacity:1\"/>\n",
       "<path class=\"bond-12 atom-12 atom-13\" d=\"M 401.7,385.9 L 390.3,394.2\" style=\"fill:none;fill-rule:evenodd;stroke:#000000;stroke-width:2.0px;stroke-linecap:butt;stroke-linejoin:miter;stroke-opacity:1\"/>\n",
       "<path class=\"bond-13 atom-13 atom-14\" d=\"M 387.4,392.9 L 389.0,407.5\" style=\"fill:none;fill-rule:evenodd;stroke:#000000;stroke-width:2.0px;stroke-linecap:butt;stroke-linejoin:miter;stroke-opacity:1\"/>\n",
       "<path class=\"bond-13 atom-13 atom-14\" d=\"M 389.0,407.5 L 390.6,422.1\" style=\"fill:none;fill-rule:evenodd;stroke:#FF0000;stroke-width:2.0px;stroke-linecap:butt;stroke-linejoin:miter;stroke-opacity:1\"/>\n",
       "<path class=\"bond-13 atom-13 atom-14\" d=\"M 392.9,392.3 L 394.6,406.9\" style=\"fill:none;fill-rule:evenodd;stroke:#000000;stroke-width:2.0px;stroke-linecap:butt;stroke-linejoin:miter;stroke-opacity:1\"/>\n",
       "<path class=\"bond-13 atom-13 atom-14\" d=\"M 394.6,406.9 L 396.2,421.5\" style=\"fill:none;fill-rule:evenodd;stroke:#FF0000;stroke-width:2.0px;stroke-linecap:butt;stroke-linejoin:miter;stroke-opacity:1\"/>\n",
       "<path class=\"bond-14 atom-11 atom-15\" d=\"M 416.1,335.6 L 427.4,327.2\" style=\"fill:none;fill-rule:evenodd;stroke:#000000;stroke-width:2.0px;stroke-linecap:butt;stroke-linejoin:miter;stroke-opacity:1\"/>\n",
       "<path class=\"bond-14 atom-11 atom-15\" d=\"M 427.4,327.2 L 438.8,318.9\" style=\"fill:none;fill-rule:evenodd;stroke:#0000FF;stroke-width:2.0px;stroke-linecap:butt;stroke-linejoin:miter;stroke-opacity:1\"/>\n",
       "<path class=\"bond-15 atom-2 atom-16\" d=\"M 260.8,256.9 L 227.8,238.3\" style=\"fill:none;fill-rule:evenodd;stroke:#000000;stroke-width:2.0px;stroke-linecap:butt;stroke-linejoin:miter;stroke-opacity:1\"/>\n",
       "<path class=\"bond-16 atom-16 atom-17\" d=\"M 227.8,238.3 L 226.0,223.6\" style=\"fill:none;fill-rule:evenodd;stroke:#000000;stroke-width:2.0px;stroke-linecap:butt;stroke-linejoin:miter;stroke-opacity:1\"/>\n",
       "<path class=\"bond-16 atom-16 atom-17\" d=\"M 226.0,223.6 L 224.2,208.8\" style=\"fill:none;fill-rule:evenodd;stroke:#FF0000;stroke-width:2.0px;stroke-linecap:butt;stroke-linejoin:miter;stroke-opacity:1\"/>\n",
       "<path class=\"bond-17 atom-17 atom-18\" d=\"M 214.6,197.1 L 203.8,194.1\" style=\"fill:none;fill-rule:evenodd;stroke:#FF0000;stroke-width:2.0px;stroke-linecap:butt;stroke-linejoin:miter;stroke-opacity:1\"/>\n",
       "<path class=\"bond-17 atom-17 atom-18\" d=\"M 203.8,194.1 L 193.1,191.2\" style=\"fill:none;fill-rule:evenodd;stroke:#FF7F00;stroke-width:2.0px;stroke-linecap:butt;stroke-linejoin:miter;stroke-opacity:1\"/>\n",
       "<path class=\"bond-18 atom-18 atom-19\" d=\"M 182.7,198.1 L 181.4,207.1\" style=\"fill:none;fill-rule:evenodd;stroke:#FF7F00;stroke-width:2.0px;stroke-linecap:butt;stroke-linejoin:miter;stroke-opacity:1\"/>\n",
       "<path class=\"bond-18 atom-18 atom-19\" d=\"M 181.4,207.1 L 180.0,216.1\" style=\"fill:none;fill-rule:evenodd;stroke:#FF0000;stroke-width:2.0px;stroke-linecap:butt;stroke-linejoin:miter;stroke-opacity:1\"/>\n",
       "<path class=\"bond-18 atom-18 atom-19\" d=\"M 188.2,198.9 L 186.9,207.9\" style=\"fill:none;fill-rule:evenodd;stroke:#FF7F00;stroke-width:2.0px;stroke-linecap:butt;stroke-linejoin:miter;stroke-opacity:1\"/>\n",
       "<path class=\"bond-18 atom-18 atom-19\" d=\"M 186.9,207.9 L 185.6,216.9\" style=\"fill:none;fill-rule:evenodd;stroke:#FF0000;stroke-width:2.0px;stroke-linecap:butt;stroke-linejoin:miter;stroke-opacity:1\"/>\n",
       "<path class=\"bond-19 atom-18 atom-20\" d=\"M 188.3,180.3 L 189.8,171.1\" style=\"fill:none;fill-rule:evenodd;stroke:#FF7F00;stroke-width:2.0px;stroke-linecap:butt;stroke-linejoin:miter;stroke-opacity:1\"/>\n",
       "<path class=\"bond-19 atom-18 atom-20\" d=\"M 189.8,171.1 L 191.3,162.0\" style=\"fill:none;fill-rule:evenodd;stroke:#FF0000;stroke-width:2.0px;stroke-linecap:butt;stroke-linejoin:miter;stroke-opacity:1\"/>\n",
       "<path class=\"bond-20 atom-18 atom-21\" d=\"M 180.6,189.2 L 168.9,188.8\" style=\"fill:none;fill-rule:evenodd;stroke:#FF7F00;stroke-width:2.0px;stroke-linecap:butt;stroke-linejoin:miter;stroke-opacity:1\"/>\n",
       "<path class=\"bond-20 atom-18 atom-21\" d=\"M 168.9,188.8 L 157.3,188.4\" style=\"fill:none;fill-rule:evenodd;stroke:#FF0000;stroke-width:2.0px;stroke-linecap:butt;stroke-linejoin:miter;stroke-opacity:1\"/>\n",
       "<path class=\"bond-21 atom-21 atom-22\" d=\"M 140.4,179.6 L 134.2,173.4\" style=\"fill:none;fill-rule:evenodd;stroke:#FF0000;stroke-width:2.0px;stroke-linecap:butt;stroke-linejoin:miter;stroke-opacity:1\"/>\n",
       "<path class=\"bond-21 atom-21 atom-22\" d=\"M 134.2,173.4 L 128.1,167.2\" style=\"fill:none;fill-rule:evenodd;stroke:#FF7F00;stroke-width:2.0px;stroke-linecap:butt;stroke-linejoin:miter;stroke-opacity:1\"/>\n",
       "<path class=\"bond-22 atom-22 atom-23\" d=\"M 130.3,154.4 L 135.0,148.4\" style=\"fill:none;fill-rule:evenodd;stroke:#FF7F00;stroke-width:2.0px;stroke-linecap:butt;stroke-linejoin:miter;stroke-opacity:1\"/>\n",
       "<path class=\"bond-22 atom-22 atom-23\" d=\"M 135.0,148.4 L 139.6,142.3\" style=\"fill:none;fill-rule:evenodd;stroke:#FF0000;stroke-width:2.0px;stroke-linecap:butt;stroke-linejoin:miter;stroke-opacity:1\"/>\n",
       "<path class=\"bond-22 atom-22 atom-23\" d=\"M 125.9,151.0 L 130.5,145.0\" style=\"fill:none;fill-rule:evenodd;stroke:#FF7F00;stroke-width:2.0px;stroke-linecap:butt;stroke-linejoin:miter;stroke-opacity:1\"/>\n",
       "<path class=\"bond-22 atom-22 atom-23\" d=\"M 130.5,145.0 L 135.2,138.9\" style=\"fill:none;fill-rule:evenodd;stroke:#FF0000;stroke-width:2.0px;stroke-linecap:butt;stroke-linejoin:miter;stroke-opacity:1\"/>\n",
       "<path class=\"bond-23 atom-22 atom-24\" d=\"M 115.6,168.9 L 111.1,174.8\" style=\"fill:none;fill-rule:evenodd;stroke:#FF7F00;stroke-width:2.0px;stroke-linecap:butt;stroke-linejoin:miter;stroke-opacity:1\"/>\n",
       "<path class=\"bond-23 atom-22 atom-24\" d=\"M 111.1,174.8 L 106.6,180.6\" style=\"fill:none;fill-rule:evenodd;stroke:#FF0000;stroke-width:2.0px;stroke-linecap:butt;stroke-linejoin:miter;stroke-opacity:1\"/>\n",
       "<path class=\"bond-24 atom-22 atom-25\" d=\"M 115.6,157.1 L 106.3,151.7\" style=\"fill:none;fill-rule:evenodd;stroke:#FF7F00;stroke-width:2.0px;stroke-linecap:butt;stroke-linejoin:miter;stroke-opacity:1\"/>\n",
       "<path class=\"bond-24 atom-22 atom-25\" d=\"M 106.3,151.7 L 97.0,146.2\" style=\"fill:none;fill-rule:evenodd;stroke:#FF0000;stroke-width:2.0px;stroke-linecap:butt;stroke-linejoin:miter;stroke-opacity:1\"/>\n",
       "<path class=\"bond-25 atom-25 atom-26\" d=\"M 86.9,132.0 L 85.2,122.9\" style=\"fill:none;fill-rule:evenodd;stroke:#FF0000;stroke-width:2.0px;stroke-linecap:butt;stroke-linejoin:miter;stroke-opacity:1\"/>\n",
       "<path class=\"bond-25 atom-25 atom-26\" d=\"M 85.2,122.9 L 83.6,113.8\" style=\"fill:none;fill-rule:evenodd;stroke:#FF7F00;stroke-width:2.0px;stroke-linecap:butt;stroke-linejoin:miter;stroke-opacity:1\"/>\n",
       "<path class=\"bond-26 atom-26 atom-27\" d=\"M 82.3,94.9 L 80.2,86.2\" style=\"fill:none;fill-rule:evenodd;stroke:#FF7F00;stroke-width:2.0px;stroke-linecap:butt;stroke-linejoin:miter;stroke-opacity:1\"/>\n",
       "<path class=\"bond-26 atom-26 atom-27\" d=\"M 80.2,86.2 L 78.0,77.5\" style=\"fill:none;fill-rule:evenodd;stroke:#FF0000;stroke-width:2.0px;stroke-linecap:butt;stroke-linejoin:miter;stroke-opacity:1\"/>\n",
       "<path class=\"bond-26 atom-26 atom-27\" d=\"M 76.9,96.3 L 74.7,87.6\" style=\"fill:none;fill-rule:evenodd;stroke:#FF7F00;stroke-width:2.0px;stroke-linecap:butt;stroke-linejoin:miter;stroke-opacity:1\"/>\n",
       "<path class=\"bond-26 atom-26 atom-27\" d=\"M 74.7,87.6 L 72.5,78.9\" style=\"fill:none;fill-rule:evenodd;stroke:#FF0000;stroke-width:2.0px;stroke-linecap:butt;stroke-linejoin:miter;stroke-opacity:1\"/>\n",
       "<path class=\"bond-27 atom-26 atom-28\" d=\"M 75.7,106.1 L 64.8,108.6\" style=\"fill:none;fill-rule:evenodd;stroke:#FF7F00;stroke-width:2.0px;stroke-linecap:butt;stroke-linejoin:miter;stroke-opacity:1\"/>\n",
       "<path class=\"bond-27 atom-26 atom-28\" d=\"M 64.8,108.6 L 53.9,111.1\" style=\"fill:none;fill-rule:evenodd;stroke:#FF0000;stroke-width:2.0px;stroke-linecap:butt;stroke-linejoin:miter;stroke-opacity:1\"/>\n",
       "<path class=\"bond-28 atom-26 atom-29\" d=\"M 88.2,103.3 L 98.7,100.8\" style=\"fill:none;fill-rule:evenodd;stroke:#FF7F00;stroke-width:2.0px;stroke-linecap:butt;stroke-linejoin:miter;stroke-opacity:1\"/>\n",
       "<path class=\"bond-28 atom-26 atom-29\" d=\"M 98.7,100.8 L 109.2,98.4\" style=\"fill:none;fill-rule:evenodd;stroke:#FF0000;stroke-width:2.0px;stroke-linecap:butt;stroke-linejoin:miter;stroke-opacity:1\"/>\n",
       "<path class=\"bond-29 atom-1 atom-30\" d=\"M 294.5,241.9 L 297.3,228.4\" style=\"fill:none;fill-rule:evenodd;stroke:#000000;stroke-width:2.0px;stroke-linecap:butt;stroke-linejoin:miter;stroke-opacity:1\"/>\n",
       "<path class=\"bond-29 atom-1 atom-30\" d=\"M 297.3,228.4 L 300.1,215.0\" style=\"fill:none;fill-rule:evenodd;stroke:#FF0000;stroke-width:2.0px;stroke-linecap:butt;stroke-linejoin:miter;stroke-opacity:1\"/>\n",
       "<path class=\"bond-30 atom-4 atom-0\" d=\"M 301.0,301.2 L 319.4,269.2\" style=\"fill:none;fill-rule:evenodd;stroke:#000000;stroke-width:2.0px;stroke-linecap:butt;stroke-linejoin:miter;stroke-opacity:1\"/>\n",
       "<path class=\"bond-31 atom-9 atom-5\" d=\"M 352.4,342.6 L 337.9,339.5\" style=\"fill:none;fill-rule:evenodd;stroke:#000000;stroke-width:2.0px;stroke-linecap:butt;stroke-linejoin:miter;stroke-opacity:1\"/>\n",
       "<path class=\"bond-31 atom-9 atom-5\" d=\"M 337.9,339.5 L 323.4,336.5\" style=\"fill:none;fill-rule:evenodd;stroke:#0000FF;stroke-width:2.0px;stroke-linecap:butt;stroke-linejoin:miter;stroke-opacity:1\"/>\n",
       "<path class=\"bond-32 atom-13 atom-8\" d=\"M 390.3,394.2 L 356.5,379.3\" style=\"fill:none;fill-rule:evenodd;stroke:#000000;stroke-width:2.0px;stroke-linecap:butt;stroke-linejoin:miter;stroke-opacity:1\"/>\n",
       "<path d=\"M 318.2,267.8 L 319.4,269.2 L 318.5,270.8\" style=\"fill:none;stroke:#000000;stroke-width:2.0px;stroke-linecap:butt;stroke-linejoin:miter;stroke-opacity:1;\"/>\n",
       "<path d=\"M 298.1,366.6 L 297.8,367.2 L 298.2,367.7\" style=\"fill:none;stroke:#000000;stroke-width:2.0px;stroke-linecap:butt;stroke-linejoin:miter;stroke-opacity:1;\"/>\n",
       "<path d=\"M 390.9,393.8 L 390.3,394.2 L 388.6,393.4\" style=\"fill:none;stroke:#000000;stroke-width:2.0px;stroke-linecap:butt;stroke-linejoin:miter;stroke-opacity:1;\"/>\n",
       "<path d=\"M 229.4,239.2 L 227.8,238.3 L 227.7,237.6\" style=\"fill:none;stroke:#000000;stroke-width:2.0px;stroke-linecap:butt;stroke-linejoin:miter;stroke-opacity:1;\"/>\n",
       "<path class=\"atom-3\" d=\"M 257.6 293.9 Q 257.6 290.1, 259.5 288.0 Q 261.3 285.9, 264.8 285.9 Q 268.3 285.9, 270.2 288.0 Q 272.0 290.1, 272.0 293.9 Q 272.0 297.7, 270.1 299.8 Q 268.2 302.0, 264.8 302.0 Q 261.3 302.0, 259.5 299.8 Q 257.6 297.7, 257.6 293.9 M 264.8 300.2 Q 267.2 300.2, 268.5 298.6 Q 269.8 297.0, 269.8 293.9 Q 269.8 290.8, 268.5 289.2 Q 267.2 287.6, 264.8 287.6 Q 262.4 287.6, 261.1 289.2 Q 259.8 290.7, 259.8 293.9 Q 259.8 297.0, 261.1 298.6 Q 262.4 300.2, 264.8 300.2 \" fill=\"#FF0000\"/>\n",
       "<path class=\"atom-5\" d=\"M 312.7 327.1 L 317.9 335.4 Q 318.4 336.3, 319.2 337.7 Q 320.1 339.2, 320.1 339.3 L 320.1 327.1 L 322.2 327.1 L 322.2 342.8 L 320.0 342.8 L 314.5 333.7 Q 313.9 332.7, 313.2 331.4 Q 312.5 330.2, 312.3 329.8 L 312.3 342.8 L 310.3 342.8 L 310.3 327.1 L 312.7 327.1 \" fill=\"#0000FF\"/>\n",
       "<path class=\"atom-7\" d=\"M 319.3 386.6 L 324.4 394.9 Q 324.9 395.8, 325.7 397.3 Q 326.6 398.7, 326.6 398.8 L 326.6 386.6 L 328.7 386.6 L 328.7 402.3 L 326.5 402.3 L 321.0 393.2 Q 320.4 392.2, 319.7 391.0 Q 319.0 389.7, 318.8 389.4 L 318.8 402.3 L 316.8 402.3 L 316.8 386.6 L 319.3 386.6 \" fill=\"#0000FF\"/>\n",
       "<path class=\"atom-10\" d=\"M 378.8 312.8 L 383.9 321.1 Q 384.4 321.9, 385.3 323.4 Q 386.1 324.9, 386.1 325.0 L 386.1 312.8 L 388.2 312.8 L 388.2 328.5 L 386.1 328.5 L 380.5 319.4 Q 379.9 318.3, 379.2 317.1 Q 378.5 315.9, 378.3 315.5 L 378.3 328.5 L 376.3 328.5 L 376.3 312.8 L 378.8 312.8 \" fill=\"#0000FF\"/>\n",
       "<path class=\"atom-12\" d=\"M 416.8 364.5 L 421.9 372.8 Q 422.4 373.6, 423.2 375.1 Q 424.1 376.6, 424.1 376.7 L 424.1 364.5 L 426.2 364.5 L 426.2 380.2 L 424.0 380.2 L 418.5 371.1 Q 417.9 370.0, 417.2 368.8 Q 416.5 367.6, 416.3 367.2 L 416.3 380.2 L 414.3 380.2 L 414.3 364.5 L 416.8 364.5 \" fill=\"#0000FF\"/>\n",
       "<path class=\"atom-12\" d=\"M 429.2 364.5 L 431.4 364.5 L 431.4 371.2 L 439.4 371.2 L 439.4 364.5 L 441.5 364.5 L 441.5 380.2 L 439.4 380.2 L 439.4 372.9 L 431.4 372.9 L 431.4 380.2 L 429.2 380.2 L 429.2 364.5 \" fill=\"#0000FF\"/>\n",
       "<path class=\"atom-14\" d=\"M 387.2 431.0 Q 387.2 427.3, 389.1 425.2 Q 390.9 423.0, 394.4 423.0 Q 397.9 423.0, 399.8 425.2 Q 401.6 427.3, 401.6 431.0 Q 401.6 434.9, 399.7 437.0 Q 397.8 439.2, 394.4 439.2 Q 390.9 439.2, 389.1 437.0 Q 387.2 434.9, 387.2 431.0 M 394.4 437.4 Q 396.8 437.4, 398.1 435.8 Q 399.4 434.2, 399.4 431.0 Q 399.4 428.0, 398.1 426.4 Q 396.8 424.8, 394.4 424.8 Q 392.0 424.8, 390.7 426.4 Q 389.4 427.9, 389.4 431.0 Q 389.4 434.2, 390.7 435.8 Q 392.0 437.4, 394.4 437.4 \" fill=\"#FF0000\"/>\n",
       "<path class=\"atom-15\" d=\"M 442.5 305.8 L 447.6 314.1 Q 448.2 314.9, 449.0 316.4 Q 449.8 317.9, 449.8 318.0 L 449.8 305.8 L 451.9 305.8 L 451.9 321.5 L 449.8 321.5 L 444.3 312.4 Q 443.6 311.3, 442.9 310.1 Q 442.3 308.9, 442.1 308.5 L 442.1 321.5 L 440.0 321.5 L 440.0 305.8 L 442.5 305.8 \" fill=\"#0000FF\"/>\n",
       "<path class=\"atom-15\" d=\"M 454.9 305.8 L 457.1 305.8 L 457.1 312.5 L 465.1 312.5 L 465.1 305.8 L 467.2 305.8 L 467.2 321.5 L 465.1 321.5 L 465.1 314.2 L 457.1 314.2 L 457.1 321.5 L 454.9 321.5 L 454.9 305.8 \" fill=\"#0000FF\"/>\n",
       "<path class=\"atom-15\" d=\"M 470.3 320.9 Q 470.7 320.0, 471.6 319.4 Q 472.5 318.9, 473.8 318.9 Q 475.3 318.9, 476.2 319.7 Q 477.1 320.6, 477.1 322.1 Q 477.1 323.6, 476.0 325.0 Q 474.8 326.5, 472.5 328.2 L 477.3 328.2 L 477.3 329.4 L 470.3 329.4 L 470.3 328.4 Q 472.2 327.0, 473.4 326.0 Q 474.5 324.9, 475.1 324.0 Q 475.6 323.1, 475.6 322.1 Q 475.6 321.1, 475.1 320.6 Q 474.6 320.0, 473.8 320.0 Q 472.9 320.0, 472.4 320.4 Q 471.8 320.7, 471.4 321.5 L 470.3 320.9 \" fill=\"#0000FF\"/>\n",
       "<path class=\"atom-17\" d=\"M 215.9 199.4 Q 215.9 195.7, 217.7 193.6 Q 219.6 191.4, 223.1 191.4 Q 226.6 191.4, 228.4 193.6 Q 230.3 195.7, 230.3 199.4 Q 230.3 203.3, 228.4 205.4 Q 226.5 207.6, 223.1 207.6 Q 219.6 207.6, 217.7 205.4 Q 215.9 203.3, 215.9 199.4 M 223.1 205.8 Q 225.5 205.8, 226.8 204.2 Q 228.1 202.6, 228.1 199.4 Q 228.1 196.4, 226.8 194.8 Q 225.5 193.2, 223.1 193.2 Q 220.7 193.2, 219.4 194.8 Q 218.1 196.3, 218.1 199.4 Q 218.1 202.6, 219.4 204.2 Q 220.7 205.8, 223.1 205.8 \" fill=\"#FF0000\"/>\n",
       "<path class=\"atom-18\" d=\"M 186.5 181.6 Q 189.1 181.6, 190.5 182.8 Q 191.8 184.0, 191.8 186.2 Q 191.8 188.4, 190.4 189.6 Q 189.1 190.8, 186.5 190.8 L 183.9 190.8 L 183.9 197.3 L 181.8 197.3 L 181.8 181.6 L 186.5 181.6 M 186.5 189.1 Q 188.0 189.1, 188.8 188.3 Q 189.6 187.6, 189.6 186.2 Q 189.6 184.8, 188.8 184.1 Q 188.0 183.4, 186.5 183.4 L 183.9 183.4 L 183.9 189.1 L 186.5 189.1 \" fill=\"#FF7F00\"/>\n",
       "<path class=\"atom-19\" d=\"M 174.2 225.7 Q 174.2 221.9, 176.1 219.8 Q 178.0 217.7, 181.4 217.7 Q 184.9 217.7, 186.8 219.8 Q 188.7 221.9, 188.7 225.7 Q 188.7 229.5, 186.8 231.7 Q 184.9 233.9, 181.4 233.9 Q 178.0 233.9, 176.1 231.7 Q 174.2 229.5, 174.2 225.7 M 181.4 232.1 Q 183.8 232.1, 185.1 230.5 Q 186.4 228.9, 186.4 225.7 Q 186.4 222.6, 185.1 221.1 Q 183.8 219.5, 181.4 219.5 Q 179.0 219.5, 177.7 221.0 Q 176.5 222.6, 176.5 225.7 Q 176.5 228.9, 177.7 230.5 Q 179.0 232.1, 181.4 232.1 \" fill=\"#FF0000\"/>\n",
       "<path class=\"atom-20\" d=\"M 185.6 152.6 Q 185.6 148.8, 187.4 146.7 Q 189.3 144.6, 192.8 144.6 Q 196.3 144.6, 198.1 146.7 Q 200.0 148.8, 200.0 152.6 Q 200.0 156.4, 198.1 158.6 Q 196.2 160.7, 192.8 160.7 Q 189.3 160.7, 187.4 158.6 Q 185.6 156.4, 185.6 152.6 M 192.8 158.9 Q 195.2 158.9, 196.5 157.3 Q 197.8 155.7, 197.8 152.6 Q 197.8 149.5, 196.5 147.9 Q 195.2 146.4, 192.8 146.4 Q 190.4 146.4, 189.1 147.9 Q 187.8 149.5, 187.8 152.6 Q 187.8 155.7, 189.1 157.3 Q 190.4 158.9, 192.8 158.9 \" fill=\"#FF0000\"/>\n",
       "<path class=\"atom-20\" d=\"M 202.4 144.8 L 204.6 144.8 L 204.6 151.4 L 212.6 151.4 L 212.6 144.8 L 214.7 144.8 L 214.7 160.5 L 212.6 160.5 L 212.6 153.2 L 204.6 153.2 L 204.6 160.5 L 202.4 160.5 L 202.4 144.8 \" fill=\"#FF0000\"/>\n",
       "<path class=\"atom-21\" d=\"M 141.6 188.2 Q 141.6 184.4, 143.5 182.3 Q 145.3 180.2, 148.8 180.2 Q 152.3 180.2, 154.2 182.3 Q 156.0 184.4, 156.0 188.2 Q 156.0 192.0, 154.2 194.2 Q 152.3 196.3, 148.8 196.3 Q 145.4 196.3, 143.5 194.2 Q 141.6 192.0, 141.6 188.2 M 148.8 194.6 Q 151.2 194.6, 152.5 193.0 Q 153.8 191.4, 153.8 188.2 Q 153.8 185.1, 152.5 183.6 Q 151.2 182.0, 148.8 182.0 Q 146.4 182.0, 145.1 183.5 Q 143.8 185.1, 143.8 188.2 Q 143.8 191.4, 145.1 193.0 Q 146.4 194.6, 148.8 194.6 \" fill=\"#FF0000\"/>\n",
       "<path class=\"atom-22\" d=\"M 121.5 153.0 Q 124.2 153.0, 125.5 154.2 Q 126.9 155.4, 126.9 157.6 Q 126.9 159.8, 125.5 161.0 Q 124.1 162.2, 121.5 162.2 L 119.0 162.2 L 119.0 168.7 L 116.8 168.7 L 116.8 153.0 L 121.5 153.0 M 121.5 160.4 Q 123.0 160.4, 123.8 159.7 Q 124.6 159.0, 124.6 157.6 Q 124.6 156.2, 123.8 155.5 Q 123.0 154.7, 121.5 154.7 L 119.0 154.7 L 119.0 160.4 L 121.5 160.4 \" fill=\"#FF7F00\"/>\n",
       "<path class=\"atom-23\" d=\"M 137.5 131.3 Q 137.5 127.5, 139.4 125.4 Q 141.2 123.3, 144.7 123.3 Q 148.2 123.3, 150.1 125.4 Q 151.9 127.5, 151.9 131.3 Q 151.9 135.1, 150.0 137.3 Q 148.1 139.4, 144.7 139.4 Q 141.2 139.4, 139.4 137.3 Q 137.5 135.1, 137.5 131.3 M 144.7 137.6 Q 147.1 137.6, 148.4 136.0 Q 149.7 134.4, 149.7 131.3 Q 149.7 128.2, 148.4 126.6 Q 147.1 125.0, 144.7 125.0 Q 142.3 125.0, 141.0 126.6 Q 139.7 128.2, 139.7 131.3 Q 139.7 134.4, 141.0 136.0 Q 142.3 137.6, 144.7 137.6 \" fill=\"#FF0000\"/>\n",
       "<path class=\"atom-24\" d=\"M 76.7 182.0 L 78.9 182.0 L 78.9 188.7 L 86.9 188.7 L 86.9 182.0 L 89.0 182.0 L 89.0 197.7 L 86.9 197.7 L 86.9 190.5 L 78.9 190.5 L 78.9 197.7 L 76.7 197.7 L 76.7 182.0 \" fill=\"#FF0000\"/>\n",
       "<path class=\"atom-24\" d=\"M 92.3 189.8 Q 92.3 186.1, 94.1 184.0 Q 96.0 181.9, 99.5 181.9 Q 103.0 181.9, 104.8 184.0 Q 106.7 186.1, 106.7 189.8 Q 106.7 193.7, 104.8 195.8 Q 102.9 198.0, 99.5 198.0 Q 96.0 198.0, 94.1 195.8 Q 92.3 193.7, 92.3 189.8 M 99.5 196.2 Q 101.9 196.2, 103.2 194.6 Q 104.5 193.0, 104.5 189.8 Q 104.5 186.8, 103.2 185.2 Q 101.9 183.6, 99.5 183.6 Q 97.1 183.6, 95.8 185.2 Q 94.5 186.7, 94.5 189.8 Q 94.5 193.0, 95.8 194.6 Q 97.1 196.2, 99.5 196.2 \" fill=\"#FF0000\"/>\n",
       "<path class=\"atom-25\" d=\"M 81.4 141.2 Q 81.4 137.5, 83.2 135.4 Q 85.1 133.3, 88.6 133.3 Q 92.1 133.3, 93.9 135.4 Q 95.8 137.5, 95.8 141.2 Q 95.8 145.1, 93.9 147.2 Q 92.0 149.4, 88.6 149.4 Q 85.1 149.4, 83.2 147.2 Q 81.4 145.1, 81.4 141.2 M 88.6 147.6 Q 91.0 147.6, 92.3 146.0 Q 93.6 144.4, 93.6 141.2 Q 93.6 138.2, 92.3 136.6 Q 91.0 135.0, 88.6 135.0 Q 86.2 135.0, 84.9 136.6 Q 83.6 138.1, 83.6 141.2 Q 83.6 144.4, 84.9 146.0 Q 86.2 147.6, 88.6 147.6 \" fill=\"#FF0000\"/>\n",
       "<path class=\"atom-26\" d=\"M 81.6 96.8 Q 84.2 96.8, 85.6 98.1 Q 86.9 99.3, 86.9 101.5 Q 86.9 103.6, 85.5 104.9 Q 84.2 106.1, 81.6 106.1 L 79.0 106.1 L 79.0 112.6 L 76.9 112.6 L 76.9 96.8 L 81.6 96.8 M 81.6 104.3 Q 83.1 104.3, 83.9 103.6 Q 84.7 102.9, 84.7 101.5 Q 84.7 100.1, 83.9 99.3 Q 83.1 98.6, 81.6 98.6 L 79.0 98.6 L 79.0 104.3 L 81.6 104.3 \" fill=\"#FF7F00\"/>\n",
       "<path class=\"atom-27\" d=\"M 65.7 68.8 Q 65.7 65.0, 67.5 62.9 Q 69.4 60.8, 72.9 60.8 Q 76.4 60.8, 78.2 62.9 Q 80.1 65.0, 80.1 68.8 Q 80.1 72.6, 78.2 74.8 Q 76.3 77.0, 72.9 77.0 Q 69.4 77.0, 67.5 74.8 Q 65.7 72.6, 65.7 68.8 M 72.9 75.2 Q 75.3 75.2, 76.6 73.6 Q 77.9 72.0, 77.9 68.8 Q 77.9 65.7, 76.6 64.2 Q 75.3 62.6, 72.9 62.6 Q 70.5 62.6, 69.2 64.1 Q 67.9 65.7, 67.9 68.8 Q 67.9 72.0, 69.2 73.6 Q 70.5 75.2, 72.9 75.2 \" fill=\"#FF0000\"/>\n",
       "<path class=\"atom-28\" d=\"M 22.7 105.2 L 24.9 105.2 L 24.9 111.9 L 32.9 111.9 L 32.9 105.2 L 35.0 105.2 L 35.0 121.0 L 32.9 121.0 L 32.9 113.7 L 24.9 113.7 L 24.9 121.0 L 22.7 121.0 L 22.7 105.2 \" fill=\"#FF0000\"/>\n",
       "<path class=\"atom-28\" d=\"M 38.3 113.1 Q 38.3 109.3, 40.1 107.2 Q 42.0 105.1, 45.5 105.1 Q 49.0 105.1, 50.8 107.2 Q 52.7 109.3, 52.7 113.1 Q 52.7 116.9, 50.8 119.1 Q 48.9 121.2, 45.5 121.2 Q 42.0 121.2, 40.1 119.1 Q 38.3 116.9, 38.3 113.1 M 45.5 119.4 Q 47.9 119.4, 49.2 117.8 Q 50.5 116.2, 50.5 113.1 Q 50.5 110.0, 49.2 108.4 Q 47.9 106.8, 45.5 106.8 Q 43.1 106.8, 41.8 108.4 Q 40.5 110.0, 40.5 113.1 Q 40.5 116.2, 41.8 117.8 Q 43.1 119.4, 45.5 119.4 \" fill=\"#FF0000\"/>\n",
       "<path class=\"atom-29\" d=\"M 110.4 96.5 Q 110.4 92.8, 112.3 90.6 Q 114.1 88.5, 117.6 88.5 Q 121.1 88.5, 123.0 90.6 Q 124.8 92.8, 124.8 96.5 Q 124.8 100.3, 122.9 102.5 Q 121.1 104.7, 117.6 104.7 Q 114.1 104.7, 112.3 102.5 Q 110.4 100.4, 110.4 96.5 M 117.6 102.9 Q 120.0 102.9, 121.3 101.3 Q 122.6 99.7, 122.6 96.5 Q 122.6 93.4, 121.3 91.9 Q 120.0 90.3, 117.6 90.3 Q 115.2 90.3, 113.9 91.9 Q 112.6 93.4, 112.6 96.5 Q 112.6 99.7, 113.9 101.3 Q 115.2 102.9, 117.6 102.9 \" fill=\"#FF0000\"/>\n",
       "<path class=\"atom-29\" d=\"M 127.3 88.7 L 129.4 88.7 L 129.4 95.4 L 137.4 95.4 L 137.4 88.7 L 139.6 88.7 L 139.6 104.4 L 137.4 104.4 L 137.4 97.2 L 129.4 97.2 L 129.4 104.4 L 127.3 104.4 L 127.3 88.7 \" fill=\"#FF0000\"/>\n",
       "<path class=\"atom-30\" d=\"M 294.8 205.6 Q 294.8 201.9, 296.7 199.8 Q 298.6 197.6, 302.0 197.6 Q 305.5 197.6, 307.4 199.8 Q 309.3 201.9, 309.3 205.6 Q 309.3 209.5, 307.4 211.6 Q 305.5 213.8, 302.0 213.8 Q 298.6 213.8, 296.7 211.6 Q 294.8 209.5, 294.8 205.6 M 302.0 212.0 Q 304.4 212.0, 305.7 210.4 Q 307.0 208.8, 307.0 205.6 Q 307.0 202.6, 305.7 201.0 Q 304.4 199.4, 302.0 199.4 Q 299.6 199.4, 298.3 201.0 Q 297.0 202.5, 297.0 205.6 Q 297.0 208.8, 298.3 210.4 Q 299.6 212.0, 302.0 212.0 \" fill=\"#FF0000\"/>\n",
       "<path class=\"atom-30\" d=\"M 311.7 197.8 L 313.8 197.8 L 313.8 204.5 L 321.9 204.5 L 321.9 197.8 L 324.0 197.8 L 324.0 213.5 L 321.9 213.5 L 321.9 206.3 L 313.8 206.3 L 313.8 213.5 L 311.7 213.5 L 311.7 197.8 \" fill=\"#FF0000\"/>\n",
       "</svg>"
      ],
      "text/plain": [
       "<IPython.core.display.SVG object>"
      ]
     },
     "execution_count": 71,
     "metadata": {},
     "output_type": "execute_result"
    }
   ],
   "source": [
    "mol_substrate = Chem.MolFromSmiles(substrate)\n",
    "print(Descriptors.ExactMolWt(mol_substrate))\n",
    "fig = Draw.MolsToGridImage([mol_substrate], subImgSize=(500, 500))\n",
    "fig"
   ]
  },
  {
   "cell_type": "markdown",
   "id": "2f987578",
   "metadata": {},
   "source": [
    "### Substracture"
   ]
  },
  {
   "cell_type": "code",
   "execution_count": 72,
   "id": "45304cd6",
   "metadata": {
    "scrolled": false
   },
   "outputs": [
    {
     "name": "stdout",
     "output_type": "stream",
     "text": [
      "251.101839276\n",
      "C10N5O3 (ignore H)\n"
     ]
    },
    {
     "data": {
      "image/svg+xml": [
       "<svg xmlns=\"http://www.w3.org/2000/svg\" xmlns:rdkit=\"http://www.rdkit.org/xml\" xmlns:xlink=\"http://www.w3.org/1999/xlink\" version=\"1.1\" baseProfile=\"full\" xml:space=\"preserve\" width=\"1500px\" height=\"500px\" viewBox=\"0 0 1500 500\">\n",
       "<!-- END OF HEADER -->\n",
       "<rect style=\"opacity:1.0;fill:#FFFFFF;stroke:none\" width=\"1500.0\" height=\"500.0\" x=\"0.0\" y=\"0.0\"> </rect>\n",
       "<path class=\"bond-0 atom-0 atom-1\" d=\"M 191.3,447.2 L 191.3,423.0\" style=\"fill:none;fill-rule:evenodd;stroke:#FF0000;stroke-width:2.0px;stroke-linecap:butt;stroke-linejoin:miter;stroke-opacity:1\"/>\n",
       "<path class=\"bond-0 atom-0 atom-1\" d=\"M 191.3,423.0 L 191.3,398.9\" style=\"fill:none;fill-rule:evenodd;stroke:#000000;stroke-width:2.0px;stroke-linecap:butt;stroke-linejoin:miter;stroke-opacity:1\"/>\n",
       "<path class=\"bond-1 atom-1 atom-2\" d=\"M 191.3,398.9 L 169.8,386.4\" style=\"fill:none;fill-rule:evenodd;stroke:#000000;stroke-width:2.0px;stroke-linecap:butt;stroke-linejoin:miter;stroke-opacity:1\"/>\n",
       "<path class=\"bond-1 atom-1 atom-2\" d=\"M 169.8,386.4 L 148.2,374.0\" style=\"fill:none;fill-rule:evenodd;stroke:#0000FF;stroke-width:2.0px;stroke-linecap:butt;stroke-linejoin:miter;stroke-opacity:1\"/>\n",
       "<path class=\"bond-1 atom-1 atom-2\" d=\"M 191.3,387.8 L 172.2,376.7\" style=\"fill:none;fill-rule:evenodd;stroke:#000000;stroke-width:2.0px;stroke-linecap:butt;stroke-linejoin:miter;stroke-opacity:1\"/>\n",
       "<path class=\"bond-1 atom-1 atom-2\" d=\"M 172.2,376.7 L 153.1,365.6\" style=\"fill:none;fill-rule:evenodd;stroke:#0000FF;stroke-width:2.0px;stroke-linecap:butt;stroke-linejoin:miter;stroke-opacity:1\"/>\n",
       "<path class=\"bond-2 atom-2 atom-3\" d=\"M 135.8,351.0 L 135.8,326.8\" style=\"fill:none;fill-rule:evenodd;stroke:#0000FF;stroke-width:2.0px;stroke-linecap:butt;stroke-linejoin:miter;stroke-opacity:1\"/>\n",
       "<path class=\"bond-2 atom-2 atom-3\" d=\"M 135.8,326.8 L 135.8,302.6\" style=\"fill:none;fill-rule:evenodd;stroke:#000000;stroke-width:2.0px;stroke-linecap:butt;stroke-linejoin:miter;stroke-opacity:1\"/>\n",
       "<path class=\"bond-3 atom-3 atom-4\" d=\"M 135.8,302.6 L 114.3,290.2\" style=\"fill:none;fill-rule:evenodd;stroke:#000000;stroke-width:2.0px;stroke-linecap:butt;stroke-linejoin:miter;stroke-opacity:1\"/>\n",
       "<path class=\"bond-3 atom-3 atom-4\" d=\"M 114.3,290.2 L 92.8,277.7\" style=\"fill:none;fill-rule:evenodd;stroke:#0000FF;stroke-width:2.0px;stroke-linecap:butt;stroke-linejoin:miter;stroke-opacity:1\"/>\n",
       "<path class=\"bond-4 atom-3 atom-5\" d=\"M 135.8,302.6 L 157.4,290.2\" style=\"fill:none;fill-rule:evenodd;stroke:#000000;stroke-width:2.0px;stroke-linecap:butt;stroke-linejoin:miter;stroke-opacity:1\"/>\n",
       "<path class=\"bond-4 atom-3 atom-5\" d=\"M 157.4,290.2 L 179.0,277.8\" style=\"fill:none;fill-rule:evenodd;stroke:#0000FF;stroke-width:2.0px;stroke-linecap:butt;stroke-linejoin:miter;stroke-opacity:1\"/>\n",
       "<path class=\"bond-4 atom-3 atom-5\" d=\"M 145.5,308.2 L 164.6,297.1\" style=\"fill:none;fill-rule:evenodd;stroke:#000000;stroke-width:2.0px;stroke-linecap:butt;stroke-linejoin:miter;stroke-opacity:1\"/>\n",
       "<path class=\"bond-4 atom-3 atom-5\" d=\"M 164.6,297.1 L 183.8,286.1\" style=\"fill:none;fill-rule:evenodd;stroke:#0000FF;stroke-width:2.0px;stroke-linecap:butt;stroke-linejoin:miter;stroke-opacity:1\"/>\n",
       "<path class=\"bond-5 atom-5 atom-6\" d=\"M 203.9,277.8 L 225.4,290.2\" style=\"fill:none;fill-rule:evenodd;stroke:#0000FF;stroke-width:2.0px;stroke-linecap:butt;stroke-linejoin:miter;stroke-opacity:1\"/>\n",
       "<path class=\"bond-5 atom-5 atom-6\" d=\"M 225.4,290.2 L 247.0,302.7\" style=\"fill:none;fill-rule:evenodd;stroke:#000000;stroke-width:2.0px;stroke-linecap:butt;stroke-linejoin:miter;stroke-opacity:1\"/>\n",
       "<path class=\"bond-6 atom-6 atom-7\" d=\"M 247.0,302.7 L 246.9,366.9\" style=\"fill:none;fill-rule:evenodd;stroke:#000000;stroke-width:2.0px;stroke-linecap:butt;stroke-linejoin:miter;stroke-opacity:1\"/>\n",
       "<path class=\"bond-6 atom-6 atom-7\" d=\"M 237.3,308.3 L 237.3,361.3\" style=\"fill:none;fill-rule:evenodd;stroke:#000000;stroke-width:2.0px;stroke-linecap:butt;stroke-linejoin:miter;stroke-opacity:1\"/>\n",
       "<path class=\"bond-7 atom-7 atom-8\" d=\"M 246.9,366.9 L 271.2,374.8\" style=\"fill:none;fill-rule:evenodd;stroke:#000000;stroke-width:2.0px;stroke-linecap:butt;stroke-linejoin:miter;stroke-opacity:1\"/>\n",
       "<path class=\"bond-7 atom-7 atom-8\" d=\"M 271.2,374.8 L 295.5,382.7\" style=\"fill:none;fill-rule:evenodd;stroke:#0000FF;stroke-width:2.0px;stroke-linecap:butt;stroke-linejoin:miter;stroke-opacity:1\"/>\n",
       "<path class=\"bond-8 atom-8 atom-9\" d=\"M 319.4,371.0 L 332.5,352.9\" style=\"fill:none;fill-rule:evenodd;stroke:#0000FF;stroke-width:2.0px;stroke-linecap:butt;stroke-linejoin:miter;stroke-opacity:1\"/>\n",
       "<path class=\"bond-8 atom-8 atom-9\" d=\"M 332.5,352.9 L 345.7,334.9\" style=\"fill:none;fill-rule:evenodd;stroke:#000000;stroke-width:2.0px;stroke-linecap:butt;stroke-linejoin:miter;stroke-opacity:1\"/>\n",
       "<path class=\"bond-8 atom-8 atom-9\" d=\"M 311.6,365.3 L 322.7,350.1\" style=\"fill:none;fill-rule:evenodd;stroke:#0000FF;stroke-width:2.0px;stroke-linecap:butt;stroke-linejoin:miter;stroke-opacity:1\"/>\n",
       "<path class=\"bond-8 atom-8 atom-9\" d=\"M 322.7,350.1 L 333.8,334.9\" style=\"fill:none;fill-rule:evenodd;stroke:#000000;stroke-width:2.0px;stroke-linecap:butt;stroke-linejoin:miter;stroke-opacity:1\"/>\n",
       "<path class=\"bond-9 atom-9 atom-10\" d=\"M 345.7,334.9 L 332.5,316.8\" style=\"fill:none;fill-rule:evenodd;stroke:#000000;stroke-width:2.0px;stroke-linecap:butt;stroke-linejoin:miter;stroke-opacity:1\"/>\n",
       "<path class=\"bond-9 atom-9 atom-10\" d=\"M 332.5,316.8 L 319.4,298.7\" style=\"fill:none;fill-rule:evenodd;stroke:#0000FF;stroke-width:2.0px;stroke-linecap:butt;stroke-linejoin:miter;stroke-opacity:1\"/>\n",
       "<path class=\"bond-10 atom-10 atom-11\" d=\"M 313.1,267.2 L 320.5,244.6\" style=\"fill:none;fill-rule:evenodd;stroke:#0000FF;stroke-width:2.0px;stroke-linecap:butt;stroke-linejoin:miter;stroke-opacity:1\"/>\n",
       "<path class=\"bond-10 atom-10 atom-11\" d=\"M 320.5,244.6 L 327.9,221.9\" style=\"fill:none;fill-rule:evenodd;stroke:#000000;stroke-width:2.0px;stroke-linecap:butt;stroke-linejoin:miter;stroke-opacity:1\"/>\n",
       "<path class=\"bond-11 atom-11 atom-12\" d=\"M 327.9,221.9 L 351.1,214.4\" style=\"fill:none;fill-rule:evenodd;stroke:#000000;stroke-width:2.0px;stroke-linecap:butt;stroke-linejoin:miter;stroke-opacity:1\"/>\n",
       "<path class=\"bond-11 atom-11 atom-12\" d=\"M 351.1,214.4 L 374.3,206.9\" style=\"fill:none;fill-rule:evenodd;stroke:#FF0000;stroke-width:2.0px;stroke-linecap:butt;stroke-linejoin:miter;stroke-opacity:1\"/>\n",
       "<path class=\"bond-12 atom-12 atom-13\" d=\"M 388.9,186.2 L 388.9,162.1\" style=\"fill:none;fill-rule:evenodd;stroke:#FF0000;stroke-width:2.0px;stroke-linecap:butt;stroke-linejoin:miter;stroke-opacity:1\"/>\n",
       "<path class=\"bond-12 atom-12 atom-13\" d=\"M 388.9,162.1 L 389.0,138.0\" style=\"fill:none;fill-rule:evenodd;stroke:#000000;stroke-width:2.0px;stroke-linecap:butt;stroke-linejoin:miter;stroke-opacity:1\"/>\n",
       "<path class=\"bond-13 atom-13 atom-14\" d=\"M 389.0,138.0 L 440.9,100.3\" style=\"fill:none;fill-rule:evenodd;stroke:#000000;stroke-width:2.0px;stroke-linecap:butt;stroke-linejoin:miter;stroke-opacity:1\"/>\n",
       "<path class=\"bond-14 atom-14 atom-15\" d=\"M 440.9,100.3 L 438.4,76.6\" style=\"fill:none;fill-rule:evenodd;stroke:#000000;stroke-width:2.0px;stroke-linecap:butt;stroke-linejoin:miter;stroke-opacity:1\"/>\n",
       "<path class=\"bond-14 atom-14 atom-15\" d=\"M 438.4,76.6 L 435.9,52.8\" style=\"fill:none;fill-rule:evenodd;stroke:#FF0000;stroke-width:2.0px;stroke-linecap:butt;stroke-linejoin:miter;stroke-opacity:1\"/>\n",
       "<path class=\"bond-15 atom-13 atom-16\" d=\"M 389.0,138.0 L 327.9,118.1\" style=\"fill:none;fill-rule:evenodd;stroke:#000000;stroke-width:2.0px;stroke-linecap:butt;stroke-linejoin:miter;stroke-opacity:1\"/>\n",
       "<path class=\"bond-16 atom-16 atom-17\" d=\"M 327.9,118.1 L 290.2,170.0\" style=\"fill:none;fill-rule:evenodd;stroke:#000000;stroke-width:2.0px;stroke-linecap:butt;stroke-linejoin:miter;stroke-opacity:1\"/>\n",
       "<path class=\"bond-17 atom-7 atom-1\" d=\"M 246.9,366.9 L 191.3,398.9\" style=\"fill:none;fill-rule:evenodd;stroke:#000000;stroke-width:2.0px;stroke-linecap:butt;stroke-linejoin:miter;stroke-opacity:1\"/>\n",
       "<path class=\"bond-18 atom-10 atom-6\" d=\"M 295.5,287.0 L 271.3,294.8\" style=\"fill:none;fill-rule:evenodd;stroke:#0000FF;stroke-width:2.0px;stroke-linecap:butt;stroke-linejoin:miter;stroke-opacity:1\"/>\n",
       "<path class=\"bond-18 atom-10 atom-6\" d=\"M 271.3,294.8 L 247.0,302.7\" style=\"fill:none;fill-rule:evenodd;stroke:#000000;stroke-width:2.0px;stroke-linecap:butt;stroke-linejoin:miter;stroke-opacity:1\"/>\n",
       "<path class=\"bond-19 atom-17 atom-11\" d=\"M 290.2,170.0 L 327.9,221.9\" style=\"fill:none;fill-rule:evenodd;stroke:#000000;stroke-width:2.0px;stroke-linecap:butt;stroke-linejoin:miter;stroke-opacity:1\"/>\n",
       "<path d=\"M 345.0,335.8 L 345.7,334.9 L 345.0,334.0\" style=\"fill:none;stroke:#000000;stroke-width:2.0px;stroke-linecap:butt;stroke-linejoin:miter;stroke-opacity:1;\"/>\n",
       "<path d=\"M 438.3,102.2 L 440.9,100.3 L 440.8,99.1\" style=\"fill:none;stroke:#000000;stroke-width:2.0px;stroke-linecap:butt;stroke-linejoin:miter;stroke-opacity:1;\"/>\n",
       "<path d=\"M 331.0,119.1 L 327.9,118.1 L 326.1,120.7\" style=\"fill:none;stroke:#000000;stroke-width:2.0px;stroke-linecap:butt;stroke-linejoin:miter;stroke-opacity:1;\"/>\n",
       "<path d=\"M 292.1,167.4 L 290.2,170.0 L 292.1,172.6\" style=\"fill:none;stroke:#000000;stroke-width:2.0px;stroke-linecap:butt;stroke-linejoin:miter;stroke-opacity:1;\"/>\n",
       "<path class=\"atom-0\" d=\"M 178.8 463.1 Q 178.8 456.6, 182.0 452.9 Q 185.2 449.3, 191.3 449.3 Q 197.3 449.3, 200.5 452.9 Q 203.8 456.6, 203.8 463.1 Q 203.8 469.8, 200.5 473.5 Q 197.2 477.3, 191.3 477.3 Q 185.3 477.3, 182.0 473.5 Q 178.8 469.8, 178.8 463.1 M 191.3 474.2 Q 195.4 474.2, 197.7 471.4 Q 199.9 468.6, 199.9 463.1 Q 199.9 457.8, 197.7 455.1 Q 195.4 452.4, 191.3 452.4 Q 187.1 452.4, 184.8 455.1 Q 182.6 457.8, 182.6 463.1 Q 182.6 468.6, 184.8 471.4 Q 187.1 474.2, 191.3 474.2 \" fill=\"#FF0000\"/>\n",
       "<path class=\"atom-0\" d=\"M 208.0 449.6 L 211.7 449.6 L 211.7 461.2 L 225.7 461.2 L 225.7 449.6 L 229.4 449.6 L 229.4 476.8 L 225.7 476.8 L 225.7 464.3 L 211.7 464.3 L 211.7 476.8 L 208.0 476.8 L 208.0 449.6 \" fill=\"#FF0000\"/>\n",
       "<path class=\"atom-2\" d=\"M 129.8 353.1 L 138.7 367.6 Q 139.6 369.0, 141.0 371.6 Q 142.4 374.2, 142.5 374.3 L 142.5 353.1 L 146.1 353.1 L 146.1 380.4 L 142.4 380.4 L 132.8 364.6 Q 131.7 362.8, 130.5 360.7 Q 129.3 358.5, 129.0 357.9 L 129.0 380.4 L 125.4 380.4 L 125.4 353.1 L 129.8 353.1 \" fill=\"#0000FF\"/>\n",
       "<path class=\"atom-4\" d=\"M 27.7 256.9 L 31.4 256.9 L 31.4 268.5 L 45.3 268.5 L 45.3 256.9 L 49.0 256.9 L 49.0 284.1 L 45.3 284.1 L 45.3 271.5 L 31.4 271.5 L 31.4 284.1 L 27.7 284.1 L 27.7 256.9 \" fill=\"#0000FF\"/>\n",
       "<path class=\"atom-4\" d=\"M 54.4 283.2 Q 55.0 281.5, 56.6 280.5 Q 58.2 279.6, 60.4 279.6 Q 63.1 279.6, 64.6 281.0 Q 66.1 282.5, 66.1 285.1 Q 66.1 287.8, 64.1 290.3 Q 62.2 292.8, 58.1 295.7 L 66.4 295.7 L 66.4 297.7 L 54.3 297.7 L 54.3 296.0 Q 57.7 293.7, 59.6 291.9 Q 61.6 290.1, 62.6 288.5 Q 63.6 286.9, 63.6 285.2 Q 63.6 283.5, 62.7 282.6 Q 61.9 281.6, 60.4 281.6 Q 58.9 281.6, 57.9 282.2 Q 57.0 282.8, 56.3 284.1 L 54.4 283.2 \" fill=\"#0000FF\"/>\n",
       "<path class=\"atom-4\" d=\"M 74.3 256.9 L 83.2 271.3 Q 84.1 272.7, 85.5 275.3 Q 86.9 277.9, 87.0 278.0 L 87.0 256.9 L 90.6 256.9 L 90.6 284.1 L 86.9 284.1 L 77.3 268.3 Q 76.2 266.5, 75.0 264.4 Q 73.8 262.3, 73.5 261.6 L 73.5 284.1 L 70.0 284.1 L 70.0 256.9 L 74.3 256.9 \" fill=\"#0000FF\"/>\n",
       "<path class=\"atom-5\" d=\"M 185.4 257.0 L 194.3 271.4 Q 195.2 272.8, 196.6 275.4 Q 198.1 278.0, 198.1 278.1 L 198.1 257.0 L 201.8 257.0 L 201.8 284.2 L 198.0 284.2 L 188.4 268.4 Q 187.3 266.6, 186.1 264.5 Q 185.0 262.3, 184.6 261.7 L 184.6 284.2 L 181.1 284.2 L 181.1 257.0 L 185.4 257.0 \" fill=\"#0000FF\"/>\n",
       "<path class=\"atom-8\" d=\"M 301.9 373.1 L 310.8 387.5 Q 311.7 389.0, 313.1 391.6 Q 314.5 394.1, 314.6 394.3 L 314.6 373.1 L 318.2 373.1 L 318.2 400.4 L 314.5 400.4 L 304.9 384.6 Q 303.8 382.7, 302.6 380.6 Q 301.5 378.5, 301.1 377.8 L 301.1 400.4 L 297.6 400.4 L 297.6 373.1 L 301.9 373.1 \" fill=\"#0000FF\"/>\n",
       "<path class=\"atom-10\" d=\"M 302.0 269.3 L 310.9 283.7 Q 311.8 285.2, 313.2 287.7 Q 314.6 290.3, 314.7 290.5 L 314.7 269.3 L 318.3 269.3 L 318.3 296.6 L 314.6 296.6 L 305.0 280.8 Q 303.9 278.9, 302.7 276.8 Q 301.5 274.7, 301.2 274.0 L 301.2 296.6 L 297.7 296.6 L 297.7 269.3 L 302.0 269.3 \" fill=\"#0000FF\"/>\n",
       "<path class=\"atom-12\" d=\"M 376.4 202.2 Q 376.4 195.7, 379.6 192.0 Q 382.9 188.4, 388.9 188.4 Q 394.9 188.4, 398.2 192.0 Q 401.4 195.7, 401.4 202.2 Q 401.4 208.8, 398.1 212.6 Q 394.9 216.4, 388.9 216.4 Q 382.9 216.4, 379.6 212.6 Q 376.4 208.9, 376.4 202.2 M 388.9 213.3 Q 393.1 213.3, 395.3 210.5 Q 397.6 207.7, 397.6 202.2 Q 397.6 196.9, 395.3 194.2 Q 393.1 191.4, 388.9 191.4 Q 384.7 191.4, 382.5 194.1 Q 380.2 196.8, 380.2 202.2 Q 380.2 207.7, 382.5 210.5 Q 384.7 213.3, 388.9 213.3 \" fill=\"#FF0000\"/>\n",
       "<path class=\"atom-15\" d=\"M 421.7 36.6 Q 421.7 30.0, 424.9 26.4 Q 428.2 22.7, 434.2 22.7 Q 440.3 22.7, 443.5 26.4 Q 446.7 30.0, 446.7 36.6 Q 446.7 43.2, 443.5 47.0 Q 440.2 50.7, 434.2 50.7 Q 428.2 50.7, 424.9 47.0 Q 421.7 43.2, 421.7 36.6 M 434.2 47.6 Q 438.4 47.6, 440.6 44.9 Q 442.9 42.1, 442.9 36.6 Q 442.9 31.2, 440.6 28.5 Q 438.4 25.8, 434.2 25.8 Q 430.1 25.8, 427.8 28.5 Q 425.6 31.2, 425.6 36.6 Q 425.6 42.1, 427.8 44.9 Q 430.1 47.6, 434.2 47.6 \" fill=\"#FF0000\"/>\n",
       "<path class=\"atom-15\" d=\"M 451.0 23.0 L 454.7 23.0 L 454.7 34.6 L 468.6 34.6 L 468.6 23.0 L 472.3 23.0 L 472.3 50.3 L 468.6 50.3 L 468.6 37.7 L 454.7 37.7 L 454.7 50.3 L 451.0 50.3 L 451.0 23.0 \" fill=\"#FF0000\"/>\n",
       "</svg>"
      ],
      "text/plain": [
       "<IPython.core.display.SVG object>"
      ]
     },
     "execution_count": 72,
     "metadata": {},
     "output_type": "execute_result"
    }
   ],
   "source": [
    "smarts = smirks.split('>>')[0]\n",
    "mol_substrate = Chem.MolFromSmiles(smarts)\n",
    "print(Descriptors.ExactMolWt(mol_substrate))\n",
    "print(smarts_to_formula(smarts))\n",
    "fig = Draw.MolsToGridImage([mol_substrate], subImgSize=(500, 500))  # Adjust (300, 300) as needed\n",
    "fig"
   ]
  },
  {
   "cell_type": "code",
   "execution_count": 69,
   "id": "b1854fe4",
   "metadata": {},
   "outputs": [],
   "source": [
    "find_sub_structure(substrate, smarts)"
   ]
  },
  {
   "cell_type": "markdown",
   "id": "1f82dc3e",
   "metadata": {},
   "source": [
    "### Rxn pattern"
   ]
  },
  {
   "cell_type": "code",
   "execution_count": 15,
   "id": "00924ea4",
   "metadata": {
    "scrolled": true
   },
   "outputs": [
    {
     "data": {
      "image/png": "[encoded data removed]",
      "text/plain": [
       "<rdkit.Chem.rdChemReactions.ChemicalReaction at 0x7fac3a069ba0>"
      ]
     },
     "execution_count": 15,
     "metadata": {},
     "output_type": "execute_result"
    }
   ],
   "source": [
    "rxn = AllChem.ReactionFromSmarts(smirks)\n",
    "rxn"
   ]
  },
  {
   "cell_type": "markdown",
   "id": "d808f316",
   "metadata": {},
   "source": [
    "## Pred"
   ]
  },
  {
   "cell_type": "code",
   "execution_count": 121,
   "id": "fda857ca",
   "metadata": {
    "scrolled": true
   },
   "outputs": [
    {
     "name": "stdout",
     "output_type": "stream",
     "text": [
      "All the Products:\n",
      "\n",
      "CO\n"
     ]
    }
   ],
   "source": [
    "products = predict_products(substrate, smirks)\n",
    "print('All the Products:')\n",
    "print()\n",
    "for p in products:\n",
    "    print(p)"
   ]
  },
  {
   "cell_type": "markdown",
   "id": "6168b602",
   "metadata": {},
   "source": [
    "## Result"
   ]
  },
  {
   "cell_type": "code",
   "execution_count": 122,
   "id": "af55543f",
   "metadata": {},
   "outputs": [
    {
     "name": "stdout",
     "output_type": "stream",
     "text": [
      "['CO']\n"
     ]
    }
   ],
   "source": [
    "product = filter_by_mass_difference(products, substrate, mass_difference)\n",
    "print(product)\n",
    "product = product[0]"
   ]
  },
  {
   "cell_type": "code",
   "execution_count": 123,
   "id": "c5188ccc",
   "metadata": {},
   "outputs": [
    {
     "data": {
      "text/plain": [
       "'CCOC1=NC(=NC2=C1N=CN2[C@H]3C[C@@H]([C@H](O3)CO)O)N>>CO'"
      ]
     },
     "execution_count": 123,
     "metadata": {},
     "output_type": "execute_result"
    }
   ],
   "source": [
    "process = substrate + '>>' + product\n",
    "process"
   ]
  },
  {
   "cell_type": "code",
   "execution_count": 124,
   "id": "483f18b9",
   "metadata": {},
   "outputs": [
    {
     "name": "stdout",
     "output_type": "stream",
     "text": [
      "32.026214748\n"
     ]
    },
    {
     "data": {
      "image/png": "[encoded data removed]",
      "text/plain": [
       "<IPython.core.display.Image object>"
      ]
     },
     "execution_count": 124,
     "metadata": {},
     "output_type": "execute_result"
    }
   ],
   "source": [
    "mol_substrate = Chem.MolFromSmiles(product)\n",
    "print(Descriptors.ExactMolWt(mol_substrate))\n",
    "fig = Draw.MolsToGridImage([mol_substrate], subImgSize=(500, 500))  # Adjust (300, 300) as needed\n",
    "fig"
   ]
  },
  {
   "cell_type": "code",
   "execution_count": 125,
   "id": "eafafd54",
   "metadata": {},
   "outputs": [
    {
     "data": {
      "image/png": "[encoded data removed]",
      "text/plain": [
       "<Figure size 1500x300 with 5 Axes>"
      ]
     },
     "metadata": {},
     "output_type": "display_data"
    }
   ],
   "source": [
    "plot_reaction_scheme(substrate, product, smarts)"
   ]
  },
  {
   "cell_type": "markdown",
   "id": "cc638992",
   "metadata": {},
   "source": [
    "************************************"
   ]
  },
  {
   "cell_type": "markdown",
   "id": "64f58d4a",
   "metadata": {},
   "source": [
    "# TEST PART"
   ]
  },
  {
   "cell_type": "code",
   "execution_count": 8,
   "id": "cc38f5cb",
   "metadata": {},
   "outputs": [],
   "source": [
    "ref = pd.read_csv('/Users/bowen/Desktop/MCID2.0/03_initial_result/01_kegg/1_rxn/mcidxkegg_1811882_all.csv')\n",
    "ref = ref[['possible_reaction','smiles','substrate_name_all']]"
   ]
  },
  {
   "cell_type": "code",
   "execution_count": 80,
   "id": "2f411568",
   "metadata": {},
   "outputs": [
    {
     "data": {
      "text/html": [
       "<div>\n",
       "<style scoped>\n",
       "    .dataframe tbody tr th:only-of-type {\n",
       "        vertical-align: middle;\n",
       "    }\n",
       "\n",
       "    .dataframe tbody tr th {\n",
       "        vertical-align: top;\n",
       "    }\n",
       "\n",
       "    .dataframe thead th {\n",
       "        text-align: right;\n",
       "    }\n",
       "</style>\n",
       "<table border=\"1\" class=\"dataframe\">\n",
       "  <thead>\n",
       "    <tr style=\"text-align: right;\">\n",
       "      <th></th>\n",
       "      <th>possible_reaction</th>\n",
       "      <th>smiles</th>\n",
       "      <th>substrate_name_all</th>\n",
       "    </tr>\n",
       "  </thead>\n",
       "  <tbody>\n",
       "    <tr>\n",
       "      <th>1</th>\n",
       "      <td>R65</td>\n",
       "      <td>O=P(O)(O)OP(=O)(O)OP(=O)(O)O</td>\n",
       "      <td>ATP;_Adenosine 5'-triphosphate</td>\n",
       "    </tr>\n",
       "    <tr>\n",
       "      <th>2</th>\n",
       "      <td>R65</td>\n",
       "      <td>O=C(N)C1=CC=C[N+](=C1)C2OC(COP(=O)(O)OP(=O)(O)...</td>\n",
       "      <td>NAD+;_NAD;_Nicotinamide adenine dinucleotide;_...</td>\n",
       "    </tr>\n",
       "    <tr>\n",
       "      <th>3</th>\n",
       "      <td>R65</td>\n",
       "      <td>O=C(N)C1=CN(C=CC1)C2OC(COP(=O)(O)OP(=O)(O)O)C(...</td>\n",
       "      <td>NADH;_DPNH;_Reduced nicotinamide adenine dinuc...</td>\n",
       "    </tr>\n",
       "    <tr>\n",
       "      <th>4</th>\n",
       "      <td>R65</td>\n",
       "      <td>O=P(O)(O)OP(=O)(O)O</td>\n",
       "      <td>ADP;_Adenosine 5'-diphosphate</td>\n",
       "    </tr>\n",
       "    <tr>\n",
       "      <th>5</th>\n",
       "      <td>R65</td>\n",
       "      <td>O=C1N=C2C(=NC=3C=C(C(=CC3N2CC(O)C(O)C(O)COP(=O...</td>\n",
       "      <td>FAD;_Flavin adenine dinucleotide</td>\n",
       "    </tr>\n",
       "    <tr>\n",
       "      <th>6</th>\n",
       "      <td>R65</td>\n",
       "      <td>O=P(O)(O)O</td>\n",
       "      <td>AMP;_Adenosine 5'-monophosphate;_Adenylic acid...</td>\n",
       "    </tr>\n",
       "    <tr>\n",
       "      <th>7</th>\n",
       "      <td>R65</td>\n",
       "      <td>O=P(O)(O)OS(=O)(=O)O</td>\n",
       "      <td>Adenylyl sulfate;_Adenosine 5'-phosphosulfate;...</td>\n",
       "    </tr>\n",
       "    <tr>\n",
       "      <th>8</th>\n",
       "      <td>R65</td>\n",
       "      <td>O=P(O)(O)OP(=O)(O)OCC1OC(O)C(O)C1O</td>\n",
       "      <td>ADP-ribose;_ADP-D-ribose;_Adenosine diphosphat...</td>\n",
       "    </tr>\n",
       "    <tr>\n",
       "      <th>9</th>\n",
       "      <td>R65</td>\n",
       "      <td>O=P(O)(O)OP(=O)(O)OC1OC(CO)C(O)C(O)C1O</td>\n",
       "      <td>ADP-glucose;_ADP-alpha-D-glucose;_Adenosine di...</td>\n",
       "    </tr>\n",
       "    <tr>\n",
       "      <th>10</th>\n",
       "      <td>R65</td>\n",
       "      <td>O=C(O)C1=CC=C[N+](=C1)C2OC(COP(=O)(O)OP(=O)(O)...</td>\n",
       "      <td>Deamino-NAD+;_Deamido-NAD+;_Deamido-NAD;_Nicot...</td>\n",
       "    </tr>\n",
       "    <tr>\n",
       "      <th>11</th>\n",
       "      <td>R65</td>\n",
       "      <td>O=C(NCCS)CCNC(=O)C(O)C(C)(C)COP(=O)(O)OP(=O)(O)O</td>\n",
       "      <td>Dephospho-CoA;_Dephosphocoenzyme A;_3'-Dephosp...</td>\n",
       "    </tr>\n",
       "    <tr>\n",
       "      <th>12</th>\n",
       "      <td>R65</td>\n",
       "      <td>O=P(O)(O)OC1C(O)C(OC1COP(=O)(O)OC2C(O)C(OC2CO)...</td>\n",
       "      <td>RNA (poly(A));_Poly(A);_Polyadenylic acid</td>\n",
       "    </tr>\n",
       "    <tr>\n",
       "      <th>13</th>\n",
       "      <td>R65</td>\n",
       "      <td>O=P(O)(O)OCC1OC(N2C=NC=3C(=NC=NC32)N)C(O)C1OP(...</td>\n",
       "      <td>RNA (poly(A));_Poly(A);_Polyadenylic acid</td>\n",
       "    </tr>\n",
       "    <tr>\n",
       "      <th>14</th>\n",
       "      <td>R65</td>\n",
       "      <td>ON</td>\n",
       "      <td>2-Aminoadenosine</td>\n",
       "    </tr>\n",
       "    <tr>\n",
       "      <th>15</th>\n",
       "      <td>R65</td>\n",
       "      <td>O=P(O)(O)O</td>\n",
       "      <td>Adenosine 2'-phosphate;_2'-Adenylic acid;_Aden...</td>\n",
       "    </tr>\n",
       "    <tr>\n",
       "      <th>16</th>\n",
       "      <td>R65</td>\n",
       "      <td>O=C(O)C(N)CCCNC(=N)NC1OC(COP(=O)(O)OP(=O)(O)O)...</td>\n",
       "      <td>N(omega)-(ADP-D-ribosyl)-L-arginine;_Nomega-(A...</td>\n",
       "    </tr>\n",
       "    <tr>\n",
       "      <th>17</th>\n",
       "      <td>R65</td>\n",
       "      <td>O=P(O)(O)OP(=O)(O)OP(=O)(O)OP(=O)(O)OCC1OC(N2C...</td>\n",
       "      <td>P1,P4-Bis(5'-adenosyl)tetraphosphate;_AppppA</td>\n",
       "    </tr>\n",
       "    <tr>\n",
       "      <th>18</th>\n",
       "      <td>R65</td>\n",
       "      <td>O=C1NC(=O)C=2NC=3C=C(C(=CC3N(C2N1)CC(O)C(O)C(O...</td>\n",
       "      <td>FADH2</td>\n",
       "    </tr>\n",
       "    <tr>\n",
       "      <th>19</th>\n",
       "      <td>R65</td>\n",
       "      <td>O=P(O)(O)O</td>\n",
       "      <td>3'-AMP;_3'-Adenylic acid;_3'-Adenosine monopho...</td>\n",
       "    </tr>\n",
       "    <tr>\n",
       "      <th>20</th>\n",
       "      <td>R65</td>\n",
       "      <td>O=P(O)(O)OP(=O)(O)OC1OC(CO)C(O)C1O</td>\n",
       "      <td>ADP-D-ribose</td>\n",
       "    </tr>\n",
       "    <tr>\n",
       "      <th>21</th>\n",
       "      <td>R65</td>\n",
       "      <td>OC</td>\n",
       "      <td>1-Methyladenosine</td>\n",
       "    </tr>\n",
       "    <tr>\n",
       "      <th>22</th>\n",
       "      <td>R65</td>\n",
       "      <td>O=C(O)C(O)COP(=O)(O)OP(=O)(O)O</td>\n",
       "      <td>3-(ADP)-glycerate</td>\n",
       "    </tr>\n",
       "    <tr>\n",
       "      <th>23</th>\n",
       "      <td>R65</td>\n",
       "      <td>ONC</td>\n",
       "      <td>2-Methylaminoadenosine</td>\n",
       "    </tr>\n",
       "    <tr>\n",
       "      <th>24</th>\n",
       "      <td>R65</td>\n",
       "      <td>O=CC1(O)C(OC(OC2C(O)C(O)C(NC(=N)N)C(O)C2NC(=N)...</td>\n",
       "      <td>3''-Adenylylstreptomycin</td>\n",
       "    </tr>\n",
       "    <tr>\n",
       "      <th>25</th>\n",
       "      <td>R65</td>\n",
       "      <td>O=P(O)(O)OP(=O)(O)OP(=O)(O)OP(=O)(O)O</td>\n",
       "      <td>Adenosine tetraphosphate;_Adenosine 5'-tetraph...</td>\n",
       "    </tr>\n",
       "    <tr>\n",
       "      <th>26</th>\n",
       "      <td>R65</td>\n",
       "      <td>O=C1CC(OC2OC3C(OC12O)C(NC)C(O)C(NC)C3OP(=O)(O)O)C</td>\n",
       "      <td>3''-Adenylylspectinomycin</td>\n",
       "    </tr>\n",
       "    <tr>\n",
       "      <th>27</th>\n",
       "      <td>R65</td>\n",
       "      <td>O=C(O)C(OP(=O)(O)O)COP(=O)(O)OP(=O)(O)O</td>\n",
       "      <td>3-(ADP)-2-phosphoglycerate</td>\n",
       "    </tr>\n",
       "    <tr>\n",
       "      <th>28</th>\n",
       "      <td>R65</td>\n",
       "      <td>O=C(O)C(NP(=O)(O)O)CC=1C=CC=CC1</td>\n",
       "      <td>N-Adenylyl-L-phenylalanine</td>\n",
       "    </tr>\n",
       "    <tr>\n",
       "      <th>29</th>\n",
       "      <td>R65</td>\n",
       "      <td>O=P(O)(O)N</td>\n",
       "      <td>Adenosine 5'-phosphoramidate</td>\n",
       "    </tr>\n",
       "    <tr>\n",
       "      <th>30</th>\n",
       "      <td>R65</td>\n",
       "      <td>O=C(OP(=O)(O)O)C=1C=CC=C(O)C1O</td>\n",
       "      <td>(2,3-Dihydroxybenzoyl)adenylate</td>\n",
       "    </tr>\n",
       "  </tbody>\n",
       "</table>\n",
       "</div>"
      ],
      "text/plain": [
       "   possible_reaction                                             smiles  \\\n",
       "1                R65                       O=P(O)(O)OP(=O)(O)OP(=O)(O)O   \n",
       "2                R65  O=C(N)C1=CC=C[N+](=C1)C2OC(COP(=O)(O)OP(=O)(O)...   \n",
       "3                R65  O=C(N)C1=CN(C=CC1)C2OC(COP(=O)(O)OP(=O)(O)O)C(...   \n",
       "4                R65                                O=P(O)(O)OP(=O)(O)O   \n",
       "5                R65  O=C1N=C2C(=NC=3C=C(C(=CC3N2CC(O)C(O)C(O)COP(=O...   \n",
       "6                R65                                         O=P(O)(O)O   \n",
       "7                R65                               O=P(O)(O)OS(=O)(=O)O   \n",
       "8                R65                 O=P(O)(O)OP(=O)(O)OCC1OC(O)C(O)C1O   \n",
       "9                R65             O=P(O)(O)OP(=O)(O)OC1OC(CO)C(O)C(O)C1O   \n",
       "10               R65  O=C(O)C1=CC=C[N+](=C1)C2OC(COP(=O)(O)OP(=O)(O)...   \n",
       "11               R65   O=C(NCCS)CCNC(=O)C(O)C(C)(C)COP(=O)(O)OP(=O)(O)O   \n",
       "12               R65  O=P(O)(O)OC1C(O)C(OC1COP(=O)(O)OC2C(O)C(OC2CO)...   \n",
       "13               R65  O=P(O)(O)OCC1OC(N2C=NC=3C(=NC=NC32)N)C(O)C1OP(...   \n",
       "14               R65                                                 ON   \n",
       "15               R65                                         O=P(O)(O)O   \n",
       "16               R65  O=C(O)C(N)CCCNC(=N)NC1OC(COP(=O)(O)OP(=O)(O)O)...   \n",
       "17               R65  O=P(O)(O)OP(=O)(O)OP(=O)(O)OP(=O)(O)OCC1OC(N2C...   \n",
       "18               R65  O=C1NC(=O)C=2NC=3C=C(C(=CC3N(C2N1)CC(O)C(O)C(O...   \n",
       "19               R65                                         O=P(O)(O)O   \n",
       "20               R65                 O=P(O)(O)OP(=O)(O)OC1OC(CO)C(O)C1O   \n",
       "21               R65                                                 OC   \n",
       "22               R65                     O=C(O)C(O)COP(=O)(O)OP(=O)(O)O   \n",
       "23               R65                                                ONC   \n",
       "24               R65  O=CC1(O)C(OC(OC2C(O)C(O)C(NC(=N)N)C(O)C2NC(=N)...   \n",
       "25               R65              O=P(O)(O)OP(=O)(O)OP(=O)(O)OP(=O)(O)O   \n",
       "26               R65  O=C1CC(OC2OC3C(OC12O)C(NC)C(O)C(NC)C3OP(=O)(O)O)C   \n",
       "27               R65            O=C(O)C(OP(=O)(O)O)COP(=O)(O)OP(=O)(O)O   \n",
       "28               R65                    O=C(O)C(NP(=O)(O)O)CC=1C=CC=CC1   \n",
       "29               R65                                         O=P(O)(O)N   \n",
       "30               R65                     O=C(OP(=O)(O)O)C=1C=CC=C(O)C1O   \n",
       "\n",
       "                                   substrate_name_all  \n",
       "1                      ATP;_Adenosine 5'-triphosphate  \n",
       "2   NAD+;_NAD;_Nicotinamide adenine dinucleotide;_...  \n",
       "3   NADH;_DPNH;_Reduced nicotinamide adenine dinuc...  \n",
       "4                       ADP;_Adenosine 5'-diphosphate  \n",
       "5                    FAD;_Flavin adenine dinucleotide  \n",
       "6   AMP;_Adenosine 5'-monophosphate;_Adenylic acid...  \n",
       "7   Adenylyl sulfate;_Adenosine 5'-phosphosulfate;...  \n",
       "8   ADP-ribose;_ADP-D-ribose;_Adenosine diphosphat...  \n",
       "9   ADP-glucose;_ADP-alpha-D-glucose;_Adenosine di...  \n",
       "10  Deamino-NAD+;_Deamido-NAD+;_Deamido-NAD;_Nicot...  \n",
       "11  Dephospho-CoA;_Dephosphocoenzyme A;_3'-Dephosp...  \n",
       "12          RNA (poly(A));_Poly(A);_Polyadenylic acid  \n",
       "13          RNA (poly(A));_Poly(A);_Polyadenylic acid  \n",
       "14                                   2-Aminoadenosine  \n",
       "15  Adenosine 2'-phosphate;_2'-Adenylic acid;_Aden...  \n",
       "16  N(omega)-(ADP-D-ribosyl)-L-arginine;_Nomega-(A...  \n",
       "17       P1,P4-Bis(5'-adenosyl)tetraphosphate;_AppppA  \n",
       "18                                              FADH2  \n",
       "19  3'-AMP;_3'-Adenylic acid;_3'-Adenosine monopho...  \n",
       "20                                       ADP-D-ribose  \n",
       "21                                  1-Methyladenosine  \n",
       "22                                  3-(ADP)-glycerate  \n",
       "23                             2-Methylaminoadenosine  \n",
       "24                           3''-Adenylylstreptomycin  \n",
       "25  Adenosine tetraphosphate;_Adenosine 5'-tetraph...  \n",
       "26                          3''-Adenylylspectinomycin  \n",
       "27                         3-(ADP)-2-phosphoglycerate  \n",
       "28                         N-Adenylyl-L-phenylalanine  \n",
       "29                       Adenosine 5'-phosphoramidate  \n",
       "30                    (2,3-Dihydroxybenzoyl)adenylate  "
      ]
     },
     "execution_count": 80,
     "metadata": {},
     "output_type": "execute_result"
    }
   ],
   "source": [
    "trimming_ref = ref[ref['possible_reaction'] == 'R65']\n",
    "trimming_ref.index = range(1, len(trimming_ref)+1)\n",
    "trimming_ref.head(30)"
   ]
  },
  {
   "cell_type": "code",
   "execution_count": 78,
   "id": "c9428662",
   "metadata": {},
   "outputs": [
    {
     "name": "stdout",
     "output_type": "stream",
     "text": [
      "possible_reaction                                                   R66\n",
      "smiles                O=P(O)(O)OP(=O)(O)OP(=O)(O)OCC1OC(N2C=NC=3C(=N...\n",
      "substrate_name_all                       ATP;_Adenosine 5'-triphosphate\n",
      "Name: 1, dtype: object\n",
      "O=P(O)(O)OP(=O)(O)OP(=O)(O)OCC1OC(N2C=NC=3C(=NC=NC32)N)C(OC4C(O)C(OC4CO)N5C=NC=6C(=NC=NC65)N)C1O\n"
     ]
    }
   ],
   "source": [
    "line_at_index = trimming_ref.loc[1]\n",
    "print(line_at_index)\n",
    "print(line_at_index['smiles'])"
   ]
  },
  {
   "cell_type": "code",
   "execution_count": 79,
   "id": "e52ae7a7",
   "metadata": {
    "scrolled": false
   },
   "outputs": [
    {
     "name": "stdout",
     "output_type": "stream",
     "text": [
      "756.081934674\n"
     ]
    },
    {
     "data": {
      "image/png": "[encoded data removed]",
      "text/plain": [
       "<IPython.core.display.Image object>"
      ]
     },
     "execution_count": 79,
     "metadata": {},
     "output_type": "execute_result"
    }
   ],
   "source": [
    "mol_substrate = Chem.MolFromSmiles('O=P(O)(O)OP(=O)(O)OP(=O)(O)OCC1OC(N2C=NC=3C(=NC=NC32)N)C(OC4C(O)C(OC4CO)N5C=NC=6C(=NC=NC65)N)C1O')\n",
    "print(Descriptors.ExactMolWt(mol_substrate))\n",
    "# Chem.Draw.MolsToGridImage([mol_substrate])\n",
    "fig = Draw.MolsToGridImage([mol_substrate], subImgSize=(500, 500)) \n",
    "fig"
   ]
  },
  {
   "cell_type": "code",
   "execution_count": 23,
   "id": "b0400b82",
   "metadata": {},
   "outputs": [
    {
     "data": {
      "text/plain": [
       "27.99491462000003"
      ]
     },
     "execution_count": 23,
     "metadata": {},
     "output_type": "execute_result"
    }
   ],
   "source": [
    "663.1091218040001 - 635.1142071840001"
   ]
  },
  {
   "cell_type": "markdown",
   "id": "2b224379",
   "metadata": {},
   "source": [
    "# Some Rxn hard to use SMIRKS to represent"
   ]
  },
  {
   "cell_type": "code",
   "execution_count": 123,
   "id": "10e983fc",
   "metadata": {},
   "outputs": [
    {
     "name": "stdout",
     "output_type": "stream",
     "text": [
      "[]\n"
     ]
    }
   ],
   "source": [
    "from rdkit import Chem\n",
    "from rdkit.Chem import AllChem\n",
    "\n",
    "def predict_products_group(substrate, subgroup, smirks):\n",
    "    mol = Chem.MolFromSmiles(substrate)\n",
    "    pattern = Chem.MolFromSmarts(subgroup)\n",
    "    matches = mol.GetSubstructMatches(pattern)\n",
    "    modified_molecules = []\n",
    "\n",
    "    reaction = AllChem.ReactionFromSmarts(smirks)\n",
    "\n",
    "    for match in matches:\n",
    "        # Apply the reaction to the molecule. The reaction expects a list of reactants, but we have only one.\n",
    "        products = reaction.RunReactants((mol,))\n",
    "\n",
    "        # Assuming the reaction produces at least one product, take the first product.\n",
    "        if products:\n",
    "            product_mol = products[0][0]  # Take the first product\n",
    "            modified_smiles = Chem.MolToSmiles(product_mol, isomericSmiles=True)\n",
    "            modified_molecules.append(modified_smiles)\n",
    "\n",
    "    return modified_molecules\n",
    "\n",
    "# Example usage\n",
    "substrate = 'CC1C(CC(C(O1)OP(=O)(O)OP(=O)(O)OCC2C(C(C(O2)N3C=CC(=NC3=O)N)O)O)O)O'  # Example molecule with an OH group to be replaced\n",
    "subgroup = 'C1=CN(C(=O)N=C1N)C2C(C(C(O2)CO)O)O'  # Target OH group on a ring\n",
    "smirks = 'CC1=CN(C(=O)N=C1N)C2C(C(C(O2)CO)O)O>>O'  # Reaction: Replace OH with sulfate group\n",
    "\n",
    "product = predict_products_group(substrate, subgroup, smirks)\n",
    "print(product)"
   ]
  },
  {
   "cell_type": "code",
   "execution_count": 25,
   "id": "c14e8865",
   "metadata": {},
   "outputs": [
    {
     "ename": "TypeError",
     "evalue": "Image data of dtype object cannot be converted to float",
     "output_type": "error",
     "traceback": [
      "\u001b[0;31m---------------------------------------------------------------------------\u001b[0m",
      "\u001b[0;31mTypeError\u001b[0m                                 Traceback (most recent call last)",
      "Cell \u001b[0;32mIn [25], line 1\u001b[0m\n\u001b[0;32m----> 1\u001b[0m \u001b[43mplot_reaction_scheme\u001b[49m\u001b[43m(\u001b[49m\u001b[43msubstrate\u001b[49m\u001b[43m,\u001b[49m\u001b[43m \u001b[49m\u001b[38;5;124;43m'\u001b[39;49m\u001b[38;5;124;43mNCCc1ccc(O)c(OS(=O)(=O)O)c1\u001b[39;49m\u001b[38;5;124;43m'\u001b[39;49m\u001b[43m,\u001b[49m\u001b[43m \u001b[49m\u001b[43msubgroup\u001b[49m\u001b[43m)\u001b[49m\n",
      "Cell \u001b[0;32mIn [8], line 67\u001b[0m, in \u001b[0;36mplot_reaction_scheme\u001b[0;34m(substrate_smiles, product_smiles, smarts_pattern)\u001b[0m\n\u001b[1;32m     64\u001b[0m ax[\u001b[38;5;241m1\u001b[39m]\u001b[38;5;241m.\u001b[39maxis(\u001b[38;5;124m\"\u001b[39m\u001b[38;5;124moff\u001b[39m\u001b[38;5;124m\"\u001b[39m)\n\u001b[1;32m     66\u001b[0m \u001b[38;5;66;03m# Plotting sub-structure\u001b[39;00m\n\u001b[0;32m---> 67\u001b[0m \u001b[43mplot_image_or_placeholder\u001b[49m\u001b[43m(\u001b[49m\u001b[43max\u001b[49m\u001b[43m[\u001b[49m\u001b[38;5;241;43m2\u001b[39;49m\u001b[43m]\u001b[49m\u001b[43m,\u001b[49m\u001b[43m \u001b[49m\u001b[43msub_structure_img\u001b[49m\u001b[43m,\u001b[49m\u001b[43m \u001b[49m\u001b[38;5;124;43m\"\u001b[39;49m\u001b[38;5;124;43mNo Match\u001b[39;49m\u001b[38;5;124;43m\"\u001b[39;49m\u001b[43m)\u001b[49m\n\u001b[1;32m     69\u001b[0m \u001b[38;5;66;03m# Second arrow\u001b[39;00m\n\u001b[1;32m     70\u001b[0m ax[\u001b[38;5;241m3\u001b[39m]\u001b[38;5;241m.\u001b[39mtext(\u001b[38;5;241m0.5\u001b[39m, \u001b[38;5;241m0.5\u001b[39m, \u001b[38;5;124m'\u001b[39m\u001b[38;5;124m→\u001b[39m\u001b[38;5;124m'\u001b[39m, horizontalalignment\u001b[38;5;241m=\u001b[39m\u001b[38;5;124m'\u001b[39m\u001b[38;5;124mcenter\u001b[39m\u001b[38;5;124m'\u001b[39m, verticalalignment\u001b[38;5;241m=\u001b[39m\u001b[38;5;124m'\u001b[39m\u001b[38;5;124mcenter\u001b[39m\u001b[38;5;124m'\u001b[39m, fontsize\u001b[38;5;241m=\u001b[39m\u001b[38;5;241m30\u001b[39m, color\u001b[38;5;241m=\u001b[39m\u001b[38;5;124m\"\u001b[39m\u001b[38;5;124mroyalblue\u001b[39m\u001b[38;5;124m\"\u001b[39m)\n",
      "Cell \u001b[0;32mIn [8], line 56\u001b[0m, in \u001b[0;36mplot_reaction_scheme.<locals>.plot_image_or_placeholder\u001b[0;34m(ax, img, placeholder_text)\u001b[0m\n\u001b[1;32m     54\u001b[0m     ax\u001b[38;5;241m.\u001b[39maxis(\u001b[38;5;124m\"\u001b[39m\u001b[38;5;124moff\u001b[39m\u001b[38;5;124m\"\u001b[39m)\n\u001b[1;32m     55\u001b[0m \u001b[38;5;28;01melse\u001b[39;00m:\n\u001b[0;32m---> 56\u001b[0m     \u001b[43max\u001b[49m\u001b[38;5;241;43m.\u001b[39;49m\u001b[43mimshow\u001b[49m\u001b[43m(\u001b[49m\u001b[43mimg\u001b[49m\u001b[43m)\u001b[49m\n\u001b[1;32m     57\u001b[0m     ax\u001b[38;5;241m.\u001b[39maxis(\u001b[38;5;124m\"\u001b[39m\u001b[38;5;124moff\u001b[39m\u001b[38;5;124m\"\u001b[39m)\n",
      "File \u001b[0;32m/Applications/anaconda3/lib/python3.9/site-packages/matplotlib/__init__.py:1465\u001b[0m, in \u001b[0;36m_preprocess_data.<locals>.inner\u001b[0;34m(ax, data, *args, **kwargs)\u001b[0m\n\u001b[1;32m   1462\u001b[0m \u001b[38;5;129m@functools\u001b[39m\u001b[38;5;241m.\u001b[39mwraps(func)\n\u001b[1;32m   1463\u001b[0m \u001b[38;5;28;01mdef\u001b[39;00m \u001b[38;5;21minner\u001b[39m(ax, \u001b[38;5;241m*\u001b[39margs, data\u001b[38;5;241m=\u001b[39m\u001b[38;5;28;01mNone\u001b[39;00m, \u001b[38;5;241m*\u001b[39m\u001b[38;5;241m*\u001b[39mkwargs):\n\u001b[1;32m   1464\u001b[0m     \u001b[38;5;28;01mif\u001b[39;00m data \u001b[38;5;129;01mis\u001b[39;00m \u001b[38;5;28;01mNone\u001b[39;00m:\n\u001b[0;32m-> 1465\u001b[0m         \u001b[38;5;28;01mreturn\u001b[39;00m \u001b[43mfunc\u001b[49m\u001b[43m(\u001b[49m\u001b[43max\u001b[49m\u001b[43m,\u001b[49m\u001b[43m \u001b[49m\u001b[38;5;241;43m*\u001b[39;49m\u001b[38;5;28;43mmap\u001b[39;49m\u001b[43m(\u001b[49m\u001b[43msanitize_sequence\u001b[49m\u001b[43m,\u001b[49m\u001b[43m \u001b[49m\u001b[43margs\u001b[49m\u001b[43m)\u001b[49m\u001b[43m,\u001b[49m\u001b[43m \u001b[49m\u001b[38;5;241;43m*\u001b[39;49m\u001b[38;5;241;43m*\u001b[39;49m\u001b[43mkwargs\u001b[49m\u001b[43m)\u001b[49m\n\u001b[1;32m   1467\u001b[0m     bound \u001b[38;5;241m=\u001b[39m new_sig\u001b[38;5;241m.\u001b[39mbind(ax, \u001b[38;5;241m*\u001b[39margs, \u001b[38;5;241m*\u001b[39m\u001b[38;5;241m*\u001b[39mkwargs)\n\u001b[1;32m   1468\u001b[0m     auto_label \u001b[38;5;241m=\u001b[39m (bound\u001b[38;5;241m.\u001b[39marguments\u001b[38;5;241m.\u001b[39mget(label_namer)\n\u001b[1;32m   1469\u001b[0m                   \u001b[38;5;129;01mor\u001b[39;00m bound\u001b[38;5;241m.\u001b[39mkwargs\u001b[38;5;241m.\u001b[39mget(label_namer))\n",
      "File \u001b[0;32m/Applications/anaconda3/lib/python3.9/site-packages/matplotlib/axes/_axes.py:5751\u001b[0m, in \u001b[0;36mAxes.imshow\u001b[0;34m(self, X, cmap, norm, aspect, interpolation, alpha, vmin, vmax, origin, extent, interpolation_stage, filternorm, filterrad, resample, url, **kwargs)\u001b[0m\n\u001b[1;32m   5748\u001b[0m \u001b[38;5;28;01mif\u001b[39;00m aspect \u001b[38;5;129;01mis\u001b[39;00m \u001b[38;5;129;01mnot\u001b[39;00m \u001b[38;5;28;01mNone\u001b[39;00m:\n\u001b[1;32m   5749\u001b[0m     \u001b[38;5;28mself\u001b[39m\u001b[38;5;241m.\u001b[39mset_aspect(aspect)\n\u001b[0;32m-> 5751\u001b[0m \u001b[43mim\u001b[49m\u001b[38;5;241;43m.\u001b[39;49m\u001b[43mset_data\u001b[49m\u001b[43m(\u001b[49m\u001b[43mX\u001b[49m\u001b[43m)\u001b[49m\n\u001b[1;32m   5752\u001b[0m im\u001b[38;5;241m.\u001b[39mset_alpha(alpha)\n\u001b[1;32m   5753\u001b[0m \u001b[38;5;28;01mif\u001b[39;00m im\u001b[38;5;241m.\u001b[39mget_clip_path() \u001b[38;5;129;01mis\u001b[39;00m \u001b[38;5;28;01mNone\u001b[39;00m:\n\u001b[1;32m   5754\u001b[0m     \u001b[38;5;66;03m# image does not already have clipping set, clip to axes patch\u001b[39;00m\n",
      "File \u001b[0;32m/Applications/anaconda3/lib/python3.9/site-packages/matplotlib/image.py:723\u001b[0m, in \u001b[0;36m_ImageBase.set_data\u001b[0;34m(self, A)\u001b[0m\n\u001b[1;32m    721\u001b[0m \u001b[38;5;28;01mif\u001b[39;00m \u001b[38;5;28misinstance\u001b[39m(A, PIL\u001b[38;5;241m.\u001b[39mImage\u001b[38;5;241m.\u001b[39mImage):\n\u001b[1;32m    722\u001b[0m     A \u001b[38;5;241m=\u001b[39m pil_to_array(A)  \u001b[38;5;66;03m# Needed e.g. to apply png palette.\u001b[39;00m\n\u001b[0;32m--> 723\u001b[0m \u001b[38;5;28mself\u001b[39m\u001b[38;5;241m.\u001b[39m_A \u001b[38;5;241m=\u001b[39m \u001b[38;5;28;43mself\u001b[39;49m\u001b[38;5;241;43m.\u001b[39;49m\u001b[43m_normalize_image_array\u001b[49m\u001b[43m(\u001b[49m\u001b[43mA\u001b[49m\u001b[43m)\u001b[49m\n\u001b[1;32m    724\u001b[0m \u001b[38;5;28mself\u001b[39m\u001b[38;5;241m.\u001b[39m_imcache \u001b[38;5;241m=\u001b[39m \u001b[38;5;28;01mNone\u001b[39;00m\n\u001b[1;32m    725\u001b[0m \u001b[38;5;28mself\u001b[39m\u001b[38;5;241m.\u001b[39mstale \u001b[38;5;241m=\u001b[39m \u001b[38;5;28;01mTrue\u001b[39;00m\n",
      "File \u001b[0;32m/Applications/anaconda3/lib/python3.9/site-packages/matplotlib/image.py:688\u001b[0m, in \u001b[0;36m_ImageBase._normalize_image_array\u001b[0;34m(A)\u001b[0m\n\u001b[1;32m    686\u001b[0m A \u001b[38;5;241m=\u001b[39m cbook\u001b[38;5;241m.\u001b[39msafe_masked_invalid(A, copy\u001b[38;5;241m=\u001b[39m\u001b[38;5;28;01mTrue\u001b[39;00m)\n\u001b[1;32m    687\u001b[0m \u001b[38;5;28;01mif\u001b[39;00m A\u001b[38;5;241m.\u001b[39mdtype \u001b[38;5;241m!=\u001b[39m np\u001b[38;5;241m.\u001b[39muint8 \u001b[38;5;129;01mand\u001b[39;00m \u001b[38;5;129;01mnot\u001b[39;00m np\u001b[38;5;241m.\u001b[39mcan_cast(A\u001b[38;5;241m.\u001b[39mdtype, \u001b[38;5;28mfloat\u001b[39m, \u001b[38;5;124m\"\u001b[39m\u001b[38;5;124msame_kind\u001b[39m\u001b[38;5;124m\"\u001b[39m):\n\u001b[0;32m--> 688\u001b[0m     \u001b[38;5;28;01mraise\u001b[39;00m \u001b[38;5;167;01mTypeError\u001b[39;00m(\u001b[38;5;124mf\u001b[39m\u001b[38;5;124m\"\u001b[39m\u001b[38;5;124mImage data of dtype \u001b[39m\u001b[38;5;132;01m{\u001b[39;00mA\u001b[38;5;241m.\u001b[39mdtype\u001b[38;5;132;01m}\u001b[39;00m\u001b[38;5;124m cannot be \u001b[39m\u001b[38;5;124m\"\u001b[39m\n\u001b[1;32m    689\u001b[0m                     \u001b[38;5;124mf\u001b[39m\u001b[38;5;124m\"\u001b[39m\u001b[38;5;124mconverted to float\u001b[39m\u001b[38;5;124m\"\u001b[39m)\n\u001b[1;32m    690\u001b[0m \u001b[38;5;28;01mif\u001b[39;00m A\u001b[38;5;241m.\u001b[39mndim \u001b[38;5;241m==\u001b[39m \u001b[38;5;241m3\u001b[39m \u001b[38;5;129;01mand\u001b[39;00m A\u001b[38;5;241m.\u001b[39mshape[\u001b[38;5;241m-\u001b[39m\u001b[38;5;241m1\u001b[39m] \u001b[38;5;241m==\u001b[39m \u001b[38;5;241m1\u001b[39m:\n\u001b[1;32m    691\u001b[0m     A \u001b[38;5;241m=\u001b[39m A\u001b[38;5;241m.\u001b[39msqueeze(\u001b[38;5;241m-\u001b[39m\u001b[38;5;241m1\u001b[39m)  \u001b[38;5;66;03m# If just (M, N, 1), assume scalar and apply colormap.\u001b[39;00m\n",
      "\u001b[0;31mTypeError\u001b[0m: Image data of dtype object cannot be converted to float"
     ]
    },
    {
     "data": {
      "image/png": "[encoded data removed]",
      "text/plain": [
       "<Figure size 1500x300 with 5 Axes>"
      ]
     },
     "metadata": {},
     "output_type": "display_data"
    }
   ],
   "source": [
    "plot_reaction_scheme(substrate, 'NCCc1ccc(O)c(OS(=O)(=O)O)c1', subgroup)"
   ]
  },
  {
   "cell_type": "code",
   "execution_count": 120,
   "id": "9396ed6f",
   "metadata": {},
   "outputs": [
    {
     "data": {
      "text/plain": [
       "'CC1OC(OP(=O)(O)O[PH](=O)O)C(O)CC1O'"
      ]
     },
     "execution_count": 120,
     "metadata": {},
     "output_type": "execute_result"
    }
   ],
   "source": [
    "from rdkit import Chem\n",
    "from rdkit.Chem import AllChem\n",
    "\n",
    "def remove_substructure(smiles, sub_smiles):\n",
    "    \"\"\"\n",
    "    Removes all instances of a substructure from a given SMILES string.\n",
    "\n",
    "    Parameters:\n",
    "    - smiles (str): The full SMILES string.\n",
    "    - sub_smiles (str): The SMILES string of the substructure to remove.\n",
    "\n",
    "    Returns:\n",
    "    - str: The SMILES string of the molecule with the substructure removed.\n",
    "    \"\"\"\n",
    "    mol = Chem.MolFromSmiles(smiles)\n",
    "    sub_mol = Chem.MolFromSmiles(sub_smiles)\n",
    "    if not mol or not sub_mol:\n",
    "        # Invalid SMILES strings were provided\n",
    "        return None\n",
    "\n",
    "    # Create editable molecule\n",
    "    edit_mol = Chem.EditableMol(mol)\n",
    "\n",
    "    # Find all matches of the substructure\n",
    "    matches = mol.GetSubstructMatches(sub_mol)\n",
    "    atom_indices_to_remove = [atom_idx for match in matches for atom_idx in match]\n",
    "\n",
    "    # Remove atoms from the end of the molecule to the start to avoid indexing issues\n",
    "    for atom_idx in sorted(atom_indices_to_remove, reverse=True):\n",
    "        edit_mol.RemoveAtom(atom_idx)\n",
    "\n",
    "    # Get the molecule back from the editable molecule\n",
    "    new_mol = edit_mol.GetMol()\n",
    "\n",
    "    # Sanitize the molecule (optional, but recommended)\n",
    "    Chem.SanitizeMol(new_mol)\n",
    "\n",
    "    # Return the new SMILES string\n",
    "    return Chem.MolToSmiles(new_mol)\n",
    "\n",
    "# Example usage\n",
    "substrate = \"CC1C(CC(C(O1)OP(=O)(O)OP(=O)(O)OCC2C(C(C(O2)N3C=CC(=NC3=O)N)O)O)O)O\"  \n",
    "subgroup = \"C1=CN(C(=O)N=C1N)C2C(C(C(O2)CO)O)O\"  # Substructure to remove\n",
    "new_smiles = remove_substructure(substrate, subgroup)\n",
    "new_smiles"
   ]
  },
  {
   "cell_type": "markdown",
   "id": "fba7dacc",
   "metadata": {},
   "source": [
    "### Convert SMILES to InChIKey"
   ]
  },
  {
   "cell_type": "code",
   "execution_count": 35,
   "id": "0b9ff3ef",
   "metadata": {},
   "outputs": [
    {
     "name": "stdout",
     "output_type": "stream",
     "text": [
      "InChIKey: DRTQHJPVMGBUCF-UHFFFAOYSA-N\n"
     ]
    },
    {
     "name": "stderr",
     "output_type": "stream",
     "text": [
      "[06:52:55] WARNING: Omitted undefined stereo\n",
      "\n"
     ]
    }
   ],
   "source": [
    "from rdkit import Chem\n",
    "from rdkit.Chem import inchi\n",
    "\n",
    "def smiles_to_inchikey(smiles):\n",
    "    # Create an RDKit molecule object from the SMILES string\n",
    "    mol = Chem.MolFromSmiles(smiles)\n",
    "    \n",
    "    # Ensure the molecule was correctly created\n",
    "    if mol is None:\n",
    "        return None, \"Invalid SMILES string\"\n",
    "    \n",
    "    # Convert the molecule to InChI\n",
    "    inchi_str = inchi.MolToInchi(mol)\n",
    "    \n",
    "    # Convert the InChI to InChIKey\n",
    "    inchi_key = inchi.InchiToInchiKey(inchi_str)\n",
    "    \n",
    "    return inchi_key\n",
    "\n",
    "# Example usage\n",
    "smiles_string = \"O=c1ccn(C2OC(CO)C(O)C2O)c(=O)[nH]1\" \n",
    "inchi_key = smiles_to_inchikey(smiles_string)\n",
    "print(f\"InChIKey: {inchi_key}\")"
   ]
  },
  {
   "cell_type": "code",
   "execution_count": 121,
   "id": "7dc8a72a",
   "metadata": {},
   "outputs": [
    {
     "name": "stdout",
     "output_type": "stream",
     "text": [
      "292.011305288\n"
     ]
    },
    {
     "data": {
      "image/png": "[encoded data removed]",
      "text/plain": [
       "<IPython.core.display.Image object>"
      ]
     },
     "execution_count": 121,
     "metadata": {},
     "output_type": "execute_result"
    }
   ],
   "source": [
    "mol_substrate = Chem.MolFromSmiles('CC1OC(OP(=O)(O)O[PH](=O)O)C(O)CC1O')\n",
    "print(Descriptors.ExactMolWt(mol_substrate))\n",
    "fig = Draw.MolsToGridImage([mol_substrate], subImgSize=(500, 500))  # Adjust (300, 300) as needed\n",
    "fig"
   ]
  },
  {
   "cell_type": "code",
   "execution_count": null,
   "id": "83d3b8e4",
   "metadata": {},
   "outputs": [],
   "source": [
    "### Find sub-group"
   ]
  }
 ],
 "metadata": {
  "kernelspec": {
   "display_name": "Python 3 (ipykernel)",
   "language": "python",
   "name": "python3"
  },
  "language_info": {
   "codemirror_mode": {
    "name": "ipython",
    "version": 3
   },
   "file_extension": ".py",
   "mimetype": "text/x-python",
   "name": "python",
   "nbconvert_exporter": "python",
   "pygments_lexer": "ipython3",
   "version": "3.9.7"
  }
 },
 "nbformat": 4,
 "nbformat_minor": 5
}
