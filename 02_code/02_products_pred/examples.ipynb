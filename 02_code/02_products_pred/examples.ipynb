{
 "cells": [
  {
   "cell_type": "markdown",
   "id": "106883ba",
   "metadata": {},
   "source": [
    "# example"
   ]
  },
  {
   "cell_type": "markdown",
   "id": "e7c5f3d3",
   "metadata": {},
   "source": [
    "#### R01, R02 Dehydrogenation & Hydrogenation"
   ]
  },
  {
   "cell_type": "code",
   "execution_count": null,
   "id": "5dbc7a9c",
   "metadata": {},
   "outputs": [],
   "source": [
    "# NAD+ >> NADH\n",
    "substrate = 'C1=CC(=C[N+](=C1)C2C(C(C(O2)COP(=O)([O-])OP(=O)(O)OCC3C(C(C(O3)N4C=NC5=C(N=CN=C54)N)O)O)O)O)C(=O)N'\n",
    "smirks = '[*:1][O-]>>[*:1][O]'\n",
    "mass_difference = '+'\n",
    "\n",
    "substrate = 'C1=CC(=C[N+](=C1)C2C(C(C(O2)COP(=O)([O-])OP(=O)(O)OCC3C(C(C(O3)N4C=NC5=C(N=CN=C54)N)O)O)O)O)C(=O)N'\n",
    "smirks = '[*:1][n+]>>[*:1][N]'\n",
    "mass_difference = '-'\n",
    "\n",
    "substrate = 'C1CCC=CC1'\n",
    "smirks = '[*:1]-C=C-[*:2]>>[*:1]-C-C-[*:2]'\n",
    "mass_difference = '+'\n",
    "\n",
    "substrate = 'C1=CC(=C[N+](=C1)C2C(C(C(O2)COP(=O)([O-])OP(=O)(O)OCC3C(C(C(O3)N4C=NC5=C(N=CN=C54)N)O)O)O)O)C(=O)N'\n",
    "smirks = '[*:1]=[O]>>[*:1]O'\n",
    "mass_difference = '+'\n",
    "\n",
    "substrate = 'C1=CC(=C[N+](=C1)C2C(C(C(O2)COP(=O)([O-])OP(=O)(O)OCC3C(C(C(O3)N4C=NC5=C(N=CN=C54)N)O)O)O)O)C(=O)N'\n",
    "smirks = '[*:1]-[c]=[n]>>[*:1]-c-n'\n",
    "mass_difference = '+'\n",
    "\n",
    "substrate = 'CC1=CCC(CC1=O)C(=C)C'\n",
    "smirks = '[C:1]=[CH2]>>[C:1]-C'\n",
    "mass_difference = '+'\n",
    "\n",
    "# phenylacetylene >>\n",
    "substrate = 'C#CC1=CC=CC=C1'\n",
    "smirks = '[C:1]#[C]>>[C:1]=C'\n",
    "mass_difference = '+'"
   ]
  },
  {
   "cell_type": "markdown",
   "id": "03211027",
   "metadata": {},
   "source": [
    "#### R10 and R11 loss of addition of a water"
   ]
  },
  {
   "cell_type": "code",
   "execution_count": null,
   "id": "48a31ec5",
   "metadata": {},
   "outputs": [],
   "source": [
    "# loss of water\n",
    "smirks = '[P:1]-[OH0]>>[P:1][OH]'\n",
    "# https://www.kegg.jp/entry/R01234\n",
    "\n",
    "# addition of Water\n",
    "smirks = '[*:1]=[*:2](-N)>>[*:1][*:2](=O)\n",
    "# https://www.kegg.jp/entry/R03887"
   ]
  },
  {
   "cell_type": "markdown",
   "id": "48ae5a33",
   "metadata": {},
   "source": [
    "#### R09 loss of ammonia"
   ]
  },
  {
   "cell_type": "code",
   "execution_count": null,
   "id": "1c488427",
   "metadata": {},
   "outputs": [],
   "source": [
    "# Methylenediurea + H2O <=> N-(Carboxyaminomethyl)urea + Ammonia\n",
    "\n",
    "substrate = 'C(NC(=O)N)NC(=O)N'\n",
    "substrate = 'C(C(C(=O)O)N)O'\n",
    "\n",
    "smirks = '[*:1](O)CN>>[*:1]C=O'\n",
    "smirks = '[*:1][*:2](-N)C(=[*:3])O>>[*:1]=[*:2]C([*:3])O'\n",
    "smirks = '[*:1](-N)CO>>[*:1](C)(=O)'\n",
    "smirks = '[*:1][*:2]-N>>[*:1]=[*:2]'\n",
    "smirks = '[*:1]=[*:2](-N)>>[*:1][*:2](=O)'\n",
    "smirks = '[*:1](-N)C(-O)[*:2]>>[*:1](=O)C[*:2]'\n",
    "mass_difference = '-'"
   ]
  },
  {
   "cell_type": "markdown",
   "id": "a5fc5b5d",
   "metadata": {},
   "source": [
    "#### R10 addition of ammonia"
   ]
  },
  {
   "cell_type": "code",
   "execution_count": null,
   "id": "2b4d844b",
   "metadata": {},
   "outputs": [],
   "source": [
    "substrate = 'C1=CC=C2C(=C1)C(=CN2)C=CC(=O)O'\n",
    "smirks = '[*:1]C=O>>[*:1](O)CN'\n",
    "smirks = '[*:1]=[*:2]C([*:3])>>[*:1][*:2](-N)C(=[*:3])O'\n",
    "smirks = '[*:1](=O)C[*:2]>>[*:1](-N)C(-O)[*:2]'\n",
    "\n",
    "mass_difference = '+'"
   ]
  },
  {
   "cell_type": "markdown",
   "id": "2a67ed73",
   "metadata": {},
   "source": [
    "#### R19 loss of CO2"
   ]
  },
  {
   "cell_type": "code",
   "execution_count": null,
   "id": "15e98034",
   "metadata": {},
   "outputs": [],
   "source": [
    "# 5-Amino-4-imidazole carboxylate <=> Aminoimidazole\n",
    "substrate = 'C1=NC(=C(N1)C(=O)O)N'\n",
    "smirks = '[*:1]C(=O)-O>>[*:1]'\n",
    "mass_difference = '-'"
   ]
  },
  {
   "cell_type": "markdown",
   "id": "1ab92349",
   "metadata": {},
   "source": [
    "#### R20 addition of CO2"
   ]
  },
  {
   "cell_type": "code",
   "execution_count": null,
   "id": "91fae825",
   "metadata": {},
   "outputs": [],
   "source": [
    "# L-Methionine <=> 3-Methylthiopropanamine\n",
    "substrate = \"CSCCC(C(=O)O)N\"\n",
    "substrate = 'C1=CC(=CC=C1CC(C(=O)O)N)O'\n",
    "smirks = '[*:1][CH2]C(=O)O>>[*:1]C'\n",
    "smirks = '[*:1]C(~[*:2])C(=O)O>>[*:1]C[*:2]'\n",
    "smirks = '[*:1]C(~[*:2])C(=O)O>>[*:1]C(=O)[*:2]'\n",
    "mass_difference = '-'"
   ]
  },
  {
   "cell_type": "markdown",
   "id": "bdaad797",
   "metadata": {},
   "source": [
    "#### R22 thiol to sulfonic acid"
   ]
  },
  {
   "cell_type": "code",
   "execution_count": null,
   "id": "b14a27f9",
   "metadata": {},
   "outputs": [],
   "source": [
    "smirks = '[*:1]-[CH2]-[SH1]>>[*:1]-S(=O)(=O)-'"
   ]
  },
  {
   "cell_type": "markdown",
   "id": "47a12a52",
   "metadata": {},
   "source": [
    "#### R34 cysteine conjugation"
   ]
  },
  {
   "cell_type": "code",
   "execution_count": null,
   "id": "b54c69c5",
   "metadata": {},
   "outputs": [],
   "source": [
    "# Trichloroethylene >> S-(1,2-Dichlorovinyl)-L-cysteine (DCVC)\n",
    "substrate = \"C(=C(Cl)Cl)Cl\" \n",
    "smirks = '[*:1](=O)-[O]>>[*:1](=O)-[N]C(S)C(=O)O'\n",
    "mass_difference = '+'"
   ]
  },
  {
   "cell_type": "markdown",
   "id": "4fb205c1",
   "metadata": {},
   "source": [
    "#### R36 taurine conjugation"
   ]
  },
  {
   "cell_type": "code",
   "execution_count": null,
   "id": "aef0d693",
   "metadata": {},
   "outputs": [],
   "source": [
    "substrate = \"C(C(=O)C(=O)O)C(=O)O\"\n",
    "smirks = '[*:1]-C(=O)O>>[*:1]-C(=O)-NCCS(=O)(=O)O'\n",
    "mass_difference = '+'"
   ]
  },
  {
   "cell_type": "markdown",
   "id": "a7d9dae4",
   "metadata": {},
   "source": [
    "#### R42 S-cysteine conjugation"
   ]
  },
  {
   "cell_type": "code",
   "execution_count": 5,
   "id": "5901c132",
   "metadata": {},
   "outputs": [],
   "source": [
    "# Dimethylthioarsinous acid >> Antineoplastic-280079\n",
    "substrate = \"C[As](C)S\"\n",
    "smirks = '[*:1]-[SH]>>[*:1]SCC(N)C(=O)O'\n",
    "# smirks = '[*:1]-S-[*:2]>>[*:1]S([*:2])CC(N)C(=O)CO'\n",
    "mass_difference = '+'"
   ]
  },
  {
   "cell_type": "markdown",
   "id": "ccc9bdef",
   "metadata": {},
   "source": [
    "#### R45 loss of guanine"
   ]
  },
  {
   "cell_type": "code",
   "execution_count": 7,
   "id": "40184b1e",
   "metadata": {},
   "outputs": [],
   "source": [
    "# Guanosine loss of a of guanine\n",
    "\n",
    "substrate = \"C1=NC2=C(N1C3C(C(C(O3)CO)O)O)N=C(NC2=O)N\"\n",
    "smirks = '[*:1]-ncncc(=O)nc(-N)nc>>[*:1]-O'\n",
    "mass_difference = '-'"
   ]
  },
  {
   "cell_type": "markdown",
   "id": "9a8cfbd3",
   "metadata": {},
   "source": [
    "#### R47 loss of glucuronic acid"
   ]
  },
  {
   "cell_type": "code",
   "execution_count": 10,
   "id": "54de7236",
   "metadata": {},
   "outputs": [],
   "source": [
    "# Morphine-3-glucuronide >> Morphine\n",
    "\n",
    "substrate = \"CN1CCC23C4C1CC5=C2C(=C(C=C5)OC6C(C(C(C(O6)C(=O)O)O)O)O)OC3C(C=C4)O\"\n",
    "smirks = '[*:1]-O-COC(C(=O)O)C(O)C(O)CO>>[*:1]-O'\n",
    "mass_difference = '-'"
   ]
  },
  {
   "cell_type": "markdown",
   "id": "a59978e1",
   "metadata": {},
   "source": [
    "#### R48 addition of glucuronic acid"
   ]
  },
  {
   "cell_type": "code",
   "execution_count": null,
   "id": "6a6653a8",
   "metadata": {},
   "outputs": [],
   "source": [
    "# Acetaminophen (Paracetamol) >> Acetaminophen glucuronide\n",
    "substrate = \"CC(=O)NC1=CC=C(C=C1)O\"\n",
    "smirks = '[*:1]-[OH1]>>[*:1]-O-C1C(O)C(O)C(O)C(C(O)=O)O1'\n",
    "mass_difference = '+'"
   ]
  },
  {
   "cell_type": "markdown",
   "id": "e363fabf",
   "metadata": {},
   "source": [
    "#### R50 addition of glucose"
   ]
  },
  {
   "cell_type": "code",
   "execution_count": 1,
   "id": "eb724c94",
   "metadata": {},
   "outputs": [],
   "source": [
    "# generate Uridine-5'-diphosphate-glucose\n",
    "substrate = \"C1=CN(C(=O)NC1=O)C2C(C(C(O2)COP(=O)(O)OP(=O)(O)O)O)O\"\n",
    "smirks = '[*:1]-[OH1]>>[*:1]-OC1C(-O)C(-O)C(-O)C(-CO)O1'\n",
    "smirks = '[*:1]-[SH1]>>[*:1]-SC1C(-O)C(-O)C(-O)C(-CO)O1'\n",
    "smirks = '[*:1]-[NH1]>>[*:1]-NC1C(-O)C(-O)C(-O)C(-CO)O1'\n",
    "mass_difference = '+'"
   ]
  },
  {
   "cell_type": "markdown",
   "id": "b5a08da7",
   "metadata": {},
   "source": [
    "#### R51 loss of uridine"
   ]
  },
  {
   "cell_type": "code",
   "execution_count": 11,
   "id": "b6eb2320",
   "metadata": {},
   "outputs": [],
   "source": [
    "# UTP loss of a uridine\n",
    "substrate = \"C1=CN(C(=O)NC1=O)C2C(C(C(O2)COP(=O)(O)OP(=O)(O)OP(=O)(O)O)O)O\"\n",
    "smirks = '[*:1]-CC(O)C(O)C(O)C-nccc(=O)nc=O>>[*:1]'\n",
    "mass_difference = '-'"
   ]
  },
  {
   "cell_type": "markdown",
   "id": "f6f10889",
   "metadata": {},
   "source": [
    "#### R53 loss of adenosine"
   ]
  },
  {
   "cell_type": "code",
   "execution_count": 1,
   "id": "55bde3e8",
   "metadata": {},
   "outputs": [
    {
     "ename": "NameError",
     "evalue": "name 'drop_group' is not defined",
     "output_type": "error",
     "traceback": [
      "\u001b[0;31m---------------------------------------------------------------------------\u001b[0m",
      "\u001b[0;31mNameError\u001b[0m                                 Traceback (most recent call last)",
      "Cell \u001b[0;32mIn [1], line 6\u001b[0m\n\u001b[1;32m      3\u001b[0m subgroup \u001b[38;5;241m=\u001b[39m \u001b[38;5;124m'\u001b[39m\u001b[38;5;124mC1=NC(=C2C(=N1)N(C=N2)C3C(C(C(O3)CO)O)O)N\u001b[39m\u001b[38;5;124m'\u001b[39m\n\u001b[1;32m      4\u001b[0m replacement_group \u001b[38;5;241m=\u001b[39m \u001b[38;5;28;01mNone\u001b[39;00m\n\u001b[0;32m----> 6\u001b[0m products_smiles \u001b[38;5;241m=\u001b[39m \u001b[43mdrop_group\u001b[49m(substrate, subgroup, replacement_group)\n",
      "\u001b[0;31mNameError\u001b[0m: name 'drop_group' is not defined"
     ]
    }
   ],
   "source": [
    "# ATP loss a adenosine\n",
    "substrate = \"C1=NC(=C2C(=N1)N(C=N2)C3C(C(C(O3)COP(=O)(O)OP(=O)(O)OP(=O)(O)O)O)O)N\"\n",
    "subgroup = 'C1=NC(=C2C(=N1)N(C=N2)C3C(C(C(O3)CO)O)O)N'\n",
    "replacement_group = None\n",
    "\n",
    "products_smiles = drop_group(substrate, subgroup, replacement_group)"
   ]
  },
  {
   "cell_type": "markdown",
   "id": "270d0fdb",
   "metadata": {},
   "source": [
    "#### R54 addition of adenosine"
   ]
  },
  {
   "cell_type": "code",
   "execution_count": 1,
   "id": "b0dfee22",
   "metadata": {},
   "outputs": [],
   "source": [
    "substrate = \"OP(=O)(O)OP(=O)(O)OP(=O)(O)O\"\n",
    "smirks = '[*:1]-P(=O)([OH])-[OH1]>>C1=NC(=C2C(=N1)N(C=N2)C3C([C:2]([C:3](O3)CO-P(=O)(O)-[*:1])O)O)N'"
   ]
  },
  {
   "cell_type": "markdown",
   "id": "51ff1719",
   "metadata": {},
   "source": [
    "#### R55 loss of guanosine"
   ]
  },
  {
   "cell_type": "code",
   "execution_count": null,
   "id": "92ff9149",
   "metadata": {},
   "outputs": [],
   "source": [
    "substrate = \"C1=NC2=C(N1C3C(C(C(O3)COP(=O)(O)O)O)O)N=C(NC2=O)N\"\n",
    "subgroup = 'C1=NC2=C(N1C3C(C(C(O3)CO)O)O)N=C(NC2=O)N'\n",
    "replacement_group = None\n",
    "\n",
    "products = drop_group(substrate, subgroup, replacement_group)"
   ]
  },
  {
   "cell_type": "markdown",
   "id": "bd04879f",
   "metadata": {},
   "source": [
    "#### R56 addition of guanosine"
   ]
  },
  {
   "cell_type": "code",
   "execution_count": null,
   "id": "c9d79ea8",
   "metadata": {},
   "outputs": [],
   "source": [
    "substrate = \"OP(=O)(O)OP(=O)(O)OP(=O)(O)O\"\n",
    "smirks = '[*:1]-[OH1]>>C1=NC2=C(N1C3C(C(C(O3)CO-[*:1])O)O)N=C(NC2=O)N'\n",
    "mass_difference = '+'"
   ]
  },
  {
   "cell_type": "markdown",
   "id": "a784a432",
   "metadata": {},
   "source": [
    "#### R57 loss of cytidine"
   ]
  },
  {
   "cell_type": "code",
   "execution_count": null,
   "id": "8941037e",
   "metadata": {},
   "outputs": [],
   "source": [
    "# 2'-Cytidylic acid loss a cytidylic\n",
    "substrate = \"C1=CN(C(=O)N=C1N)C2C(C(C(O2)CO)O)OP(=O)(O)O\"\n",
    "smirks = '[*:1]-COCnc(=O)nc(N)cc>>[*:1]'\n",
    "smirks = '[*:1]-CC(O)C(CO)OCnc(=O)nc(N)cc>>[*:1]'\n",
    "mass_difference = '-'"
   ]
  },
  {
   "cell_type": "code",
   "execution_count": null,
   "id": "577af0ab",
   "metadata": {},
   "outputs": [],
   "source": [
    "#### R58 Addition of cytidine"
   ]
  },
  {
   "cell_type": "code",
   "execution_count": null,
   "id": "938eec23",
   "metadata": {},
   "outputs": [],
   "source": [
    "# generate Uridine-5'-diphosphate-glucose\n",
    "substrate = \"OP(=O)(O)OP(=O)(O)OP(=O)(O)O\"\n",
    "smirks = '[*:1]-[OH1]>>C1=CN(C(=O)N=C1N)C2C(C(C(O2)CO-[*:1])O)O'\n",
    "mass_difference = '+'"
   ]
  },
  {
   "cell_type": "markdown",
   "id": "cdea906d",
   "metadata": {},
   "source": [
    "#### R59 loss of deoxyadenosine"
   ]
  },
  {
   "cell_type": "code",
   "execution_count": null,
   "id": "bd02c1ec",
   "metadata": {},
   "outputs": [],
   "source": [
    "# dAMP drop a deoxyadenosine\n",
    "substrate = \"C1C(C(OC1N2C=NC3=C(N=CN=C32)N)COP(=O)(O)O)O\"\n",
    "subgroup = 'C1C(C(OC1N2C=NC3=C(N=CN=C32)N)CO)O'\n",
    "replacement_group = None"
   ]
  },
  {
   "cell_type": "markdown",
   "id": "45cc28c7",
   "metadata": {},
   "source": [
    "#### R60 addition of deoxyadenosine"
   ]
  },
  {
   "cell_type": "code",
   "execution_count": null,
   "id": "f169bf9f",
   "metadata": {},
   "outputs": [],
   "source": [
    "# generate Uridine-5'-diphosphate-glucose\n",
    "substrate = \"OP(=O)(O)OP(=O)(O)OP(=O)(O)O\"\n",
    "smirks = '[*:1]-P(=O)([OH])-[OH1]>>C1=NC(=C2C(=N1)N(C=N2)C3C([C:2]([C:3](O3)CO-P(=O)(O)-[*:1])O))N'\n",
    "mass_difference = '+'"
   ]
  },
  {
   "cell_type": "markdown",
   "id": "064ef24a",
   "metadata": {},
   "source": [
    "#### R61 loss of deoxyuridine"
   ]
  },
  {
   "cell_type": "code",
   "execution_count": null,
   "id": "af6e734b",
   "metadata": {},
   "outputs": [],
   "source": [
    "substrate = \"C1C(C(OC1N2C=NC3=C2N=C(NC3=O)N)COP(=O)(O)OP(=O)(O)O)O\"\n",
    "subgroup = 'C1C(C(OC1N2C=NC3=C2N=C(NC3=O)N)CO)O'\n",
    "replacement_group = None\n",
    "\n",
    "products = drop_group(substrate, subgroup, replacement_group)"
   ]
  },
  {
   "cell_type": "markdown",
   "id": "733ead65",
   "metadata": {},
   "source": [
    "#### R62 addition of deoxyguanosine"
   ]
  },
  {
   "cell_type": "code",
   "execution_count": null,
   "id": "89cf98d7",
   "metadata": {},
   "outputs": [],
   "source": [
    "substrate = \"OP(=O)(O)OP(=O)(O)OP(=O)(O)O\"\n",
    "smirks = '[*:1]-[OH1]>>C1=NC2=C(N1C3C(C(C(O3)CO-[*:1]))O)N=C(NC2=O)N'\n",
    "mass_difference = '+'"
   ]
  },
  {
   "cell_type": "markdown",
   "id": "f23b4592",
   "metadata": {},
   "source": [
    "#### R63 loss of deoxyuridine"
   ]
  },
  {
   "cell_type": "code",
   "execution_count": null,
   "id": "c2f05f79",
   "metadata": {},
   "outputs": [],
   "source": [
    "substrate = \"C1C(C(OC1N2C=C(C(=O)NC2=O)C(F)(F)F)CO)O\"\n",
    "subgroup = 'C1C(C(OC1N2C=CC(=O)NC2=O)CO)O'\n",
    "replacement_group = None\n",
    "\n",
    "products_smiles = drop_group(substrate, subgroup, replacement_group)"
   ]
  },
  {
   "cell_type": "markdown",
   "id": "621dd8a4",
   "metadata": {},
   "source": [
    "#### R66 addition of deoxycytidine"
   ]
  },
  {
   "cell_type": "code",
   "execution_count": null,
   "id": "49ce2d7e",
   "metadata": {},
   "outputs": [],
   "source": [
    "# generate Uridine-5'-diphosphate-glucose\n",
    "substrate = \"OP(=O)(O)OP(=O)(O)OP(=O)(O)O\"\n",
    "smirks = '[*:1]-[OH1]>>C1=CN(C(=O)N=C1N)C2C(C(C(O2)CO-[*:1])O)'\n",
    "mass_difference = '+'"
   ]
  },
  {
   "cell_type": "markdown",
   "id": "746971fa",
   "metadata": {},
   "source": [
    "#### R65 loss of deoxycytidine"
   ]
  },
  {
   "cell_type": "code",
   "execution_count": null,
   "id": "bc0f07fb",
   "metadata": {},
   "outputs": [],
   "source": [
    "# Deoxycytidine diphosphate >> diphosphate\n",
    "substrate = \"C1C(C(OC1N2C=CC(=NC2=O)N)COP(=O)(O)OP(=O)(O)O)O\"\n",
    "subgroup = 'C1C(C(OC1N2C=CC(=NC2=O)N)CO)O'\n",
    "replacement_group = None\n",
    "\n",
    "products = drop_group(substrate, subgroup, replacement_group)"
   ]
  },
  {
   "cell_type": "markdown",
   "id": "8103a924",
   "metadata": {},
   "source": [
    "#### R73 loss of glutamate"
   ]
  },
  {
   "cell_type": "code",
   "execution_count": null,
   "id": "6d5a1bc9",
   "metadata": {},
   "outputs": [],
   "source": [
    "# L-Glutamic acid 5-benzyl ester drop glutamate\n",
    "substrate = \"C(CC(=O)NC(CS)C(=O)NCC(=O)O)C(C(=O)O)N\"\n",
    "smirks = '[*:1]OC(=O)CCC(N)C=O>>[*:1]'\n",
    "smirks = '[*:1]C(=O)CCC(N)C=O>>[*:1]'\n",
    "mass_difference = '-'"
   ]
  },
  {
   "cell_type": "markdown",
   "id": "96db0a35",
   "metadata": {},
   "source": [
    "### R74 addition of glutamate"
   ]
  },
  {
   "cell_type": "code",
   "execution_count": 1,
   "id": "02e2d988",
   "metadata": {},
   "outputs": [
    {
     "ename": "SyntaxError",
     "evalue": "invalid syntax (1561802741.py, line 1)",
     "output_type": "error",
     "traceback": [
      "\u001b[0;36m  Cell \u001b[0;32mIn [1], line 1\u001b[0;36m\u001b[0m\n\u001b[0;31m    [*:1]-[NH2]>>[*:1](NC(=O)CCC(N)C(=O)O), [*:1]-OP(=O)(O)O>>[*:1]-OP(=O)(O)OC(=O)CCC(N)C(=O)O\u001b[0m\n\u001b[0m      ^\u001b[0m\n\u001b[0;31mSyntaxError\u001b[0m\u001b[0;31m:\u001b[0m invalid syntax\n"
     ]
    }
   ],
   "source": [
    "smirks = [*:1]-[NH2]>>[*:1](NC(=O)CCC(N)C(=O)O), [*:1]-OP(=O)(O)O>>[*:1]-OP(=O)(O)OC(=O)CCC(N)C(=O)O"
   ]
  },
  {
   "cell_type": "markdown",
   "id": "437415ae",
   "metadata": {},
   "source": [
    "### R76 addition of glutamine"
   ]
  },
  {
   "cell_type": "code",
   "execution_count": null,
   "id": "c008ed02",
   "metadata": {},
   "outputs": [],
   "source": [
    "\n",
    "# D-Alanine + L-Glutamine <=> Ammonia + gamma-L-Glutamyl-D-alanine\n",
    "substrate = \"O=C(SCCNC(=O)CCNC(=O)[C@H](O)C(C)(C)COP(=O)(O)OP(=O)(O)OC[C@H]3O[C@@H](n2cnc1c(ncnc12)N)[C@H](O)[C@@H]3OP(=O)(O)O)C\"\n",
    "smirks = '[*:1]C(C(=O)O)N>>[*:1]-C(C(=O)O)NC(=O)CCC(N)C(O)=O'\n",
    "smirks = '[*:1]C(=O)SCCNC(=O)CCNC(=O)[C@@H](C(C)(C)COP(=O)(O)OP(=O)(O)OC[C@@H]1[C@H]([C@H]([C@@H](O1)n2cnc3c2ncnc3N)O)OP(=O)(O)O)>>[*:1]C(=O)NC(CCC(=O)N)C(=O)O'\n",
    "mass_difference = '+'"
   ]
  }
 ],
 "metadata": {
  "kernelspec": {
   "display_name": "Python 3 (ipykernel)",
   "language": "python",
   "name": "python3"
  },
  "language_info": {
   "codemirror_mode": {
    "name": "ipython",
    "version": 3
   },
   "file_extension": ".py",
   "mimetype": "text/x-python",
   "name": "python",
   "nbconvert_exporter": "python",
   "pygments_lexer": "ipython3",
   "version": "3.9.7"
  }
 },
 "nbformat": 4,
 "nbformat_minor": 5
}
