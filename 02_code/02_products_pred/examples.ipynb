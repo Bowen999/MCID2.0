{
 "cells": [
  {
   "cell_type": "markdown",
   "id": "106883ba",
   "metadata": {},
   "source": [
    "# example"
   ]
  },
  {
   "cell_type": "markdown",
   "id": "bdaad797",
   "metadata": {},
   "source": [
    "#### R22 thiol to sulfonic acid"
   ]
  },
  {
   "cell_type": "code",
   "execution_count": null,
   "id": "b14a27f9",
   "metadata": {},
   "outputs": [],
   "source": [
    "smirks = '[*:1]-[CH2]-[SH1]>>[*:1]-S(=O)(=O)-'"
   ]
  },
  {
   "cell_type": "markdown",
   "id": "47a12a52",
   "metadata": {},
   "source": [
    "#### R34 cysteine conjugation"
   ]
  },
  {
   "cell_type": "code",
   "execution_count": null,
   "id": "b54c69c5",
   "metadata": {},
   "outputs": [],
   "source": [
    "# Trichloroethylene >> S-(1,2-Dichlorovinyl)-L-cysteine (DCVC)\n",
    "substrate = \"C(=C(Cl)Cl)Cl\" \n",
    "smirks = '[*:1](=O)-[O]>>[*:1](=O)-[N]C(S)C(=O)O'\n",
    "mass_difference = '+'"
   ]
  },
  {
   "cell_type": "markdown",
   "id": "4fb205c1",
   "metadata": {},
   "source": [
    "#### R36 taurine conjugation"
   ]
  },
  {
   "cell_type": "code",
   "execution_count": null,
   "id": "aef0d693",
   "metadata": {},
   "outputs": [],
   "source": [
    "substrate = \"C(C(=O)C(=O)O)C(=O)O\"\n",
    "smirks = '[*:1]-C(=O)O>>[*:1]-C(=O)-NCCS(=O)(=O)O'\n",
    "mass_difference = '+'"
   ]
  },
  {
   "cell_type": "markdown",
   "id": "a7d9dae4",
   "metadata": {},
   "source": [
    "#### R42 S-cysteine conjugation"
   ]
  },
  {
   "cell_type": "code",
   "execution_count": 5,
   "id": "5901c132",
   "metadata": {},
   "outputs": [],
   "source": [
    "# Dimethylthioarsinous acid >> Antineoplastic-280079\n",
    "substrate = \"C[As](C)S\"\n",
    "smirks = '[*:1]-[SH]>>[*:1]SCC(N)C(=O)O'\n",
    "# smirks = '[*:1]-S-[*:2]>>[*:1]S([*:2])CC(N)C(=O)CO'\n",
    "mass_difference = '+'"
   ]
  },
  {
   "cell_type": "markdown",
   "id": "ccc9bdef",
   "metadata": {},
   "source": [
    "#### R45 loss of guanine"
   ]
  },
  {
   "cell_type": "code",
   "execution_count": 7,
   "id": "40184b1e",
   "metadata": {},
   "outputs": [],
   "source": [
    "# Guanosine loss of a of guanine\n",
    "\n",
    "substrate = \"C1=NC2=C(N1C3C(C(C(O3)CO)O)O)N=C(NC2=O)N\"\n",
    "smirks = '[*:1]-ncncc(=O)nc(-N)nc>>[*:1]-O'\n",
    "mass_difference = '-'"
   ]
  },
  {
   "cell_type": "markdown",
   "id": "9a8cfbd3",
   "metadata": {},
   "source": [
    "#### R47 loss of glucuronic acid"
   ]
  },
  {
   "cell_type": "code",
   "execution_count": 10,
   "id": "54de7236",
   "metadata": {},
   "outputs": [],
   "source": [
    "# Morphine-3-glucuronide >> Morphine\n",
    "\n",
    "substrate = \"CN1CCC23C4C1CC5=C2C(=C(C=C5)OC6C(C(C(C(O6)C(=O)O)O)O)O)OC3C(C=C4)O\"\n",
    "smirks = '[*:1]-O-COC(C(=O)O)C(O)C(O)CO>>[*:1]-O'\n",
    "mass_difference = '-'"
   ]
  },
  {
   "cell_type": "markdown",
   "id": "a59978e1",
   "metadata": {},
   "source": [
    "#### R48 addition of glucuronic acid"
   ]
  },
  {
   "cell_type": "code",
   "execution_count": null,
   "id": "6a6653a8",
   "metadata": {},
   "outputs": [],
   "source": [
    "# Acetaminophen (Paracetamol) >> Acetaminophen glucuronide\n",
    "substrate = \"CC(=O)NC1=CC=C(C=C1)O\"\n",
    "smirks = '[*:1]-[OH1]>>[*:1]-O-C1C(O)C(O)C(O)C(C(O)=O)O1'\n",
    "mass_difference = '+'"
   ]
  },
  {
   "cell_type": "markdown",
   "id": "b5a08da7",
   "metadata": {},
   "source": [
    "#### R51 loss of uridine"
   ]
  },
  {
   "cell_type": "code",
   "execution_count": 11,
   "id": "b6eb2320",
   "metadata": {},
   "outputs": [],
   "source": [
    "# UTP loss of a uridine\n",
    "substrate = \"C1=CN(C(=O)NC1=O)C2C(C(C(O2)COP(=O)(O)OP(=O)(O)OP(=O)(O)O)O)O\"\n",
    "smirks = '[*:1]-CC(O)C(O)C(O)C-nccc(=O)nc=O>>[*:1]'\n",
    "mass_difference = '-'"
   ]
  },
  {
   "cell_type": "markdown",
   "id": "a784a432",
   "metadata": {},
   "source": [
    "#### R57 loss of cytidine"
   ]
  },
  {
   "cell_type": "code",
   "execution_count": null,
   "id": "8941037e",
   "metadata": {},
   "outputs": [],
   "source": [
    "# 2'-Cytidylic acid loss a cytidylic\n",
    "substrate = \"C1=CN(C(=O)N=C1N)C2C(C(C(O2)CO)O)OP(=O)(O)O\"\n",
    "smirks = '[*:1]-COCnc(=O)nc(N)cc>>[*:1]'\n",
    "smirks = '[*:1]-CC(O)C(CO)OCnc(=O)nc(N)cc>>[*:1]'\n",
    "mass_difference = '-'"
   ]
  },
  {
   "cell_type": "markdown",
   "id": "064ef24a",
   "metadata": {},
   "source": [
    "#### R61 loss of deoxyuridine"
   ]
  },
  {
   "cell_type": "code",
   "execution_count": null,
   "id": "af6e734b",
   "metadata": {},
   "outputs": [],
   "source": [
    "substrate = \"C1C(C(OC1N2C=NC3=C2N=C(NC3=O)N)COP(=O)(O)OP(=O)(O)O)O\"\n",
    "subgroup = 'C1C(C(OC1N2C=NC3=C2N=C(NC3=O)N)CO)O'\n",
    "replacement_group = None\n",
    "\n",
    "products = drop_group(substrate, subgroup, replacement_group)"
   ]
  },
  {
   "cell_type": "markdown",
   "id": "f23b4592",
   "metadata": {},
   "source": [
    "#### R63 loss of deoxyuridine"
   ]
  },
  {
   "cell_type": "code",
   "execution_count": null,
   "id": "c2f05f79",
   "metadata": {},
   "outputs": [],
   "source": [
    "substrate = \"C1C(C(OC1N2C=C(C(=O)NC2=O)C(F)(F)F)CO)O\"\n",
    "subgroup = 'C1C(C(OC1N2C=CC(=O)NC2=O)CO)O'\n",
    "replacement_group = None\n",
    "\n",
    "products_smiles = drop_group(substrate, subgroup, replacement_group)"
   ]
  },
  {
   "cell_type": "markdown",
   "id": "746971fa",
   "metadata": {},
   "source": [
    "#### R65 loss of deoxycytidine"
   ]
  },
  {
   "cell_type": "code",
   "execution_count": null,
   "id": "bc0f07fb",
   "metadata": {},
   "outputs": [],
   "source": [
    "# Deoxycytidine diphosphate >> diphosphate\n",
    "substrate = \"C1C(C(OC1N2C=CC(=NC2=O)N)COP(=O)(O)OP(=O)(O)O)O\"\n",
    "subgroup = 'C1C(C(OC1N2C=CC(=NC2=O)N)CO)O'\n",
    "replacement_group = None\n",
    "\n",
    "products = drop_group(substrate, subgroup, replacement_group)"
   ]
  },
  {
   "cell_type": "markdown",
   "id": "8103a924",
   "metadata": {},
   "source": [
    "#### R73 loss of glutamate"
   ]
  },
  {
   "cell_type": "code",
   "execution_count": null,
   "id": "6d5a1bc9",
   "metadata": {},
   "outputs": [],
   "source": [
    "# L-Glutamic acid 5-benzyl ester drop glutamate\n",
    "substrate = \"C(CC(=O)NC(CS)C(=O)NCC(=O)O)C(C(=O)O)N\"\n",
    "smirks = '[*:1]OC(=O)CCC(N)C=O>>[*:1]'\n",
    "smirks = '[*:1]C(=O)CCC(N)C=O>>[*:1]'\n",
    "mass_difference = '-'"
   ]
  }
 ],
 "metadata": {
  "kernelspec": {
   "display_name": "Python 3 (ipykernel)",
   "language": "python",
   "name": "python3"
  },
  "language_info": {
   "codemirror_mode": {
    "name": "ipython",
    "version": 3
   },
   "file_extension": ".py",
   "mimetype": "text/x-python",
   "name": "python",
   "nbconvert_exporter": "python",
   "pygments_lexer": "ipython3",
   "version": "3.9.7"
  }
 },
 "nbformat": 4,
 "nbformat_minor": 5
}
