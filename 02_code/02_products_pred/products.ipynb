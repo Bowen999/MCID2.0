{
 "cells": [
  {
   "cell_type": "markdown",
   "id": "81042c9f",
   "metadata": {},
   "source": [
    "## Functions"
   ]
  },
  {
   "cell_type": "code",
   "execution_count": 1,
   "id": "31760694",
   "metadata": {},
   "outputs": [],
   "source": [
    "from rdkit import Chem\n",
    "from rdkit.Chem import AllChem\n",
    "from rdkit.Chem import Descriptors, rdMolDescriptors\n",
    "from rdkit.Chem import Draw\n",
    "\n",
    "from rdkit.Chem.Draw import IPythonConsole\n",
    "from rdkit.Chem import rdMolDescriptors\n",
    "from rdkit.Chem.rdchem import Mol\n",
    "\n",
    "import matplotlib.pyplot as plt\n",
    "from PIL import Image, ImageDraw\n",
    "\n",
    "import pandas as pd"
   ]
  },
  {
   "cell_type": "code",
   "execution_count": 2,
   "id": "47ee72b8",
   "metadata": {},
   "outputs": [],
   "source": [
    "def predict_products(substrate_smiles, smirks_pattern):\n",
    "    try:\n",
    "        # Convert the substrate SMILES to a molecule object\n",
    "        substrate_mol = Chem.MolFromSmiles(substrate_smiles)\n",
    "        \n",
    "        # Check if conversion was successful; if not, return \"NA\"\n",
    "        if substrate_mol is None:\n",
    "            return \"NA\"\n",
    "        \n",
    "        # Create a reaction object from the SMIRKS pattern\n",
    "        reaction = AllChem.ReactionFromSmarts(smirks_pattern)\n",
    "        \n",
    "        # Apply the reaction to the substrate molecule\n",
    "        products_sets = reaction.RunReactants((substrate_mol,))\n",
    "        \n",
    "        # If no products are generated, return \"NA\"\n",
    "        if not products_sets:\n",
    "            return \"NA\"\n",
    "        \n",
    "        # Initialize a set to store unique product SMILES\n",
    "        unique_products_smiles = set()\n",
    "        \n",
    "        # Iterate through the product sets and convert each product to a SMILES string\n",
    "        for product_set in products_sets:\n",
    "            for product in product_set:\n",
    "                # Canonicalize the SMILES and add to the set to ensure uniqueness\n",
    "                product_smiles = Chem.MolToSmiles(product, isomericSmiles=True)\n",
    "                unique_products_smiles.add(product_smiles)\n",
    "        \n",
    "        # If no unique products were added, return \"NA\"\n",
    "        if not unique_products_smiles:\n",
    "            return \"NA\"\n",
    "        \n",
    "        # Convert the set to a list and return\n",
    "        return list(unique_products_smiles)\n",
    "    \n",
    "    except Exception as e:\n",
    "        # If any error occurs, return \"NA\"\n",
    "        return \"NA\""
   ]
  },
  {
   "cell_type": "code",
   "execution_count": 3,
   "id": "2a211e0b",
   "metadata": {},
   "outputs": [],
   "source": [
    "def filter_by_mass_difference(product_smiles, substrate_smiles, mass_difference):\n",
    "    \"\"\"\n",
    "    Filters a list of product molecules based on their monoisotopic mass difference relative to a substrate molecule, \n",
    "    both represented as SMILES strings. \n",
    "    Products are filtered to either those with the minimum positive mass difference (mass_difference = '+') \n",
    "    or those with the maximum negative mass difference (mass_difference = '-') from the substrate. \n",
    "    Invalid SMILES are ignored.\n",
    "\n",
    "    Args:\n",
    "    product_smiles (list of str): List of SMILES strings for product molecules.\n",
    "    substrate_smiles (str): SMILES string for the substrate molecule.\n",
    "    mass_difference (str): Specifies the direction of mass difference to filter by ('+' for positive, '-' for negative).\n",
    "\n",
    "    Returns:\n",
    "    list of str: SMILES strings of products matching the specified mass difference criteria.\n",
    "\n",
    "    Raises:\n",
    "    ValueError: If substrate SMILES is invalid or mass_difference is not '+' or '-'\"\n",
    "    \"\"\"\n",
    "    try:\n",
    "        # Convert substrate SMILES to molecule and calculate its monoisotopic mass\n",
    "        substrate_mol = Chem.MolFromSmiles(substrate_smiles)\n",
    "        if substrate_mol is None:\n",
    "            raise ValueError(\"Invalid substrate SMILES.\")\n",
    "        \n",
    "        substrate_mass = Descriptors.ExactMolWt(substrate_mol)\n",
    "        \n",
    "        # Initialize a list to hold products and their masses\n",
    "        product_masses = []\n",
    "        \n",
    "        # Iterate through the product SMILES\n",
    "        for smi in product_smiles:\n",
    "            # Convert product SMILES to molecule and calculate its monoisotopic mass\n",
    "            product_mol = Chem.MolFromSmiles(smi)\n",
    "            if product_mol is None:\n",
    "                continue  # Skip invalid product SMILES\n",
    "                \n",
    "            product_mass = Descriptors.ExactMolWt(product_mol)\n",
    "            mass_diff = product_mass - substrate_mass\n",
    "            \n",
    "            # Store product masses and SMILES\n",
    "            if (mass_difference == '+' and mass_diff > 0) or (mass_difference == '-' and mass_diff < 0):\n",
    "                product_masses.append((mass_diff, smi))\n",
    "        \n",
    "        # Filter based on mass_difference criteria\n",
    "        if mass_difference == '+':\n",
    "            # Find the minimum positive mass difference\n",
    "            min_mass_diff = min([x[0] for x in product_masses] or [0])\n",
    "            # Filter products with the minimum mass difference\n",
    "            matching_products = [smi for diff, smi in product_masses if diff == min_mass_diff]\n",
    "        elif mass_difference == '-':\n",
    "            # Find the maximum negative mass difference\n",
    "            max_mass_diff = max([x[0] for x in product_masses] or [0])\n",
    "            # Filter products with the maximum mass difference\n",
    "            matching_products = [smi for diff, smi in product_masses if diff == max_mass_diff]\n",
    "        else:\n",
    "            # If mass_difference is not '+' or '-', return an empty list (or handle as needed)\n",
    "            raise ValueError(\"Invalid mass_difference value. Use '+' or '-'.\")\n",
    "        \n",
    "        return matching_products\n",
    "    \n",
    "    except Exception as e:\n",
    "        # Handle exceptions, possibly logging them or returning an error message\n",
    "        print(f\"An error occurred: {e}\")  # Optionally log the error message\n",
    "        return []"
   ]
  },
  {
   "cell_type": "code",
   "execution_count": 4,
   "id": "32046758",
   "metadata": {},
   "outputs": [],
   "source": [
    "def find_sub_structure(smiles, smarts):\n",
    "    \"\"\"\n",
    "    This function finds and highlights the substructure in a molecule defined by a SMARTS pattern.\n",
    "\n",
    "    Parameters:\n",
    "    - smiles (str): The SMILES representation of the molecule.\n",
    "    - smarts (str): The SMARTS pattern to search for within the molecule.\n",
    "\n",
    "    Returns:\n",
    "    - An image of the molecule with the matching substructure highlighted, if any matches are found.\n",
    "    \"\"\"\n",
    "    # Convert the SMILES string to an RDKit molecule object\n",
    "    mol = Chem.MolFromSmiles(smiles)\n",
    "    if not mol:\n",
    "        return \"Invalid SMILES string.\"\n",
    "\n",
    "    # Convert the SMARTS string to an RDKit molecule object\n",
    "    query = Chem.MolFromSmarts(smarts)\n",
    "    if not query:\n",
    "        return \"Invalid SMARTS pattern.\"\n",
    "\n",
    "    # Find the atoms in the molecule that match the SMARTS pattern\n",
    "    matches = mol.GetSubstructMatches(query, uniquify=False)\n",
    "\n",
    "    print(matches)\n",
    "    img = Draw.MolToImage(mol, highlightAtoms=sum(matches, ()), subImgSize=(500, 500))\n",
    "    return img"
   ]
  },
  {
   "cell_type": "code",
   "execution_count": 5,
   "id": "9dfa3dea",
   "metadata": {},
   "outputs": [],
   "source": [
    "def smarts_to_formula(smarts):\n",
    "    # Convert the SMARTS string to a molecule object\n",
    "    molecule = Chem.MolFromSmarts(smarts)\n",
    "    if molecule is None:\n",
    "        return \"Invalid SMARTS string\"\n",
    "    try:\n",
    "        # Attempt to sanitize the molecule to ensure properties can be calculated\n",
    "        Chem.SanitizeMol(molecule)\n",
    "        # Calculate the molecular formula\n",
    "        formula = rdMolDescriptors.CalcMolFormula(molecule)\n",
    "        return formula + ' (ignore H)'\n",
    "    except Exception as e:\n",
    "        return f\"Error processing molecule: {str(e)}\""
   ]
  },
  {
   "cell_type": "code",
   "execution_count": 6,
   "id": "cb0dea97",
   "metadata": {},
   "outputs": [],
   "source": [
    "# Plot a pipe: substract -> reaction group -> product\n",
    "# usage: plot_reaction_scheme(substrate, product, smarts)\n",
    "\n",
    "# def find_sub_structure(substrate, smarts):\n",
    "#     try:\n",
    "#         substructure = substrate.GetSubstructMatch(Chem.MolFromSmarts(smarts))\n",
    "#         if substructure:\n",
    "#             img = Draw.MolToImage(substrate, highlightAtoms=substructure, size=(300, 300))\n",
    "#             return img\n",
    "#         else:\n",
    "#             raise ValueError(\"Substructure matching failed.\")\n",
    "#     except Exception as e:\n",
    "#         # If anything goes wrong, return a placeholder image with \"Missing\"\n",
    "#         img = Image.new('RGB', (300, 300), color = (255, 255, 255))\n",
    "#         d = ImageDraw.Draw(img)\n",
    "#         d.text((10,10), \"Missing\", fill=(0,0,0))\n",
    "#         return img\n",
    "\n",
    "def plot_reaction_scheme(substrate_smiles, product_smiles, smarts_pattern):\n",
    "    try:\n",
    "        # Create RDKit molecule objects\n",
    "        mol_substrate = Chem.MolFromSmiles(substrate_smiles)\n",
    "        mol_product = Chem.MolFromSmiles(product_smiles)\n",
    "\n",
    "        # Generate images for the substrate and product\n",
    "        substrate_img = Draw.MolToImage(mol_substrate, size=(300, 300))\n",
    "        product_img = Draw.MolToImage(mol_product, size=(300, 300))\n",
    "\n",
    "        # Find and generate the sub-structure image\n",
    "        sub_structure_img = find_sub_structure(mol_substrate, smarts_pattern)\n",
    "    except Exception as e:\n",
    "        print(f\"Error processing molecules: {e}\")\n",
    "        return\n",
    "\n",
    "    # Create a figure and axes with 1 row and 5 columns\n",
    "    fig, ax = plt.subplots(1, 5, figsize=(15, 3))\n",
    "\n",
    "    # Plotting substrate\n",
    "    try:\n",
    "        ax[0].imshow(substrate_img)\n",
    "    except Exception:\n",
    "        ax[0].text(0.5, 0.5, 'Missing', horizontalalignment='center', verticalalignment='center')\n",
    "    ax[0].axis(\"off\")\n",
    "\n",
    "    # First arrow\n",
    "    ax[1].text(0.5, 0.5, '→', horizontalalignment='center', verticalalignment='center', fontsize=30, color=\"darkgrey\")\n",
    "    ax[1].axis(\"off\")\n",
    "\n",
    "    # Plotting sub-structure\n",
    "    try:\n",
    "        ax[2].imshow(sub_structure_img)\n",
    "    except Exception:\n",
    "        ax[2].text(0.5, 0.5, 'Missing', horizontalalignment='center', verticalalignment='center')\n",
    "    ax[2].axis(\"off\")\n",
    "\n",
    "    # Second arrow\n",
    "    ax[3].text(0.5, 0.5, '→', horizontalalignment='center', verticalalignment='center', fontsize=30, color=\"darkgrey\")\n",
    "    ax[3].axis(\"off\")\n",
    "\n",
    "    # Plotting product\n",
    "    try:\n",
    "        ax[4].imshow(product_img)\n",
    "    except Exception:\n",
    "        ax[4].text(0.5, 0.5, 'Missing', horizontalalignment='center', verticalalignment='center')\n",
    "    ax[4].axis(\"off\")\n",
    "\n",
    "    plt.tight_layout()\n",
    "    plt.show()"
   ]
  },
  {
   "cell_type": "code",
   "execution_count": 7,
   "id": "d694e127",
   "metadata": {},
   "outputs": [],
   "source": [
    "import matplotlib.pyplot as plt\n",
    "from rdkit import Chem\n",
    "from rdkit.Chem import Draw\n",
    "from PIL import Image, ImageDraw\n",
    "import io\n",
    "\n",
    "def find_sub_structure(smiles, smarts):\n",
    "    \"\"\"\n",
    "    Finds and highlights the substructure in a molecule defined by a SMARTS pattern.\n",
    "    \"\"\"\n",
    "    mol = Chem.MolFromSmiles(smiles)\n",
    "    if not mol:\n",
    "        return \"Invalid SMILES string.\"\n",
    "\n",
    "    query = Chem.MolFromSmarts(smarts)\n",
    "    if not query:\n",
    "        return \"Invalid SMARTS pattern.\"\n",
    "\n",
    "    matches = mol.GetSubstructMatches(query, uniquify=True)\n",
    "    if not matches:\n",
    "        return None  # Adjusted to return None for no matches\n",
    "\n",
    "    img = Draw.MolToImage(mol, highlightAtoms=sum(matches, ()), size=(300, 300))\n",
    "    return img\n",
    "\n",
    "def plot_reaction_scheme(substrate_smiles, product_smiles, smarts_pattern):\n",
    "    \"\"\"\n",
    "    Plots a reaction scheme showing the substrate, sub-structure, and product.\n",
    "    \"\"\"\n",
    "    try:\n",
    "        mol_substrate = Chem.MolFromSmiles(substrate_smiles)\n",
    "        substrate_img = Draw.MolToImage(mol_substrate, size=(300, 300))\n",
    "    except Exception as e:\n",
    "        substrate_img = \"Error\"\n",
    "\n",
    "    try:\n",
    "        mol_product = Chem.MolFromSmiles(product_smiles)\n",
    "        product_img = Draw.MolToImage(mol_product, size=(300, 300))\n",
    "    except Exception as e:\n",
    "        product_img = \"Error\"\n",
    "\n",
    "    # Use the provided find_sub_structure function\n",
    "    sub_structure_img = find_sub_structure(substrate_smiles, smarts_pattern)\n",
    "    if isinstance(sub_structure_img, str):  # Check if the function returned an error message\n",
    "        sub_structure_img = \"Error\"\n",
    "\n",
    "    # Create a figure and axes with 1 row and 5 columns\n",
    "    fig, ax = plt.subplots(1, 5, figsize=(15, 3))\n",
    "\n",
    "    # Helper function to plot images or placeholders\n",
    "    def plot_image_or_placeholder(ax, img, placeholder_text=\"Missing\"):\n",
    "        if img == \"Error\":\n",
    "            ax.text(0.5, 0.5, placeholder_text, horizontalalignment='center', verticalalignment='center', fontsize=12)\n",
    "            ax.axis(\"off\")\n",
    "        else:\n",
    "            ax.imshow(img)\n",
    "            ax.axis(\"off\")\n",
    "\n",
    "    # Plotting substrate\n",
    "    plot_image_or_placeholder(ax[0], substrate_img)\n",
    "\n",
    "    # First arrow\n",
    "    ax[1].text(0.5, 0.5, '→', horizontalalignment='center', verticalalignment='center', fontsize=30, color=\"royalblue\")\n",
    "    ax[1].axis(\"off\")\n",
    "\n",
    "    # Plotting sub-structure\n",
    "    plot_image_or_placeholder(ax[2], sub_structure_img, \"No Match\")\n",
    "\n",
    "    # Second arrow\n",
    "    ax[3].text(0.5, 0.5, '→', horizontalalignment='center', verticalalignment='center', fontsize=30, color=\"royalblue\")\n",
    "    ax[3].axis(\"off\")\n",
    "\n",
    "    # Plotting product\n",
    "    plot_image_or_placeholder(ax[4], product_img)\n",
    "\n",
    "    plt.tight_layout()\n",
    "    plt.show()"
   ]
  },
  {
   "cell_type": "markdown",
   "id": "6f4f68f3",
   "metadata": {},
   "source": [
    "## Input"
   ]
  },
  {
   "cell_type": "code",
   "execution_count": 351,
   "id": "9746b4da",
   "metadata": {},
   "outputs": [],
   "source": [
    "# Methylenediurea + H2O <=> N-(Carboxyaminomethyl)urea + Ammonia\n",
    "\n",
    "substrate = 'C(NC(=O)N)NC(=O)N'\n",
    "substrate = 'C(C(C(=O)O)N)O'\n",
    "\n",
    "# loss\n",
    "smirks = '[*:1](O)CN>>[*:1]C=O'\n",
    "smirks = '[*:1][*:2](-N)C(=[*:3])O>>[*:1]=[*:2]C([*:3])O'\n",
    "smirks = '[*:1](-N)CO>>[*:1](C)(=O)'\n",
    "# smirks = '[*:1][*:2]-N>>[*:1]=[*:2]'\n",
    "# smirks = '[*:1]=[*:2](-N)>>[*:1][*:2](=O)'\n",
    "# smirks = '[*:1](-N)C(-O)[*:2]>>[*:1](=O)C[*:2]'\n",
    "mass_difference = '-'\n",
    "\n",
    "# # add\n",
    "# substrate = 'C1=CC=C2C(=C1)C(=CN2)C=CC(=O)O'\n",
    "# # smirks = '[*:1]C=O>>[*:1](O)CN'\n",
    "# smirks = '[*:1]=[*:2]C([*:3])>>[*:1][*:2](-N)C(=[*:3])O'\n",
    "# smirks = '[*:1](=O)C[*:2]>>[*:1](-N)C(-O)[*:2]'\n",
    "\n",
    "# mass_difference = '+'"
   ]
  },
  {
   "cell_type": "markdown",
   "id": "fc9fff4f",
   "metadata": {},
   "source": [
    "### Input compounds"
   ]
  },
  {
   "cell_type": "code",
   "execution_count": 352,
   "id": "9015c768",
   "metadata": {
    "scrolled": false
   },
   "outputs": [
    {
     "name": "stdout",
     "output_type": "stream",
     "text": [
      "105.042593084\n"
     ]
    },
    {
     "data": {
      "image/png": "[encoded data removed]",
      "text/plain": [
       "<IPython.core.display.Image object>"
      ]
     },
     "execution_count": 352,
     "metadata": {},
     "output_type": "execute_result"
    }
   ],
   "source": [
    "mol_substrate = Chem.MolFromSmiles(substrate)\n",
    "print(Descriptors.ExactMolWt(mol_substrate))\n",
    "fig = Draw.MolsToGridImage([mol_substrate], subImgSize=(500, 500))\n",
    "fig"
   ]
  },
  {
   "cell_type": "markdown",
   "id": "2f987578",
   "metadata": {},
   "source": [
    "### Substracture"
   ]
  },
  {
   "cell_type": "code",
   "execution_count": 353,
   "id": "45304cd6",
   "metadata": {
    "scrolled": false
   },
   "outputs": [
    {
     "name": "stdout",
     "output_type": "stream",
     "text": [
      "47.03711378\n",
      "CH2*NO (ignore H)\n"
     ]
    },
    {
     "data": {
      "image/png": "[encoded data removed]",
      "text/plain": [
       "<IPython.core.display.Image object>"
      ]
     },
     "execution_count": 353,
     "metadata": {},
     "output_type": "execute_result"
    }
   ],
   "source": [
    "smarts = smirks.split('>>')[0]\n",
    "mol_substrate = Chem.MolFromSmiles(smarts)\n",
    "print(Descriptors.ExactMolWt(mol_substrate))\n",
    "print(smarts_to_formula(smarts))\n",
    "fig = Draw.MolsToGridImage([mol_substrate], subImgSize=(500, 500))  # Adjust (300, 300) as needed\n",
    "fig"
   ]
  },
  {
   "cell_type": "code",
   "execution_count": 354,
   "id": "b1854fe4",
   "metadata": {},
   "outputs": [
    {
     "data": {
      "image/png": "[encoded data removed]",
      "text/plain": [
       "<PIL.PngImagePlugin.PngImageFile image mode=RGB size=300x300 at 0x7FA8A926E640>"
      ]
     },
     "execution_count": 354,
     "metadata": {},
     "output_type": "execute_result"
    }
   ],
   "source": [
    "find_sub_structure(substrate, smarts)"
   ]
  },
  {
   "cell_type": "markdown",
   "id": "1f82dc3e",
   "metadata": {},
   "source": [
    "### Rxn pattern"
   ]
  },
  {
   "cell_type": "code",
   "execution_count": 355,
   "id": "00924ea4",
   "metadata": {
    "scrolled": true
   },
   "outputs": [
    {
     "data": {
      "image/png": "[encoded data removed]",
      "text/plain": [
       "<rdkit.Chem.rdChemReactions.ChemicalReaction at 0x7fa895892e40>"
      ]
     },
     "execution_count": 355,
     "metadata": {},
     "output_type": "execute_result"
    }
   ],
   "source": [
    "rxn = AllChem.ReactionFromSmarts(smirks)\n",
    "rxn"
   ]
  },
  {
   "cell_type": "markdown",
   "id": "d808f316",
   "metadata": {},
   "source": [
    "## Pred"
   ]
  },
  {
   "cell_type": "code",
   "execution_count": 356,
   "id": "fda857ca",
   "metadata": {
    "scrolled": true
   },
   "outputs": [
    {
     "name": "stdout",
     "output_type": "stream",
     "text": [
      "All the Products:\n",
      "\n",
      "CC(=O)C(=O)O\n",
      "CC(=O)CO\n"
     ]
    }
   ],
   "source": [
    "products = predict_products(substrate, smirks)\n",
    "print('All the Products:')\n",
    "print()\n",
    "for p in products:\n",
    "    print(p)"
   ]
  },
  {
   "cell_type": "markdown",
   "id": "6168b602",
   "metadata": {},
   "source": [
    "## Result"
   ]
  },
  {
   "cell_type": "code",
   "execution_count": 357,
   "id": "af55543f",
   "metadata": {},
   "outputs": [
    {
     "name": "stdout",
     "output_type": "stream",
     "text": [
      "['CC(=O)C(=O)O']\n"
     ]
    }
   ],
   "source": [
    "product = filter_by_mass_difference(products, substrate, mass_difference)\n",
    "print(product)\n",
    "product = product[0]"
   ]
  },
  {
   "cell_type": "code",
   "execution_count": 358,
   "id": "c5188ccc",
   "metadata": {},
   "outputs": [
    {
     "data": {
      "text/plain": [
       "'C(C(C(=O)O)N)O>>CC(=O)C(=O)O'"
      ]
     },
     "execution_count": 358,
     "metadata": {},
     "output_type": "execute_result"
    }
   ],
   "source": [
    "process = substrate + '>>' + product\n",
    "process"
   ]
  },
  {
   "cell_type": "code",
   "execution_count": 359,
   "id": "483f18b9",
   "metadata": {},
   "outputs": [
    {
     "name": "stdout",
     "output_type": "stream",
     "text": [
      "88.016043988\n"
     ]
    },
    {
     "data": {
      "image/png": "[encoded data removed]",
      "text/plain": [
       "<IPython.core.display.Image object>"
      ]
     },
     "execution_count": 359,
     "metadata": {},
     "output_type": "execute_result"
    }
   ],
   "source": [
    "mol_substrate = Chem.MolFromSmiles(product)\n",
    "print(Descriptors.ExactMolWt(mol_substrate))\n",
    "fig = Draw.MolsToGridImage([mol_substrate], subImgSize=(500, 500))  # Adjust (300, 300) as needed\n",
    "fig"
   ]
  },
  {
   "cell_type": "code",
   "execution_count": 360,
   "id": "eafafd54",
   "metadata": {},
   "outputs": [
    {
     "data": {
      "image/png": "[encoded data removed]",
      "text/plain": [
       "<Figure size 1500x300 with 5 Axes>"
      ]
     },
     "metadata": {},
     "output_type": "display_data"
    }
   ],
   "source": [
    "plot_reaction_scheme(substrate, product, smarts)"
   ]
  },
  {
   "cell_type": "markdown",
   "id": "cc638992",
   "metadata": {},
   "source": [
    "************************************"
   ]
  },
  {
   "cell_type": "markdown",
   "id": "64f58d4a",
   "metadata": {},
   "source": [
    "# TEST PART"
   ]
  },
  {
   "cell_type": "code",
   "execution_count": 220,
   "id": "cc38f5cb",
   "metadata": {},
   "outputs": [],
   "source": [
    "ref = pd.read_csv('/Users/bowen/Desktop/MCID2.0/03_initial_result/01_kegg/1_rxn/mcidxkegg_1811882_all.csv')\n",
    "ref = ref[['possible_reaction','smiles','substrate_name_all']]"
   ]
  },
  {
   "cell_type": "code",
   "execution_count": 142,
   "id": "2f411568",
   "metadata": {},
   "outputs": [
    {
     "data": {
      "text/html": [
       "<div>\n",
       "<style scoped>\n",
       "    .dataframe tbody tr th:only-of-type {\n",
       "        vertical-align: middle;\n",
       "    }\n",
       "\n",
       "    .dataframe tbody tr th {\n",
       "        vertical-align: top;\n",
       "    }\n",
       "\n",
       "    .dataframe thead th {\n",
       "        text-align: right;\n",
       "    }\n",
       "</style>\n",
       "<table border=\"1\" class=\"dataframe\">\n",
       "  <thead>\n",
       "    <tr style=\"text-align: right;\">\n",
       "      <th></th>\n",
       "      <th>possible_reaction</th>\n",
       "      <th>smiles</th>\n",
       "      <th>substrate_name_all</th>\n",
       "    </tr>\n",
       "  </thead>\n",
       "  <tbody>\n",
       "    <tr>\n",
       "      <th>1</th>\n",
       "      <td>R60</td>\n",
       "      <td>O=C1N=C(N)C=CN1C2OC(COC3C(O)C(OC3COP(=O)(O)OP(...</td>\n",
       "      <td>ATP;_Adenosine 5'-triphosphate</td>\n",
       "    </tr>\n",
       "    <tr>\n",
       "      <th>2</th>\n",
       "      <td>R60</td>\n",
       "      <td>O=C1N=C(N)C=CN1C2OC(CO)C(OC3C(O)C(OC3COP(=O)(O...</td>\n",
       "      <td>ATP;_Adenosine 5'-triphosphate</td>\n",
       "    </tr>\n",
       "    <tr>\n",
       "      <th>3</th>\n",
       "      <td>R60</td>\n",
       "      <td>O=C1N=C(N)C=CN1C2OC(CO)C(OC3C(O)C(OC3N4C=NC=5C...</td>\n",
       "      <td>ATP;_Adenosine 5'-triphosphate</td>\n",
       "    </tr>\n",
       "    <tr>\n",
       "      <th>4</th>\n",
       "      <td>R60</td>\n",
       "      <td>O=C1N=C(N)C=CN1C2OC(COC3C(O)C(OC3N4C=NC=5C(=NC...</td>\n",
       "      <td>ATP;_Adenosine 5'-triphosphate</td>\n",
       "    </tr>\n",
       "    <tr>\n",
       "      <th>5</th>\n",
       "      <td>R60</td>\n",
       "      <td>O=C1N=C(N)C=CN1C2OC(COC3C(O)C(OC3[N+]=4C=CC=C(...</td>\n",
       "      <td>NAD+;_NAD;_Nicotinamide adenine dinucleotide;_...</td>\n",
       "    </tr>\n",
       "    <tr>\n",
       "      <th>6</th>\n",
       "      <td>R60</td>\n",
       "      <td>O=C1N=C(N)C=CN1C2OC(COC3C(O)C(OC3COP(=O)(O)OP(...</td>\n",
       "      <td>NAD+;_NAD;_Nicotinamide adenine dinucleotide;_...</td>\n",
       "    </tr>\n",
       "    <tr>\n",
       "      <th>7</th>\n",
       "      <td>R60</td>\n",
       "      <td>O=C1N=C(N)C=CN1C2OC(COC3C(O)C(OC3COP(=O)(O)OP(...</td>\n",
       "      <td>NAD+;_NAD;_Nicotinamide adenine dinucleotide;_...</td>\n",
       "    </tr>\n",
       "    <tr>\n",
       "      <th>8</th>\n",
       "      <td>R60</td>\n",
       "      <td>O=C1N=C(N)C=CN1C2OC(CO)C(OC3C(O)C(OC3[N+]=4C=C...</td>\n",
       "      <td>NAD+;_NAD;_Nicotinamide adenine dinucleotide;_...</td>\n",
       "    </tr>\n",
       "    <tr>\n",
       "      <th>9</th>\n",
       "      <td>R60</td>\n",
       "      <td>O=C1N=C(N)C=CN1C2OC(COC3C(O)C(OC3N4C=NC=5C(=NC...</td>\n",
       "      <td>NAD+;_NAD;_Nicotinamide adenine dinucleotide;_...</td>\n",
       "    </tr>\n",
       "    <tr>\n",
       "      <th>10</th>\n",
       "      <td>R60</td>\n",
       "      <td>O=C1N=C(N)C=CN1C2OC(CO)C(OC3C(O)C(OC3COP(=O)(O...</td>\n",
       "      <td>NAD+;_NAD;_Nicotinamide adenine dinucleotide;_...</td>\n",
       "    </tr>\n",
       "    <tr>\n",
       "      <th>11</th>\n",
       "      <td>R60</td>\n",
       "      <td>O=C1N=C(N)C=CN1C2OC(CO)C(OC3C(O)C(OC3COP(=O)(O...</td>\n",
       "      <td>NAD+;_NAD;_Nicotinamide adenine dinucleotide;_...</td>\n",
       "    </tr>\n",
       "    <tr>\n",
       "      <th>12</th>\n",
       "      <td>R60</td>\n",
       "      <td>O=C1N=C(N)C=CN1C2OC(CO)C(OC3C(O)C(OC3N4C=NC=5C...</td>\n",
       "      <td>NAD+;_NAD;_Nicotinamide adenine dinucleotide;_...</td>\n",
       "    </tr>\n",
       "    <tr>\n",
       "      <th>13</th>\n",
       "      <td>R60</td>\n",
       "      <td>O=C1N=C(N)C=CN1C2OC(CO)C(OC3C(O)C(OC3COP(=O)(O...</td>\n",
       "      <td>NADH;_DPNH;_Reduced nicotinamide adenine dinuc...</td>\n",
       "    </tr>\n",
       "    <tr>\n",
       "      <th>14</th>\n",
       "      <td>R60</td>\n",
       "      <td>O=C1N=C(N)C=CN1C2OC(CO)C(OC3C(O)C(OC3N4C=NC=5C...</td>\n",
       "      <td>NADH;_DPNH;_Reduced nicotinamide adenine dinuc...</td>\n",
       "    </tr>\n",
       "    <tr>\n",
       "      <th>15</th>\n",
       "      <td>R60</td>\n",
       "      <td>O=C1N=C(N)C=CN1C2OC(CO)C(OC3C(O)C(OC3N4C=CCC(=...</td>\n",
       "      <td>NADH;_DPNH;_Reduced nicotinamide adenine dinuc...</td>\n",
       "    </tr>\n",
       "    <tr>\n",
       "      <th>16</th>\n",
       "      <td>R60</td>\n",
       "      <td>O=C1N=C(N)C=CN1C2OC(COC3C(O)C(OC3N4C=CCC(=C4)C...</td>\n",
       "      <td>NADH;_DPNH;_Reduced nicotinamide adenine dinuc...</td>\n",
       "    </tr>\n",
       "    <tr>\n",
       "      <th>17</th>\n",
       "      <td>R60</td>\n",
       "      <td>O=C1N=C(N)C=CN1C2OC(CO)C(OC3C(O)C(OC3COP(=O)(O...</td>\n",
       "      <td>NADH;_DPNH;_Reduced nicotinamide adenine dinuc...</td>\n",
       "    </tr>\n",
       "    <tr>\n",
       "      <th>18</th>\n",
       "      <td>R60</td>\n",
       "      <td>O=C1N=C(N)C=CN1C2OC(COC3C(O)C(OC3N4C=NC=5C(=NC...</td>\n",
       "      <td>NADH;_DPNH;_Reduced nicotinamide adenine dinuc...</td>\n",
       "    </tr>\n",
       "    <tr>\n",
       "      <th>19</th>\n",
       "      <td>R60</td>\n",
       "      <td>O=C1N=C(N)C=CN1C2OC(COC3C(O)C(OC3COP(=O)(O)OP(...</td>\n",
       "      <td>NADH;_DPNH;_Reduced nicotinamide adenine dinuc...</td>\n",
       "    </tr>\n",
       "    <tr>\n",
       "      <th>20</th>\n",
       "      <td>R60</td>\n",
       "      <td>O=C1N=C(N)C=CN1C2OC(COC3C(O)C(OC3COP(=O)(O)OP(...</td>\n",
       "      <td>NADH;_DPNH;_Reduced nicotinamide adenine dinuc...</td>\n",
       "    </tr>\n",
       "    <tr>\n",
       "      <th>21</th>\n",
       "      <td>R60</td>\n",
       "      <td>O=C1N=C(N)C=CN1C2OC(CO)C(OC3C(O)C(OC3COP(=O)(O...</td>\n",
       "      <td>NADPH;_TPNH;_Reduced nicotinamide adenine dinu...</td>\n",
       "    </tr>\n",
       "    <tr>\n",
       "      <th>22</th>\n",
       "      <td>R60</td>\n",
       "      <td>O=C1N=C(N)C=CN1C2OC(COC3C(O)C(OC3N4C=CCC(=C4)C...</td>\n",
       "      <td>NADPH;_TPNH;_Reduced nicotinamide adenine dinu...</td>\n",
       "    </tr>\n",
       "    <tr>\n",
       "      <th>23</th>\n",
       "      <td>R60</td>\n",
       "      <td>O=C1N=C(N)C=CN1C2OC(COC3C(O)C(OC3COP(=O)(O)OP(...</td>\n",
       "      <td>NADPH;_TPNH;_Reduced nicotinamide adenine dinu...</td>\n",
       "    </tr>\n",
       "    <tr>\n",
       "      <th>24</th>\n",
       "      <td>R60</td>\n",
       "      <td>O=C1N=C(N)C=CN1C2OC(CO)C(OC3C(OC(N4C=NC=5C(=NC...</td>\n",
       "      <td>NADPH;_TPNH;_Reduced nicotinamide adenine dinu...</td>\n",
       "    </tr>\n",
       "    <tr>\n",
       "      <th>25</th>\n",
       "      <td>R60</td>\n",
       "      <td>O=C1N=C(N)C=CN1C2OC(COC3C(OC(N4C=NC=5C(=NC=NC5...</td>\n",
       "      <td>NADPH;_TPNH;_Reduced nicotinamide adenine dinu...</td>\n",
       "    </tr>\n",
       "    <tr>\n",
       "      <th>26</th>\n",
       "      <td>R60</td>\n",
       "      <td>O=C1N=C(N)C=CN1C2OC(CO)C(OC3C(O)C(OC3N4C=CCC(=...</td>\n",
       "      <td>NADPH;_TPNH;_Reduced nicotinamide adenine dinu...</td>\n",
       "    </tr>\n",
       "    <tr>\n",
       "      <th>27</th>\n",
       "      <td>R60</td>\n",
       "      <td>O=C1N=C(N)C=CN1C2OC(COC3C(O)C(OC3[N+]=4C=CC=C(...</td>\n",
       "      <td>NADP+;_NADP;_Nicotinamide adenine dinucleotide...</td>\n",
       "    </tr>\n",
       "    <tr>\n",
       "      <th>28</th>\n",
       "      <td>R60</td>\n",
       "      <td>O=C1N=C(N)C=CN1C2OC(COC3C(OC(N4C=NC=5C(=NC=NC5...</td>\n",
       "      <td>NADP+;_NADP;_Nicotinamide adenine dinucleotide...</td>\n",
       "    </tr>\n",
       "    <tr>\n",
       "      <th>29</th>\n",
       "      <td>R60</td>\n",
       "      <td>O=C1N=C(N)C=CN1C2OC(CO)C(OC3C(O)C(OC3COP(=O)(O...</td>\n",
       "      <td>NADP+;_NADP;_Nicotinamide adenine dinucleotide...</td>\n",
       "    </tr>\n",
       "    <tr>\n",
       "      <th>30</th>\n",
       "      <td>R60</td>\n",
       "      <td>O=C1N=C(N)C=CN1C2OC(COC3C(O)C(OC3COP(=O)(O)OP(...</td>\n",
       "      <td>NADP+;_NADP;_Nicotinamide adenine dinucleotide...</td>\n",
       "    </tr>\n",
       "  </tbody>\n",
       "</table>\n",
       "</div>"
      ],
      "text/plain": [
       "   possible_reaction                                             smiles  \\\n",
       "1                R60  O=C1N=C(N)C=CN1C2OC(COC3C(O)C(OC3COP(=O)(O)OP(...   \n",
       "2                R60  O=C1N=C(N)C=CN1C2OC(CO)C(OC3C(O)C(OC3COP(=O)(O...   \n",
       "3                R60  O=C1N=C(N)C=CN1C2OC(CO)C(OC3C(O)C(OC3N4C=NC=5C...   \n",
       "4                R60  O=C1N=C(N)C=CN1C2OC(COC3C(O)C(OC3N4C=NC=5C(=NC...   \n",
       "5                R60  O=C1N=C(N)C=CN1C2OC(COC3C(O)C(OC3[N+]=4C=CC=C(...   \n",
       "6                R60  O=C1N=C(N)C=CN1C2OC(COC3C(O)C(OC3COP(=O)(O)OP(...   \n",
       "7                R60  O=C1N=C(N)C=CN1C2OC(COC3C(O)C(OC3COP(=O)(O)OP(...   \n",
       "8                R60  O=C1N=C(N)C=CN1C2OC(CO)C(OC3C(O)C(OC3[N+]=4C=C...   \n",
       "9                R60  O=C1N=C(N)C=CN1C2OC(COC3C(O)C(OC3N4C=NC=5C(=NC...   \n",
       "10               R60  O=C1N=C(N)C=CN1C2OC(CO)C(OC3C(O)C(OC3COP(=O)(O...   \n",
       "11               R60  O=C1N=C(N)C=CN1C2OC(CO)C(OC3C(O)C(OC3COP(=O)(O...   \n",
       "12               R60  O=C1N=C(N)C=CN1C2OC(CO)C(OC3C(O)C(OC3N4C=NC=5C...   \n",
       "13               R60  O=C1N=C(N)C=CN1C2OC(CO)C(OC3C(O)C(OC3COP(=O)(O...   \n",
       "14               R60  O=C1N=C(N)C=CN1C2OC(CO)C(OC3C(O)C(OC3N4C=NC=5C...   \n",
       "15               R60  O=C1N=C(N)C=CN1C2OC(CO)C(OC3C(O)C(OC3N4C=CCC(=...   \n",
       "16               R60  O=C1N=C(N)C=CN1C2OC(COC3C(O)C(OC3N4C=CCC(=C4)C...   \n",
       "17               R60  O=C1N=C(N)C=CN1C2OC(CO)C(OC3C(O)C(OC3COP(=O)(O...   \n",
       "18               R60  O=C1N=C(N)C=CN1C2OC(COC3C(O)C(OC3N4C=NC=5C(=NC...   \n",
       "19               R60  O=C1N=C(N)C=CN1C2OC(COC3C(O)C(OC3COP(=O)(O)OP(...   \n",
       "20               R60  O=C1N=C(N)C=CN1C2OC(COC3C(O)C(OC3COP(=O)(O)OP(...   \n",
       "21               R60  O=C1N=C(N)C=CN1C2OC(CO)C(OC3C(O)C(OC3COP(=O)(O...   \n",
       "22               R60  O=C1N=C(N)C=CN1C2OC(COC3C(O)C(OC3N4C=CCC(=C4)C...   \n",
       "23               R60  O=C1N=C(N)C=CN1C2OC(COC3C(O)C(OC3COP(=O)(O)OP(...   \n",
       "24               R60  O=C1N=C(N)C=CN1C2OC(CO)C(OC3C(OC(N4C=NC=5C(=NC...   \n",
       "25               R60  O=C1N=C(N)C=CN1C2OC(COC3C(OC(N4C=NC=5C(=NC=NC5...   \n",
       "26               R60  O=C1N=C(N)C=CN1C2OC(CO)C(OC3C(O)C(OC3N4C=CCC(=...   \n",
       "27               R60  O=C1N=C(N)C=CN1C2OC(COC3C(O)C(OC3[N+]=4C=CC=C(...   \n",
       "28               R60  O=C1N=C(N)C=CN1C2OC(COC3C(OC(N4C=NC=5C(=NC=NC5...   \n",
       "29               R60  O=C1N=C(N)C=CN1C2OC(CO)C(OC3C(O)C(OC3COP(=O)(O...   \n",
       "30               R60  O=C1N=C(N)C=CN1C2OC(COC3C(O)C(OC3COP(=O)(O)OP(...   \n",
       "\n",
       "                                   substrate_name_all  \n",
       "1                      ATP;_Adenosine 5'-triphosphate  \n",
       "2                      ATP;_Adenosine 5'-triphosphate  \n",
       "3                      ATP;_Adenosine 5'-triphosphate  \n",
       "4                      ATP;_Adenosine 5'-triphosphate  \n",
       "5   NAD+;_NAD;_Nicotinamide adenine dinucleotide;_...  \n",
       "6   NAD+;_NAD;_Nicotinamide adenine dinucleotide;_...  \n",
       "7   NAD+;_NAD;_Nicotinamide adenine dinucleotide;_...  \n",
       "8   NAD+;_NAD;_Nicotinamide adenine dinucleotide;_...  \n",
       "9   NAD+;_NAD;_Nicotinamide adenine dinucleotide;_...  \n",
       "10  NAD+;_NAD;_Nicotinamide adenine dinucleotide;_...  \n",
       "11  NAD+;_NAD;_Nicotinamide adenine dinucleotide;_...  \n",
       "12  NAD+;_NAD;_Nicotinamide adenine dinucleotide;_...  \n",
       "13  NADH;_DPNH;_Reduced nicotinamide adenine dinuc...  \n",
       "14  NADH;_DPNH;_Reduced nicotinamide adenine dinuc...  \n",
       "15  NADH;_DPNH;_Reduced nicotinamide adenine dinuc...  \n",
       "16  NADH;_DPNH;_Reduced nicotinamide adenine dinuc...  \n",
       "17  NADH;_DPNH;_Reduced nicotinamide adenine dinuc...  \n",
       "18  NADH;_DPNH;_Reduced nicotinamide adenine dinuc...  \n",
       "19  NADH;_DPNH;_Reduced nicotinamide adenine dinuc...  \n",
       "20  NADH;_DPNH;_Reduced nicotinamide adenine dinuc...  \n",
       "21  NADPH;_TPNH;_Reduced nicotinamide adenine dinu...  \n",
       "22  NADPH;_TPNH;_Reduced nicotinamide adenine dinu...  \n",
       "23  NADPH;_TPNH;_Reduced nicotinamide adenine dinu...  \n",
       "24  NADPH;_TPNH;_Reduced nicotinamide adenine dinu...  \n",
       "25  NADPH;_TPNH;_Reduced nicotinamide adenine dinu...  \n",
       "26  NADPH;_TPNH;_Reduced nicotinamide adenine dinu...  \n",
       "27  NADP+;_NADP;_Nicotinamide adenine dinucleotide...  \n",
       "28  NADP+;_NADP;_Nicotinamide adenine dinucleotide...  \n",
       "29  NADP+;_NADP;_Nicotinamide adenine dinucleotide...  \n",
       "30  NADP+;_NADP;_Nicotinamide adenine dinucleotide...  "
      ]
     },
     "execution_count": 142,
     "metadata": {},
     "output_type": "execute_result"
    }
   ],
   "source": [
    "trimming_ref = ref[ref['possible_reaction'] == 'R60']\n",
    "trimming_ref.index = range(1, len(trimming_ref)+1)\n",
    "trimming_ref.head(30)"
   ]
  },
  {
   "cell_type": "code",
   "execution_count": 143,
   "id": "c9428662",
   "metadata": {},
   "outputs": [
    {
     "name": "stdout",
     "output_type": "stream",
     "text": [
      "possible_reaction                                                   R60\n",
      "smiles                O=C1N=C(N)C=CN1C2OC(COC3C(O)C(OC3COP(=O)(O)OP(...\n",
      "substrate_name_all                       ATP;_Adenosine 5'-triphosphate\n",
      "Name: 1, dtype: object\n",
      "O=C1N=C(N)C=CN1C2OC(COC3C(O)C(OC3COP(=O)(O)OP(=O)(O)OP(=O)(O)O)N4C=NC=5C(=NC=NC54)N)C(O)C2O\n"
     ]
    }
   ],
   "source": [
    "line_at_index = trimming_ref.loc[1]\n",
    "print(line_at_index)\n",
    "print(line_at_index['smiles'])"
   ]
  },
  {
   "cell_type": "code",
   "execution_count": 215,
   "id": "e52ae7a7",
   "metadata": {
    "scrolled": false
   },
   "outputs": [
    {
     "name": "stdout",
     "output_type": "stream",
     "text": [
      "133.048741084\n"
     ]
    },
    {
     "data": {
      "image/png": "[encoded data removed]",
      "text/plain": [
       "<IPython.core.display.Image object>"
      ]
     },
     "execution_count": 215,
     "metadata": {},
     "output_type": "execute_result"
    }
   ],
   "source": [
    "mol_substrate = Chem.MolFromSmiles('NC(=O)NCNC(=O)O')\n",
    "print(Descriptors.ExactMolWt(mol_substrate))\n",
    "# Chem.Draw.MolsToGridImage([mol_substrate])\n",
    "fig = Draw.MolsToGridImage([mol_substrate], subImgSize=(500, 500)) \n",
    "fig"
   ]
  },
  {
   "cell_type": "code",
   "execution_count": 54,
   "id": "b0400b82",
   "metadata": {},
   "outputs": [
    {
     "data": {
      "text/plain": [
       "27.99491462000003"
      ]
     },
     "execution_count": 54,
     "metadata": {},
     "output_type": "execute_result"
    }
   ],
   "source": [
    "663.1091218040001 - 635.1142071840001"
   ]
  },
  {
   "cell_type": "markdown",
   "id": "2b224379",
   "metadata": {},
   "source": [
    "# 2. Some Rxn hard to use SMIRKS to represent"
   ]
  },
  {
   "cell_type": "code",
   "execution_count": 345,
   "id": "10e983fc",
   "metadata": {},
   "outputs": [
    {
     "name": "stdout",
     "output_type": "stream",
     "text": [
      "[]\n"
     ]
    }
   ],
   "source": [
    "def predict_products_group(substrate, subgroup, smirks):\n",
    "    mol = Chem.MolFromSmiles(substrate)\n",
    "    pattern = Chem.MolFromSmarts(subgroup)\n",
    "    matches = mol.GetSubstructMatches(pattern)\n",
    "    modified_molecules = []\n",
    "\n",
    "    reaction = AllChem.ReactionFromSmarts(smirks)\n",
    "\n",
    "    for match in matches:\n",
    "        # Apply the reaction to the molecule. The reaction expects a list of reactants, but we have only one.\n",
    "        products = reaction.RunReactants((mol,))\n",
    "\n",
    "        # Assuming the reaction produces at least one product, take the first product.\n",
    "        if products:\n",
    "            product_mol = products[0][0]  # Take the first product\n",
    "            modified_smiles = Chem.MolToSmiles(product_mol, isomericSmiles=True)\n",
    "            modified_molecules.append(modified_smiles)\n",
    "\n",
    "    return modified_molecules\n",
    "\n",
    "# Example usage\n",
    "substrate = 'CCCCOC1=CC2=NC3=CC=CC=C3N=C2C=C1'  # Example molecule with an OH group to be replaced\n",
    "subgroup = 'c1nccnc1'  # Target OH group on a ring\n",
    "smirks = '[C:1]=[N:2]>>[C:1]-[N:2]'  # Reaction: Replace OH with sulfate group\n",
    "\n",
    "product = predict_products_group(substrate, subgroup, smirks)\n",
    "print(product)"
   ]
  },
  {
   "cell_type": "code",
   "execution_count": 346,
   "id": "c14e8865",
   "metadata": {},
   "outputs": [
    {
     "name": "stderr",
     "output_type": "stream",
     "text": [
      "[15:48:10] SMILES Parse Error: syntax error while parsing: [C:1]=[N:2]>>[C:1]-[N:2]\n",
      "[15:48:10] SMILES Parse Error: Failed parsing SMILES '[C:1]=[N:2]>>[C:1]-[N:2]' for input: '[C:1]=[N:2]>>[C:1]-[N:2]'\n"
     ]
    },
    {
     "data": {
      "image/png": "[encoded data removed]",
      "text/plain": [
       "<Figure size 1500x300 with 5 Axes>"
      ]
     },
     "metadata": {},
     "output_type": "display_data"
    }
   ],
   "source": [
    "plot_reaction_scheme(substrate, smirks, subgroup)"
   ]
  },
  {
   "cell_type": "markdown",
   "id": "5a57c7bd",
   "metadata": {},
   "source": [
    "### Convert SMILES to InChIKey"
   ]
  },
  {
   "cell_type": "code",
   "execution_count": 65,
   "id": "0b9ff3ef",
   "metadata": {},
   "outputs": [
    {
     "name": "stdout",
     "output_type": "stream",
     "text": [
      "InChIKey: RWSXRVCMGQZWBV-UHFFFAOYSA-N\n"
     ]
    },
    {
     "name": "stderr",
     "output_type": "stream",
     "text": [
      "[00:06:12] WARNING: Omitted undefined stereo\n",
      "\n"
     ]
    }
   ],
   "source": [
    "from rdkit import Chem\n",
    "from rdkit.Chem import inchi\n",
    "\n",
    "def smiles_to_inchikey(smiles):\n",
    "    # Create an RDKit molecule object from the SMILES string\n",
    "    mol = Chem.MolFromSmiles(smiles)\n",
    "    \n",
    "    # Ensure the molecule was correctly created\n",
    "    if mol is None:\n",
    "        return None, \"Invalid SMILES string\"\n",
    "    \n",
    "    # Convert the molecule to InChI\n",
    "    inchi_str = inchi.MolToInchi(mol)\n",
    "    \n",
    "    # Convert the InChI to InChIKey\n",
    "    inchi_key = inchi.InchiToInchiKey(inchi_str)\n",
    "    \n",
    "    return inchi_key\n",
    "\n",
    "# Example usage\n",
    "smiles_string = \"NC(CCC(=O)NC(CS)C(=O)NCC(=O)O)C(=O)O\" \n",
    "inchi_key = smiles_to_inchikey(smiles_string)\n",
    "print(f\"InChIKey: {inchi_key}\")"
   ]
  },
  {
   "cell_type": "markdown",
   "id": "7a529933",
   "metadata": {},
   "source": [
    "### Find sub-group"
   ]
  },
  {
   "cell_type": "code",
   "execution_count": 57,
   "id": "6f9d9e1b",
   "metadata": {},
   "outputs": [
    {
     "name": "stdout",
     "output_type": "stream",
     "text": [
      "Found 1 match(es).\n",
      "Atoms in match: (15, 14, 7, 6, 5, 4, 0, 1, 2, 3, 17, 19, 12, 11, 10, 8, 9, 13)\n"
     ]
    },
    {
     "data": {
      "image/svg+xml": [
       "<svg xmlns=\"http://www.w3.org/2000/svg\" xmlns:rdkit=\"http://www.rdkit.org/xml\" xmlns:xlink=\"http://www.w3.org/1999/xlink\" version=\"1.1\" baseProfile=\"full\" xml:space=\"preserve\" width=\"400px\" height=\"400px\" viewBox=\"0 0 400 400\">\n",
       "<!-- END OF HEADER -->\n",
       "<rect style=\"opacity:1.0;fill:#FFFFFF;stroke:none\" width=\"400.0\" height=\"400.0\" x=\"0.0\" y=\"0.0\"> </rect>\n",
       "<ellipse cx=\"158.0\" cy=\"157.7\" rx=\"9.8\" ry=\"9.8\" class=\"atom-0\" style=\"fill:#FF7F7F;fill-rule:evenodd;stroke:#FF7F7F;stroke-width:1.0px;stroke-linecap:butt;stroke-linejoin:miter;stroke-opacity:1\"/>\n",
       "<ellipse cx=\"109.5\" cy=\"151.5\" rx=\"9.8\" ry=\"9.8\" class=\"atom-1\" style=\"fill:#FF7F7F;fill-rule:evenodd;stroke:#FF7F7F;stroke-width:1.0px;stroke-linecap:butt;stroke-linejoin:miter;stroke-opacity:1\"/>\n",
       "<ellipse cx=\"88.7\" cy=\"195.7\" rx=\"9.8\" ry=\"9.8\" class=\"atom-2\" style=\"fill:#FF7F7F;fill-rule:evenodd;stroke:#FF7F7F;stroke-width:1.0px;stroke-linecap:butt;stroke-linejoin:miter;stroke-opacity:1\"/>\n",
       "<ellipse cx=\"124.2\" cy=\"229.3\" rx=\"9.8\" ry=\"10.0\" class=\"atom-3\" style=\"fill:#FF7F7F;fill-rule:evenodd;stroke:#FF7F7F;stroke-width:1.0px;stroke-linecap:butt;stroke-linejoin:miter;stroke-opacity:1\"/>\n",
       "<ellipse cx=\"167.1\" cy=\"205.7\" rx=\"9.8\" ry=\"9.8\" class=\"atom-4\" style=\"fill:#FF7F7F;fill-rule:evenodd;stroke:#FF7F7F;stroke-width:1.0px;stroke-linecap:butt;stroke-linejoin:miter;stroke-opacity:1\"/>\n",
       "<ellipse cx=\"211.3\" cy=\"226.5\" rx=\"9.8\" ry=\"9.8\" class=\"atom-5\" style=\"fill:#FF7F7F;fill-rule:evenodd;stroke:#FF7F7F;stroke-width:1.0px;stroke-linecap:butt;stroke-linejoin:miter;stroke-opacity:1\"/>\n",
       "<ellipse cx=\"254.1\" cy=\"203.1\" rx=\"9.8\" ry=\"9.8\" class=\"atom-6\" style=\"fill:#FF7F7F;fill-rule:evenodd;stroke:#FF7F7F;stroke-width:1.0px;stroke-linecap:butt;stroke-linejoin:miter;stroke-opacity:1\"/>\n",
       "<ellipse cx=\"289.7\" cy=\"236.5\" rx=\"9.8\" ry=\"9.8\" class=\"atom-7\" style=\"fill:#FF7F7F;fill-rule:evenodd;stroke:#FF7F7F;stroke-width:1.0px;stroke-linecap:butt;stroke-linejoin:miter;stroke-opacity:1\"/>\n",
       "<ellipse cx=\"336.5\" cy=\"222.5\" rx=\"9.8\" ry=\"9.8\" class=\"atom-8\" style=\"fill:#FF7F7F;fill-rule:evenodd;stroke:#FF7F7F;stroke-width:1.0px;stroke-linecap:butt;stroke-linejoin:miter;stroke-opacity:1\"/>\n",
       "<ellipse cx=\"372.0\" cy=\"256.1\" rx=\"9.8\" ry=\"10.0\" class=\"atom-9\" style=\"fill:#FF7F7F;fill-rule:evenodd;stroke:#FF7F7F;stroke-width:1.0px;stroke-linecap:butt;stroke-linejoin:miter;stroke-opacity:1\"/>\n",
       "<ellipse cx=\"354.4\" cy=\"174.9\" rx=\"17.0\" ry=\"9.8\" class=\"atom-10\" style=\"fill:#FF7F7F;fill-rule:evenodd;stroke:#FF7F7F;stroke-width:1.0px;stroke-linecap:butt;stroke-linejoin:miter;stroke-opacity:1\"/>\n",
       "<ellipse cx=\"312.1\" cy=\"141.4\" rx=\"9.8\" ry=\"9.8\" class=\"atom-11\" style=\"fill:#FF7F7F;fill-rule:evenodd;stroke:#FF7F7F;stroke-width:1.0px;stroke-linecap:butt;stroke-linejoin:miter;stroke-opacity:1\"/>\n",
       "<ellipse cx=\"265.3\" cy=\"155.5\" rx=\"9.8\" ry=\"9.8\" class=\"atom-12\" style=\"fill:#FF7F7F;fill-rule:evenodd;stroke:#FF7F7F;stroke-width:1.0px;stroke-linecap:butt;stroke-linejoin:miter;stroke-opacity:1\"/>\n",
       "<ellipse cx=\"334.4\" cy=\"97.3\" rx=\"23.2\" ry=\"14.7\" class=\"atom-13\" style=\"fill:#FF7F7F;fill-rule:evenodd;stroke:#FF7F7F;stroke-width:1.0px;stroke-linecap:butt;stroke-linejoin:miter;stroke-opacity:1\"/>\n",
       "<ellipse cx=\"275.6\" cy=\"280.7\" rx=\"17.0\" ry=\"9.8\" class=\"atom-14\" style=\"fill:#FF7F7F;fill-rule:evenodd;stroke:#FF7F7F;stroke-width:1.0px;stroke-linecap:butt;stroke-linejoin:miter;stroke-opacity:1\"/>\n",
       "<ellipse cx=\"220.4\" cy=\"274.6\" rx=\"9.8\" ry=\"9.8\" class=\"atom-15\" style=\"fill:#FF7F7F;fill-rule:evenodd;stroke:#FF7F7F;stroke-width:1.0px;stroke-linecap:butt;stroke-linejoin:miter;stroke-opacity:1\"/>\n",
       "<ellipse cx=\"40.6\" cy=\"204.8\" rx=\"9.8\" ry=\"9.8\" class=\"atom-17\" style=\"fill:#FF7F7F;fill-rule:evenodd;stroke:#FF7F7F;stroke-width:1.0px;stroke-linecap:butt;stroke-linejoin:miter;stroke-opacity:1\"/>\n",
       "<ellipse cx=\"79.2\" cy=\"108.8\" rx=\"18.6\" ry=\"10.0\" class=\"atom-19\" style=\"fill:#FF7F7F;fill-rule:evenodd;stroke:#FF7F7F;stroke-width:1.0px;stroke-linecap:butt;stroke-linejoin:miter;stroke-opacity:1\"/>\n",
       "<path class=\"bond-0 atom-0 atom-1\" d=\"M 158.0,157.7 L 109.5,151.5\" style=\"fill:none;fill-rule:evenodd;stroke:#000000;stroke-width:2.0px;stroke-linecap:butt;stroke-linejoin:miter;stroke-opacity:1\"/>\n",
       "<path class=\"bond-1 atom-1 atom-2\" d=\"M 109.5,151.5 L 88.7,195.7\" style=\"fill:none;fill-rule:evenodd;stroke:#000000;stroke-width:2.0px;stroke-linecap:butt;stroke-linejoin:miter;stroke-opacity:1\"/>\n",
       "<path class=\"bond-2 atom-2 atom-3\" d=\"M 88.7,195.7 L 102.5,208.7\" style=\"fill:none;fill-rule:evenodd;stroke:#000000;stroke-width:2.0px;stroke-linecap:butt;stroke-linejoin:miter;stroke-opacity:1\"/>\n",
       "<path class=\"bond-2 atom-2 atom-3\" d=\"M 102.5,208.7 L 116.3,221.7\" style=\"fill:none;fill-rule:evenodd;stroke:#FF0000;stroke-width:2.0px;stroke-linecap:butt;stroke-linejoin:miter;stroke-opacity:1\"/>\n",
       "<path class=\"bond-3 atom-3 atom-4\" d=\"M 132.2,224.8 L 149.6,215.3\" style=\"fill:none;fill-rule:evenodd;stroke:#FF0000;stroke-width:2.0px;stroke-linecap:butt;stroke-linejoin:miter;stroke-opacity:1\"/>\n",
       "<path class=\"bond-3 atom-3 atom-4\" d=\"M 149.6,215.3 L 167.1,205.7\" style=\"fill:none;fill-rule:evenodd;stroke:#000000;stroke-width:2.0px;stroke-linecap:butt;stroke-linejoin:miter;stroke-opacity:1\"/>\n",
       "<path class=\"bond-4 atom-4 atom-5\" d=\"M 167.1,205.7 L 185.7,214.5\" style=\"fill:none;fill-rule:evenodd;stroke:#000000;stroke-width:2.0px;stroke-linecap:butt;stroke-linejoin:miter;stroke-opacity:1\"/>\n",
       "<path class=\"bond-4 atom-4 atom-5\" d=\"M 185.7,214.5 L 204.4,223.3\" style=\"fill:none;fill-rule:evenodd;stroke:#0000FF;stroke-width:2.0px;stroke-linecap:butt;stroke-linejoin:miter;stroke-opacity:1\"/>\n",
       "<path class=\"bond-5 atom-5 atom-6\" d=\"M 218.1,222.8 L 236.1,212.9\" style=\"fill:none;fill-rule:evenodd;stroke:#0000FF;stroke-width:2.0px;stroke-linecap:butt;stroke-linejoin:miter;stroke-opacity:1\"/>\n",
       "<path class=\"bond-5 atom-5 atom-6\" d=\"M 236.1,212.9 L 254.1,203.1\" style=\"fill:none;fill-rule:evenodd;stroke:#000000;stroke-width:2.0px;stroke-linecap:butt;stroke-linejoin:miter;stroke-opacity:1\"/>\n",
       "<path class=\"bond-6 atom-6 atom-7\" d=\"M 254.1,203.1 L 289.7,236.5\" style=\"fill:none;fill-rule:evenodd;stroke:#000000;stroke-width:2.0px;stroke-linecap:butt;stroke-linejoin:miter;stroke-opacity:1\"/>\n",
       "<path class=\"bond-6 atom-6 atom-7\" d=\"M 262.2,200.6 L 291.6,228.3\" style=\"fill:none;fill-rule:evenodd;stroke:#000000;stroke-width:2.0px;stroke-linecap:butt;stroke-linejoin:miter;stroke-opacity:1\"/>\n",
       "<path class=\"bond-7 atom-7 atom-8\" d=\"M 289.7,236.5 L 336.5,222.5\" style=\"fill:none;fill-rule:evenodd;stroke:#000000;stroke-width:2.0px;stroke-linecap:butt;stroke-linejoin:miter;stroke-opacity:1\"/>\n",
       "<path class=\"bond-8 atom-8 atom-9\" d=\"M 332.4,223.7 L 347.0,237.4\" style=\"fill:none;fill-rule:evenodd;stroke:#000000;stroke-width:2.0px;stroke-linecap:butt;stroke-linejoin:miter;stroke-opacity:1\"/>\n",
       "<path class=\"bond-8 atom-8 atom-9\" d=\"M 347.0,237.4 L 361.6,251.1\" style=\"fill:none;fill-rule:evenodd;stroke:#FF0000;stroke-width:2.0px;stroke-linecap:butt;stroke-linejoin:miter;stroke-opacity:1\"/>\n",
       "<path class=\"bond-8 atom-8 atom-9\" d=\"M 337.4,218.3 L 352.0,232.1\" style=\"fill:none;fill-rule:evenodd;stroke:#000000;stroke-width:2.0px;stroke-linecap:butt;stroke-linejoin:miter;stroke-opacity:1\"/>\n",
       "<path class=\"bond-8 atom-8 atom-9\" d=\"M 352.0,232.1 L 366.6,245.8\" style=\"fill:none;fill-rule:evenodd;stroke:#FF0000;stroke-width:2.0px;stroke-linecap:butt;stroke-linejoin:miter;stroke-opacity:1\"/>\n",
       "<path class=\"bond-9 atom-8 atom-10\" d=\"M 336.5,222.5 L 341.1,203.0\" style=\"fill:none;fill-rule:evenodd;stroke:#000000;stroke-width:2.0px;stroke-linecap:butt;stroke-linejoin:miter;stroke-opacity:1\"/>\n",
       "<path class=\"bond-9 atom-8 atom-10\" d=\"M 341.1,203.0 L 345.7,183.4\" style=\"fill:none;fill-rule:evenodd;stroke:#0000FF;stroke-width:2.0px;stroke-linecap:butt;stroke-linejoin:miter;stroke-opacity:1\"/>\n",
       "<path class=\"bond-10 atom-10 atom-11\" d=\"M 340.8,168.5 L 326.5,154.9\" style=\"fill:none;fill-rule:evenodd;stroke:#0000FF;stroke-width:2.0px;stroke-linecap:butt;stroke-linejoin:miter;stroke-opacity:1\"/>\n",
       "<path class=\"bond-10 atom-10 atom-11\" d=\"M 326.5,154.9 L 312.1,141.4\" style=\"fill:none;fill-rule:evenodd;stroke:#000000;stroke-width:2.0px;stroke-linecap:butt;stroke-linejoin:miter;stroke-opacity:1\"/>\n",
       "<path class=\"bond-11 atom-11 atom-12\" d=\"M 312.1,141.4 L 292.1,147.4\" style=\"fill:none;fill-rule:evenodd;stroke:#000000;stroke-width:2.0px;stroke-linecap:butt;stroke-linejoin:miter;stroke-opacity:1\"/>\n",
       "<path class=\"bond-11 atom-11 atom-12\" d=\"M 292.1,147.4 L 272.2,153.4\" style=\"fill:none;fill-rule:evenodd;stroke:#0000FF;stroke-width:2.0px;stroke-linecap:butt;stroke-linejoin:miter;stroke-opacity:1\"/>\n",
       "<path class=\"bond-11 atom-11 atom-12\" d=\"M 310.1,149.7 L 292.2,155.1\" style=\"fill:none;fill-rule:evenodd;stroke:#000000;stroke-width:2.0px;stroke-linecap:butt;stroke-linejoin:miter;stroke-opacity:1\"/>\n",
       "<path class=\"bond-11 atom-11 atom-12\" d=\"M 292.2,155.1 L 274.3,160.5\" style=\"fill:none;fill-rule:evenodd;stroke:#0000FF;stroke-width:2.0px;stroke-linecap:butt;stroke-linejoin:miter;stroke-opacity:1\"/>\n",
       "<path class=\"bond-12 atom-11 atom-13\" d=\"M 312.1,141.4 L 316.7,121.9\" style=\"fill:none;fill-rule:evenodd;stroke:#000000;stroke-width:2.0px;stroke-linecap:butt;stroke-linejoin:miter;stroke-opacity:1\"/>\n",
       "<path class=\"bond-12 atom-11 atom-13\" d=\"M 316.7,121.9 L 321.3,102.4\" style=\"fill:none;fill-rule:evenodd;stroke:#0000FF;stroke-width:2.0px;stroke-linecap:butt;stroke-linejoin:miter;stroke-opacity:1\"/>\n",
       "<path class=\"bond-13 atom-7 atom-14\" d=\"M 289.7,236.5 L 281.3,254.4\" style=\"fill:none;fill-rule:evenodd;stroke:#000000;stroke-width:2.0px;stroke-linecap:butt;stroke-linejoin:miter;stroke-opacity:1\"/>\n",
       "<path class=\"bond-13 atom-7 atom-14\" d=\"M 281.3,254.4 L 272.9,272.2\" style=\"fill:none;fill-rule:evenodd;stroke:#0000FF;stroke-width:2.0px;stroke-linecap:butt;stroke-linejoin:miter;stroke-opacity:1\"/>\n",
       "<path class=\"bond-14 atom-14 atom-15\" d=\"M 262.0,279.9 L 241.2,277.2\" style=\"fill:none;fill-rule:evenodd;stroke:#0000FF;stroke-width:2.0px;stroke-linecap:butt;stroke-linejoin:miter;stroke-opacity:1\"/>\n",
       "<path class=\"bond-14 atom-14 atom-15\" d=\"M 241.2,277.2 L 220.4,274.6\" style=\"fill:none;fill-rule:evenodd;stroke:#000000;stroke-width:2.0px;stroke-linecap:butt;stroke-linejoin:miter;stroke-opacity:1\"/>\n",
       "<path class=\"bond-15 atom-15 atom-16\" d=\"M 219.5,270.1 L 205.8,284.6\" style=\"fill:none;fill-rule:evenodd;stroke:#000000;stroke-width:2.0px;stroke-linecap:butt;stroke-linejoin:miter;stroke-opacity:1\"/>\n",
       "<path class=\"bond-15 atom-15 atom-16\" d=\"M 205.8,284.6 L 192.2,299.2\" style=\"fill:none;fill-rule:evenodd;stroke:#FF0000;stroke-width:2.0px;stroke-linecap:butt;stroke-linejoin:miter;stroke-opacity:1\"/>\n",
       "<path class=\"bond-15 atom-15 atom-16\" d=\"M 224.9,275.1 L 211.2,289.7\" style=\"fill:none;fill-rule:evenodd;stroke:#000000;stroke-width:2.0px;stroke-linecap:butt;stroke-linejoin:miter;stroke-opacity:1\"/>\n",
       "<path class=\"bond-15 atom-15 atom-16\" d=\"M 211.2,289.7 L 197.5,304.2\" style=\"fill:none;fill-rule:evenodd;stroke:#FF0000;stroke-width:2.0px;stroke-linecap:butt;stroke-linejoin:miter;stroke-opacity:1\"/>\n",
       "<path class=\"bond-16 atom-2 atom-17\" d=\"M 88.7,195.7 L 40.6,204.8\" style=\"fill:none;fill-rule:evenodd;stroke:#000000;stroke-width:2.0px;stroke-linecap:butt;stroke-linejoin:miter;stroke-opacity:1\"/>\n",
       "<path class=\"bond-17 atom-17 atom-18\" d=\"M 40.6,204.8 L 34.1,223.6\" style=\"fill:none;fill-rule:evenodd;stroke:#000000;stroke-width:2.0px;stroke-linecap:butt;stroke-linejoin:miter;stroke-opacity:1\"/>\n",
       "<path class=\"bond-17 atom-17 atom-18\" d=\"M 34.1,223.6 L 27.5,242.3\" style=\"fill:none;fill-rule:evenodd;stroke:#FF0000;stroke-width:2.0px;stroke-linecap:butt;stroke-linejoin:miter;stroke-opacity:1\"/>\n",
       "<path class=\"bond-18 atom-1 atom-19\" d=\"M 109.5,151.5 L 100.2,134.5\" style=\"fill:none;fill-rule:evenodd;stroke:#000000;stroke-width:2.0px;stroke-linecap:butt;stroke-linejoin:miter;stroke-opacity:1\"/>\n",
       "<path class=\"bond-18 atom-1 atom-19\" d=\"M 100.2,134.5 L 90.8,117.5\" style=\"fill:none;fill-rule:evenodd;stroke:#FF0000;stroke-width:2.0px;stroke-linecap:butt;stroke-linejoin:miter;stroke-opacity:1\"/>\n",
       "<path class=\"bond-19 atom-4 atom-0\" d=\"M 167.1,205.7 L 158.0,157.7\" style=\"fill:none;fill-rule:evenodd;stroke:#000000;stroke-width:2.0px;stroke-linecap:butt;stroke-linejoin:miter;stroke-opacity:1\"/>\n",
       "<path class=\"bond-20 atom-15 atom-5\" d=\"M 220.4,274.6 L 216.6,254.8\" style=\"fill:none;fill-rule:evenodd;stroke:#000000;stroke-width:2.0px;stroke-linecap:butt;stroke-linejoin:miter;stroke-opacity:1\"/>\n",
       "<path class=\"bond-20 atom-15 atom-5\" d=\"M 216.6,254.8 L 212.9,235.1\" style=\"fill:none;fill-rule:evenodd;stroke:#0000FF;stroke-width:2.0px;stroke-linecap:butt;stroke-linejoin:miter;stroke-opacity:1\"/>\n",
       "<path class=\"bond-21 atom-12 atom-6\" d=\"M 263.3,164.0 L 258.7,183.5\" style=\"fill:none;fill-rule:evenodd;stroke:#0000FF;stroke-width:2.0px;stroke-linecap:butt;stroke-linejoin:miter;stroke-opacity:1\"/>\n",
       "<path class=\"bond-21 atom-12 atom-6\" d=\"M 258.7,183.5 L 254.1,203.1\" style=\"fill:none;fill-rule:evenodd;stroke:#000000;stroke-width:2.0px;stroke-linecap:butt;stroke-linejoin:miter;stroke-opacity:1\"/>\n",
       "<path d=\"M 155.5,157.4 L 158.0,157.7 L 158.4,160.1\" style=\"fill:none;stroke:#000000;stroke-width:2.0px;stroke-linecap:butt;stroke-linejoin:miter;stroke-opacity:1;\"/>\n",
       "<path d=\"M 334.1,223.2 L 336.5,222.5 L 336.7,221.5\" style=\"fill:none;stroke:#000000;stroke-width:2.0px;stroke-linecap:butt;stroke-linejoin:miter;stroke-opacity:1;\"/>\n",
       "<path d=\"M 221.4,274.7 L 220.4,274.6 L 220.2,273.6\" style=\"fill:none;stroke:#000000;stroke-width:2.0px;stroke-linecap:butt;stroke-linejoin:miter;stroke-opacity:1;\"/>\n",
       "<path d=\"M 43.0,204.4 L 40.6,204.8 L 40.3,205.8\" style=\"fill:none;stroke:#000000;stroke-width:2.0px;stroke-linecap:butt;stroke-linejoin:miter;stroke-opacity:1;\"/>\n",
       "<path class=\"atom-3\" d=\"M 117.9 229.2 Q 117.9 225.9, 119.5 224.1 Q 121.2 222.2, 124.2 222.2 Q 127.3 222.2, 128.9 224.1 Q 130.6 225.9, 130.6 229.2 Q 130.6 232.6, 128.9 234.5 Q 127.3 236.4, 124.2 236.4 Q 121.2 236.4, 119.5 234.5 Q 117.9 232.6, 117.9 229.2 M 124.2 234.8 Q 126.3 234.8, 127.5 233.4 Q 128.6 232.0, 128.6 229.2 Q 128.6 226.5, 127.5 225.1 Q 126.3 223.8, 124.2 223.8 Q 122.1 223.8, 121.0 225.1 Q 119.8 226.5, 119.8 229.2 Q 119.8 232.0, 121.0 233.4 Q 122.1 234.8, 124.2 234.8 \" fill=\"#FF0000\"/>\n",
       "<path class=\"atom-5\" d=\"M 208.2 219.6 L 212.7 227.0 Q 213.2 227.7, 213.9 229.0 Q 214.6 230.3, 214.7 230.4 L 214.7 219.6 L 216.5 219.6 L 216.5 233.5 L 214.6 233.5 L 209.7 225.5 Q 209.2 224.5, 208.6 223.4 Q 208.0 222.4, 207.8 222.0 L 207.8 233.5 L 206.0 233.5 L 206.0 219.6 L 208.2 219.6 \" fill=\"#0000FF\"/>\n",
       "<path class=\"atom-9\" d=\"M 365.7 256.0 Q 365.7 252.7, 367.3 250.8 Q 369.0 249.0, 372.0 249.0 Q 375.1 249.0, 376.8 250.8 Q 378.4 252.7, 378.4 256.0 Q 378.4 259.3, 376.7 261.3 Q 375.1 263.2, 372.0 263.2 Q 369.0 263.2, 367.3 261.3 Q 365.7 259.4, 365.7 256.0 M 372.0 261.6 Q 374.2 261.6, 375.3 260.2 Q 376.4 258.8, 376.4 256.0 Q 376.4 253.3, 375.3 251.9 Q 374.2 250.5, 372.0 250.5 Q 369.9 250.5, 368.8 251.9 Q 367.6 253.3, 367.6 256.0 Q 367.6 258.8, 368.8 260.2 Q 369.9 261.6, 372.0 261.6 \" fill=\"#FF0000\"/>\n",
       "<path class=\"atom-10\" d=\"M 344.6 168.0 L 349.1 175.3 Q 349.6 176.0, 350.3 177.4 Q 351.0 178.7, 351.1 178.7 L 351.1 168.0 L 352.9 168.0 L 352.9 181.8 L 351.0 181.8 L 346.2 173.8 Q 345.6 172.9, 345.0 171.8 Q 344.4 170.7, 344.2 170.4 L 344.2 181.8 L 342.4 181.8 L 342.4 168.0 L 344.6 168.0 \" fill=\"#0000FF\"/>\n",
       "<path class=\"atom-10\" d=\"M 355.6 168.0 L 357.5 168.0 L 357.5 173.9 L 364.6 173.9 L 364.6 168.0 L 366.4 168.0 L 366.4 181.8 L 364.6 181.8 L 364.6 175.4 L 357.5 175.4 L 357.5 181.8 L 355.6 181.8 L 355.6 168.0 \" fill=\"#0000FF\"/>\n",
       "<path class=\"atom-12\" d=\"M 262.2 148.6 L 266.8 155.9 Q 267.2 156.6, 268.0 157.9 Q 268.7 159.3, 268.7 159.3 L 268.7 148.6 L 270.5 148.6 L 270.5 162.4 L 268.7 162.4 L 263.8 154.4 Q 263.2 153.5, 262.6 152.4 Q 262.0 151.3, 261.9 151.0 L 261.9 162.4 L 260.1 162.4 L 260.1 148.6 L 262.2 148.6 \" fill=\"#0000FF\"/>\n",
       "<path class=\"atom-13\" d=\"M 320.2 87.0 L 324.8 94.3 Q 325.2 95.0, 325.9 96.3 Q 326.7 97.6, 326.7 97.7 L 326.7 87.0 L 328.5 87.0 L 328.5 100.8 L 326.6 100.8 L 321.8 92.8 Q 321.2 91.8, 320.6 90.8 Q 320.0 89.7, 319.8 89.4 L 319.8 100.8 L 318.0 100.8 L 318.0 87.0 L 320.2 87.0 \" fill=\"#0000FF\"/>\n",
       "<path class=\"atom-13\" d=\"M 331.2 87.0 L 333.1 87.0 L 333.1 92.8 L 340.1 92.8 L 340.1 87.0 L 342.0 87.0 L 342.0 100.8 L 340.1 100.8 L 340.1 94.4 L 333.1 94.4 L 333.1 100.8 L 331.2 100.8 L 331.2 87.0 \" fill=\"#0000FF\"/>\n",
       "<path class=\"atom-13\" d=\"M 344.7 100.3 Q 345.1 99.4, 345.9 99.0 Q 346.7 98.5, 347.8 98.5 Q 349.1 98.5, 349.9 99.2 Q 350.7 100.0, 350.7 101.3 Q 350.7 102.7, 349.7 103.9 Q 348.7 105.2, 346.6 106.7 L 350.8 106.7 L 350.8 107.7 L 344.7 107.7 L 344.7 106.8 Q 346.4 105.6, 347.4 104.7 Q 348.4 103.8, 348.9 103.0 Q 349.4 102.2, 349.4 101.4 Q 349.4 100.5, 349.0 100.0 Q 348.5 99.5, 347.8 99.5 Q 347.0 99.5, 346.5 99.8 Q 346.1 100.1, 345.7 100.8 L 344.7 100.3 \" fill=\"#0000FF\"/>\n",
       "<path class=\"atom-14\" d=\"M 265.8 273.8 L 270.3 281.1 Q 270.8 281.9, 271.5 283.2 Q 272.2 284.5, 272.2 284.6 L 272.2 273.8 L 274.1 273.8 L 274.1 287.6 L 272.2 287.6 L 267.3 279.6 Q 266.7 278.7, 266.1 277.6 Q 265.6 276.5, 265.4 276.2 L 265.4 287.6 L 263.6 287.6 L 263.6 273.8 L 265.8 273.8 \" fill=\"#0000FF\"/>\n",
       "<path class=\"atom-14\" d=\"M 276.8 273.8 L 278.6 273.8 L 278.6 279.7 L 285.7 279.7 L 285.7 273.8 L 287.6 273.8 L 287.6 287.6 L 285.7 287.6 L 285.7 281.3 L 278.6 281.3 L 278.6 287.6 L 276.8 287.6 L 276.8 273.8 \" fill=\"#0000FF\"/>\n",
       "<path class=\"atom-16\" d=\"M 180.5 310.2 Q 180.5 306.9, 182.2 305.0 Q 183.8 303.1, 186.9 303.1 Q 189.9 303.1, 191.6 305.0 Q 193.2 306.9, 193.2 310.2 Q 193.2 313.5, 191.6 315.4 Q 189.9 317.3, 186.9 317.3 Q 183.8 317.3, 182.2 315.4 Q 180.5 313.6, 180.5 310.2 M 186.9 315.8 Q 189.0 315.8, 190.1 314.4 Q 191.3 312.9, 191.3 310.2 Q 191.3 307.5, 190.1 306.1 Q 189.0 304.7, 186.9 304.7 Q 184.8 304.7, 183.6 306.1 Q 182.5 307.4, 182.5 310.2 Q 182.5 313.0, 183.6 314.4 Q 184.8 315.8, 186.9 315.8 \" fill=\"#FF0000\"/>\n",
       "<path class=\"atom-18\" d=\"M 18.2 251.0 Q 18.2 247.7, 19.8 245.8 Q 21.5 243.9, 24.5 243.9 Q 27.6 243.9, 29.2 245.8 Q 30.9 247.7, 30.9 251.0 Q 30.9 254.3, 29.2 256.3 Q 27.6 258.2, 24.5 258.2 Q 21.5 258.2, 19.8 256.3 Q 18.2 254.4, 18.2 251.0 M 24.5 256.6 Q 26.6 256.6, 27.8 255.2 Q 28.9 253.8, 28.9 251.0 Q 28.9 248.3, 27.8 246.9 Q 26.6 245.5, 24.5 245.5 Q 22.4 245.5, 21.3 246.9 Q 20.1 248.2, 20.1 251.0 Q 20.1 253.8, 21.3 255.2 Q 22.4 256.6, 24.5 256.6 \" fill=\"#FF0000\"/>\n",
       "<path class=\"atom-18\" d=\"M 33.0 244.1 L 34.9 244.1 L 34.9 250.0 L 42.0 250.0 L 42.0 244.1 L 43.9 244.1 L 43.9 257.9 L 42.0 257.9 L 42.0 251.5 L 34.9 251.5 L 34.9 257.9 L 33.0 257.9 L 33.0 244.1 \" fill=\"#FF0000\"/>\n",
       "<path class=\"atom-19\" d=\"M 66.0 101.8 L 67.9 101.8 L 67.9 107.7 L 74.9 107.7 L 74.9 101.8 L 76.8 101.8 L 76.8 115.7 L 74.9 115.7 L 74.9 109.3 L 67.9 109.3 L 67.9 115.7 L 66.0 115.7 L 66.0 101.8 \" fill=\"#FF0000\"/>\n",
       "<path class=\"atom-19\" d=\"M 79.7 108.7 Q 79.7 105.4, 81.3 103.5 Q 82.9 101.7, 86.0 101.7 Q 89.1 101.7, 90.7 103.5 Q 92.4 105.4, 92.4 108.7 Q 92.4 112.1, 90.7 114.0 Q 89.0 115.9, 86.0 115.9 Q 83.0 115.9, 81.3 114.0 Q 79.7 112.1, 79.7 108.7 M 86.0 114.3 Q 88.1 114.3, 89.2 112.9 Q 90.4 111.5, 90.4 108.7 Q 90.4 106.0, 89.2 104.6 Q 88.1 103.3, 86.0 103.3 Q 83.9 103.3, 82.7 104.6 Q 81.6 106.0, 81.6 108.7 Q 81.6 111.5, 82.7 112.9 Q 83.9 114.3, 86.0 114.3 \" fill=\"#FF0000\"/>\n",
       "</svg>"
      ],
      "text/plain": [
       "<IPython.core.display.SVG object>"
      ]
     },
     "metadata": {},
     "output_type": "display_data"
    }
   ],
   "source": [
    "from rdkit import Chem\n",
    "from rdkit.Chem import Draw\n",
    "from rdkit.Chem.Draw import rdMolDraw2D  # Correct import for drawing utilities\n",
    "from IPython.display import SVG  # Import SVG for displaying inline in Jupyter\n",
    "\n",
    "def find_subgroups(substrate_smiles, subgroup_smiles):\n",
    "    \"\"\"\n",
    "    Finds all instances of a specified subgroup in a substrate and highlights them in the original molecule.\n",
    "    \n",
    "    Parameters:\n",
    "    - substrate_smiles (str): SMILES string of the substrate molecule.\n",
    "    - subgroup_smiles (str): SMILES string of the subgroup to be found.\n",
    "    \n",
    "    Returns:\n",
    "    - list: List of indices of atoms in each found subgroup.\n",
    "    - Visualization: Shows the original molecule with highlighted subgroups.\n",
    "    \"\"\"\n",
    "    substrate = Chem.MolFromSmiles(substrate_smiles)\n",
    "    subgroup = Chem.MolFromSmiles(subgroup_smiles)\n",
    "    \n",
    "    matches = substrate.GetSubstructMatches(subgroup, uniquify=True)\n",
    "    if not matches:\n",
    "        print(\"No matches found.\")\n",
    "        return []\n",
    "    \n",
    "    # Highlight the matching subgroups in the substrate molecule\n",
    "    print(f\"Found {len(matches)} match(es).\")\n",
    "    for match in matches:\n",
    "        print(\"Atoms in match:\", match)\n",
    "    \n",
    "    # Visualization part: highlight subgroups in the original molecule\n",
    "    d = rdMolDraw2D.MolDraw2DSVG(400, 400)\n",
    "    rdMolDraw2D.PrepareAndDrawMolecule(d, substrate, highlightAtoms=sum(matches, ()))\n",
    "    d.FinishDrawing()\n",
    "    display(SVG(d.GetDrawingText()))\n",
    "\n",
    "    return matches  # Returning the list of matches (atom indices in each match)\n",
    "\n",
    "# Example usage\n",
    "substrate_smiles = \"C1C(C(OC1N2C3=C(C(=O)NC(=N3)N)NC2=O)CO)O\"\n",
    "subgroup_smiles = \"c1nc2c(n1[C@H]3C[C@@H]([C@H](O3)C)O)[nH]c(nc2=O)N\"  # Phosphate group to replace\n",
    "replacement_smiles = None\n",
    "matches = find_subgroups(substrate_smiles, subgroup_smiles)"
   ]
  },
  {
   "cell_type": "markdown",
   "id": "65d6a445",
   "metadata": {},
   "source": [
    "***************"
   ]
  },
  {
   "cell_type": "code",
   "execution_count": 58,
   "id": "f70eb87d",
   "metadata": {},
   "outputs": [],
   "source": [
    "def drop_group(substrate, subgroup, replacement_group=None):\n",
    "    substrate_mol = Chem.MolFromSmiles(substrate)\n",
    "    subgroup_mol = Chem.MolFromSmiles(subgroup)\n",
    "    replacement_mol = Chem.MolFromSmiles(replacement_group) if replacement_group else None\n",
    "    \n",
    "    matches = substrate_mol.GetSubstructMatches(subgroup_mol, uniquify=True)\n",
    "    modified_molecules = set()\n",
    "\n",
    "    for match in matches:\n",
    "        editable_mol = Chem.RWMol(Chem.Mol(substrate_mol))\n",
    "        \n",
    "        # Collect atoms to remove and check ring status\n",
    "        atoms_to_remove = []\n",
    "        ring_atoms_to_modify = []  # List to keep track of ring atoms\n",
    "        for atom_idx in match:\n",
    "            atom = editable_mol.GetAtomWithIdx(atom_idx)\n",
    "            for neighbor in atom.GetNeighbors():\n",
    "                if neighbor.GetIdx() not in match:\n",
    "                    if neighbor.IsInRing():\n",
    "                        ring_atoms_to_modify.append(neighbor.GetIdx())\n",
    "                    break\n",
    "            else:\n",
    "                atoms_to_remove.append(atom_idx)\n",
    "        \n",
    "        # Remove specified atoms\n",
    "        for atom_idx in sorted(atoms_to_remove, reverse=True):\n",
    "            editable_mol.RemoveAtom(atom_idx)\n",
    "        \n",
    "        # If a replacement molecule is provided, handle its addition here\n",
    "        # Note: The logic for adding a replacement group, especially with bond creation, might need to be adjusted \n",
    "        # based on the specific requirements and chemical validity.\n",
    "\n",
    "        # After removal and optional replacement, iterate over ring atoms to modify\n",
    "        # Since directly changing SMILES characters is not straightforward, consider adjusting atom properties or annotations\n",
    "        # to indicate modifications or special conditions for ring atoms.\n",
    "        # Direct manipulation of the SMILES string to change characters to uppercase is not chemically meaningful\n",
    "        # and not supported by RDKit directly.\n",
    "\n",
    "        modified_molecule = editable_mol.GetMol()  # Finalize modifications\n",
    "        \n",
    "        modified_smiles = Chem.MolToSmiles(modified_molecule, isomericSmiles=True)\n",
    "        modified_molecules.add(modified_smiles)\n",
    "    \n",
    "    if not modified_molecules:\n",
    "        return [substrate]  # Return the original if no modifications were made\n",
    "    \n",
    "    return list(modified_molecules)\n",
    "\n",
    "\n",
    "\n",
    "substrate = \"C1C(C(OC1N2C=NC3=C(N=CN=C32)N)COP(=O)(O)O)O\"\n",
    "subgroup = 'C1C(C(OC1N2C=NC3=C(N=CN=C32)N)CO)O'\n",
    "replacement_group = None\n",
    "\n",
    "products_smiles = drop_group(substrate, subgroup, replacement_group)"
   ]
  },
  {
   "cell_type": "code",
   "execution_count": 59,
   "id": "ea4cb99d",
   "metadata": {},
   "outputs": [
    {
     "data": {
      "text/plain": [
       "['O=P(O)(O)O']"
      ]
     },
     "execution_count": 59,
     "metadata": {},
     "output_type": "execute_result"
    }
   ],
   "source": [
    "products_smiles"
   ]
  },
  {
   "cell_type": "code",
   "execution_count": 60,
   "id": "e4021780",
   "metadata": {},
   "outputs": [],
   "source": [
    "def check_smiles_availability(smiles_list):\n",
    "    \"\"\"\n",
    "    For available SMILES in the list, keep them.\n",
    "    For unavailable SMILES, change all the characters to uppercase and check again.\n",
    "    If the uppercase version is available, keep it. Otherwise, drop it.\n",
    "\n",
    "    :param smiles_list: List of SMILES strings\n",
    "    :return: List of available SMILES strings after processing\n",
    "    \"\"\"\n",
    "    # Placeholder function to simulate checking the availability of a SMILES string\n",
    "    def is_available(smiles):\n",
    "        # Replace this with actual logic to check SMILES availability in a database\n",
    "        # For demonstration, let's pretend all lowercase SMILES are unavailable\n",
    "        return smiles.isupper()\n",
    "    \n",
    "    available_smiles = []\n",
    "    for smiles in smiles_list:\n",
    "        # Check if the SMILES is available\n",
    "        if is_available(smiles):\n",
    "            available_smiles.append(smiles)\n",
    "        else:\n",
    "            # If not available, convert to uppercase and check again\n",
    "            smiles_upper = smiles.upper()\n",
    "            if is_available(smiles_upper):\n",
    "                available_smiles.append(smiles_upper)\n",
    "            # If still not available, it is dropped\n",
    "    \n",
    "    return available_smiles"
   ]
  },
  {
   "cell_type": "code",
   "execution_count": null,
   "id": "e514e9aa",
   "metadata": {},
   "outputs": [],
   "source": []
  },
  {
   "cell_type": "code",
   "execution_count": null,
   "id": "bd65f0c0",
   "metadata": {},
   "outputs": [],
   "source": []
  }
 ],
 "metadata": {
  "kernelspec": {
   "display_name": "Python 3 (ipykernel)",
   "language": "python",
   "name": "python3"
  },
  "language_info": {
   "codemirror_mode": {
    "name": "ipython",
    "version": 3
   },
   "file_extension": ".py",
   "mimetype": "text/x-python",
   "name": "python",
   "nbconvert_exporter": "python",
   "pygments_lexer": "ipython3",
   "version": "3.9.7"
  }
 },
 "nbformat": 4,
 "nbformat_minor": 5
}
